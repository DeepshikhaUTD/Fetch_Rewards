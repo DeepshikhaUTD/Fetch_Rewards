{
  "nbformat": 4,
  "nbformat_minor": 0,
  "metadata": {
    "colab": {
      "provenance": []
    },
    "kernelspec": {
      "name": "python3",
      "display_name": "Python 3"
    },
    "language_info": {
      "name": "python"
    }
  },
  "cells": [
    {
      "cell_type": "code",
      "execution_count": 2,
      "metadata": {
        "id": "m-o6wC0TAKOr"
      },
      "outputs": [],
      "source": [
        "#!pip install pandasql\n",
        "import pandas as pd\n",
        "from pandasql import sqldf\n"
      ]
    },
    {
      "cell_type": "markdown",
      "source": [
        "# **Importing Products Table**\n",
        "\n"
      ],
      "metadata": {
        "id": "b08yf1cHMBU-"
      }
    },
    {
      "cell_type": "code",
      "source": [
        "# Read the CSV file into a pandas DataFrame\n",
        "df_products = pd.read_csv('PRODUCTS_TAKEHOME.csv', na_values=['', ' ', 'NA', 'NULL','nan'])\n",
        "\n",
        "#Inspect Products table\n",
        "print(df_products.shape)\n",
        "df_products.info()\n",
        "df_products.head()"
      ],
      "metadata": {
        "colab": {
          "base_uri": "https://localhost:8080/",
          "height": 561
        },
        "id": "fHM5Ad1cBzLx",
        "outputId": "3c6bb682-28fa-432e-c0c0-58d1cef9661f"
      },
      "execution_count": 3,
      "outputs": [
        {
          "output_type": "stream",
          "name": "stdout",
          "text": [
            "(845552, 7)\n",
            "<class 'pandas.core.frame.DataFrame'>\n",
            "RangeIndex: 845552 entries, 0 to 845551\n",
            "Data columns (total 7 columns):\n",
            " #   Column        Non-Null Count   Dtype  \n",
            "---  ------        --------------   -----  \n",
            " 0   CATEGORY_1    845441 non-null  object \n",
            " 1   CATEGORY_2    844128 non-null  object \n",
            " 2   CATEGORY_3    784986 non-null  object \n",
            " 3   CATEGORY_4    67459 non-null   object \n",
            " 4   MANUFACTURER  619078 non-null  object \n",
            " 5   BRAND         619080 non-null  object \n",
            " 6   BARCODE       841527 non-null  float64\n",
            "dtypes: float64(1), object(6)\n",
            "memory usage: 45.2+ MB\n"
          ]
        },
        {
          "output_type": "execute_result",
          "data": {
            "text/plain": [
              "          CATEGORY_1              CATEGORY_2                   CATEGORY_3  \\\n",
              "0  Health & Wellness           Sexual Health  Conductivity Gels & Lotions   \n",
              "1             Snacks           Puffed Snacks         Cheese Curls & Puffs   \n",
              "2  Health & Wellness               Hair Care        Hair Care Accessories   \n",
              "3  Health & Wellness               Oral Care                   Toothpaste   \n",
              "4  Health & Wellness  Medicines & Treatments               Essential Oils   \n",
              "\n",
              "  CATEGORY_4                                       MANUFACTURER  \\\n",
              "0        NaN                                                NaN   \n",
              "1        NaN                                                NaN   \n",
              "2        NaN                           PLACEHOLDER MANUFACTURER   \n",
              "3        NaN                                  COLGATE-PALMOLIVE   \n",
              "4        NaN  MAPLE HOLISTICS AND HONEYDEW PRODUCTS INTERCHA...   \n",
              "\n",
              "             BRAND       BARCODE  \n",
              "0              NaN  7.964944e+11  \n",
              "1              NaN  2.327801e+10  \n",
              "2          ELECSOP  4.618178e+11  \n",
              "3          COLGATE  3.500047e+10  \n",
              "4  MAPLE HOLISTICS  8.068109e+11  "
            ],
            "text/html": [
              "\n",
              "  <div id=\"df-15cac9e6-6940-486a-9e21-9cd42c35dab7\" class=\"colab-df-container\">\n",
              "    <div>\n",
              "<style scoped>\n",
              "    .dataframe tbody tr th:only-of-type {\n",
              "        vertical-align: middle;\n",
              "    }\n",
              "\n",
              "    .dataframe tbody tr th {\n",
              "        vertical-align: top;\n",
              "    }\n",
              "\n",
              "    .dataframe thead th {\n",
              "        text-align: right;\n",
              "    }\n",
              "</style>\n",
              "<table border=\"1\" class=\"dataframe\">\n",
              "  <thead>\n",
              "    <tr style=\"text-align: right;\">\n",
              "      <th></th>\n",
              "      <th>CATEGORY_1</th>\n",
              "      <th>CATEGORY_2</th>\n",
              "      <th>CATEGORY_3</th>\n",
              "      <th>CATEGORY_4</th>\n",
              "      <th>MANUFACTURER</th>\n",
              "      <th>BRAND</th>\n",
              "      <th>BARCODE</th>\n",
              "    </tr>\n",
              "  </thead>\n",
              "  <tbody>\n",
              "    <tr>\n",
              "      <th>0</th>\n",
              "      <td>Health &amp; Wellness</td>\n",
              "      <td>Sexual Health</td>\n",
              "      <td>Conductivity Gels &amp; Lotions</td>\n",
              "      <td>NaN</td>\n",
              "      <td>NaN</td>\n",
              "      <td>NaN</td>\n",
              "      <td>7.964944e+11</td>\n",
              "    </tr>\n",
              "    <tr>\n",
              "      <th>1</th>\n",
              "      <td>Snacks</td>\n",
              "      <td>Puffed Snacks</td>\n",
              "      <td>Cheese Curls &amp; Puffs</td>\n",
              "      <td>NaN</td>\n",
              "      <td>NaN</td>\n",
              "      <td>NaN</td>\n",
              "      <td>2.327801e+10</td>\n",
              "    </tr>\n",
              "    <tr>\n",
              "      <th>2</th>\n",
              "      <td>Health &amp; Wellness</td>\n",
              "      <td>Hair Care</td>\n",
              "      <td>Hair Care Accessories</td>\n",
              "      <td>NaN</td>\n",
              "      <td>PLACEHOLDER MANUFACTURER</td>\n",
              "      <td>ELECSOP</td>\n",
              "      <td>4.618178e+11</td>\n",
              "    </tr>\n",
              "    <tr>\n",
              "      <th>3</th>\n",
              "      <td>Health &amp; Wellness</td>\n",
              "      <td>Oral Care</td>\n",
              "      <td>Toothpaste</td>\n",
              "      <td>NaN</td>\n",
              "      <td>COLGATE-PALMOLIVE</td>\n",
              "      <td>COLGATE</td>\n",
              "      <td>3.500047e+10</td>\n",
              "    </tr>\n",
              "    <tr>\n",
              "      <th>4</th>\n",
              "      <td>Health &amp; Wellness</td>\n",
              "      <td>Medicines &amp; Treatments</td>\n",
              "      <td>Essential Oils</td>\n",
              "      <td>NaN</td>\n",
              "      <td>MAPLE HOLISTICS AND HONEYDEW PRODUCTS INTERCHA...</td>\n",
              "      <td>MAPLE HOLISTICS</td>\n",
              "      <td>8.068109e+11</td>\n",
              "    </tr>\n",
              "  </tbody>\n",
              "</table>\n",
              "</div>\n",
              "    <div class=\"colab-df-buttons\">\n",
              "\n",
              "  <div class=\"colab-df-container\">\n",
              "    <button class=\"colab-df-convert\" onclick=\"convertToInteractive('df-15cac9e6-6940-486a-9e21-9cd42c35dab7')\"\n",
              "            title=\"Convert this dataframe to an interactive table.\"\n",
              "            style=\"display:none;\">\n",
              "\n",
              "  <svg xmlns=\"http://www.w3.org/2000/svg\" height=\"24px\" viewBox=\"0 -960 960 960\">\n",
              "    <path d=\"M120-120v-720h720v720H120Zm60-500h600v-160H180v160Zm220 220h160v-160H400v160Zm0 220h160v-160H400v160ZM180-400h160v-160H180v160Zm440 0h160v-160H620v160ZM180-180h160v-160H180v160Zm440 0h160v-160H620v160Z\"/>\n",
              "  </svg>\n",
              "    </button>\n",
              "\n",
              "  <style>\n",
              "    .colab-df-container {\n",
              "      display:flex;\n",
              "      gap: 12px;\n",
              "    }\n",
              "\n",
              "    .colab-df-convert {\n",
              "      background-color: #E8F0FE;\n",
              "      border: none;\n",
              "      border-radius: 50%;\n",
              "      cursor: pointer;\n",
              "      display: none;\n",
              "      fill: #1967D2;\n",
              "      height: 32px;\n",
              "      padding: 0 0 0 0;\n",
              "      width: 32px;\n",
              "    }\n",
              "\n",
              "    .colab-df-convert:hover {\n",
              "      background-color: #E2EBFA;\n",
              "      box-shadow: 0px 1px 2px rgba(60, 64, 67, 0.3), 0px 1px 3px 1px rgba(60, 64, 67, 0.15);\n",
              "      fill: #174EA6;\n",
              "    }\n",
              "\n",
              "    .colab-df-buttons div {\n",
              "      margin-bottom: 4px;\n",
              "    }\n",
              "\n",
              "    [theme=dark] .colab-df-convert {\n",
              "      background-color: #3B4455;\n",
              "      fill: #D2E3FC;\n",
              "    }\n",
              "\n",
              "    [theme=dark] .colab-df-convert:hover {\n",
              "      background-color: #434B5C;\n",
              "      box-shadow: 0px 1px 3px 1px rgba(0, 0, 0, 0.15);\n",
              "      filter: drop-shadow(0px 1px 2px rgba(0, 0, 0, 0.3));\n",
              "      fill: #FFFFFF;\n",
              "    }\n",
              "  </style>\n",
              "\n",
              "    <script>\n",
              "      const buttonEl =\n",
              "        document.querySelector('#df-15cac9e6-6940-486a-9e21-9cd42c35dab7 button.colab-df-convert');\n",
              "      buttonEl.style.display =\n",
              "        google.colab.kernel.accessAllowed ? 'block' : 'none';\n",
              "\n",
              "      async function convertToInteractive(key) {\n",
              "        const element = document.querySelector('#df-15cac9e6-6940-486a-9e21-9cd42c35dab7');\n",
              "        const dataTable =\n",
              "          await google.colab.kernel.invokeFunction('convertToInteractive',\n",
              "                                                    [key], {});\n",
              "        if (!dataTable) return;\n",
              "\n",
              "        const docLinkHtml = 'Like what you see? Visit the ' +\n",
              "          '<a target=\"_blank\" href=https://colab.research.google.com/notebooks/data_table.ipynb>data table notebook</a>'\n",
              "          + ' to learn more about interactive tables.';\n",
              "        element.innerHTML = '';\n",
              "        dataTable['output_type'] = 'display_data';\n",
              "        await google.colab.output.renderOutput(dataTable, element);\n",
              "        const docLink = document.createElement('div');\n",
              "        docLink.innerHTML = docLinkHtml;\n",
              "        element.appendChild(docLink);\n",
              "      }\n",
              "    </script>\n",
              "  </div>\n",
              "\n",
              "\n",
              "<div id=\"df-4eddf5ff-39f8-41a7-bd34-6fcc43c861da\">\n",
              "  <button class=\"colab-df-quickchart\" onclick=\"quickchart('df-4eddf5ff-39f8-41a7-bd34-6fcc43c861da')\"\n",
              "            title=\"Suggest charts\"\n",
              "            style=\"display:none;\">\n",
              "\n",
              "<svg xmlns=\"http://www.w3.org/2000/svg\" height=\"24px\"viewBox=\"0 0 24 24\"\n",
              "     width=\"24px\">\n",
              "    <g>\n",
              "        <path d=\"M19 3H5c-1.1 0-2 .9-2 2v14c0 1.1.9 2 2 2h14c1.1 0 2-.9 2-2V5c0-1.1-.9-2-2-2zM9 17H7v-7h2v7zm4 0h-2V7h2v10zm4 0h-2v-4h2v4z\"/>\n",
              "    </g>\n",
              "</svg>\n",
              "  </button>\n",
              "\n",
              "<style>\n",
              "  .colab-df-quickchart {\n",
              "      --bg-color: #E8F0FE;\n",
              "      --fill-color: #1967D2;\n",
              "      --hover-bg-color: #E2EBFA;\n",
              "      --hover-fill-color: #174EA6;\n",
              "      --disabled-fill-color: #AAA;\n",
              "      --disabled-bg-color: #DDD;\n",
              "  }\n",
              "\n",
              "  [theme=dark] .colab-df-quickchart {\n",
              "      --bg-color: #3B4455;\n",
              "      --fill-color: #D2E3FC;\n",
              "      --hover-bg-color: #434B5C;\n",
              "      --hover-fill-color: #FFFFFF;\n",
              "      --disabled-bg-color: #3B4455;\n",
              "      --disabled-fill-color: #666;\n",
              "  }\n",
              "\n",
              "  .colab-df-quickchart {\n",
              "    background-color: var(--bg-color);\n",
              "    border: none;\n",
              "    border-radius: 50%;\n",
              "    cursor: pointer;\n",
              "    display: none;\n",
              "    fill: var(--fill-color);\n",
              "    height: 32px;\n",
              "    padding: 0;\n",
              "    width: 32px;\n",
              "  }\n",
              "\n",
              "  .colab-df-quickchart:hover {\n",
              "    background-color: var(--hover-bg-color);\n",
              "    box-shadow: 0 1px 2px rgba(60, 64, 67, 0.3), 0 1px 3px 1px rgba(60, 64, 67, 0.15);\n",
              "    fill: var(--button-hover-fill-color);\n",
              "  }\n",
              "\n",
              "  .colab-df-quickchart-complete:disabled,\n",
              "  .colab-df-quickchart-complete:disabled:hover {\n",
              "    background-color: var(--disabled-bg-color);\n",
              "    fill: var(--disabled-fill-color);\n",
              "    box-shadow: none;\n",
              "  }\n",
              "\n",
              "  .colab-df-spinner {\n",
              "    border: 2px solid var(--fill-color);\n",
              "    border-color: transparent;\n",
              "    border-bottom-color: var(--fill-color);\n",
              "    animation:\n",
              "      spin 1s steps(1) infinite;\n",
              "  }\n",
              "\n",
              "  @keyframes spin {\n",
              "    0% {\n",
              "      border-color: transparent;\n",
              "      border-bottom-color: var(--fill-color);\n",
              "      border-left-color: var(--fill-color);\n",
              "    }\n",
              "    20% {\n",
              "      border-color: transparent;\n",
              "      border-left-color: var(--fill-color);\n",
              "      border-top-color: var(--fill-color);\n",
              "    }\n",
              "    30% {\n",
              "      border-color: transparent;\n",
              "      border-left-color: var(--fill-color);\n",
              "      border-top-color: var(--fill-color);\n",
              "      border-right-color: var(--fill-color);\n",
              "    }\n",
              "    40% {\n",
              "      border-color: transparent;\n",
              "      border-right-color: var(--fill-color);\n",
              "      border-top-color: var(--fill-color);\n",
              "    }\n",
              "    60% {\n",
              "      border-color: transparent;\n",
              "      border-right-color: var(--fill-color);\n",
              "    }\n",
              "    80% {\n",
              "      border-color: transparent;\n",
              "      border-right-color: var(--fill-color);\n",
              "      border-bottom-color: var(--fill-color);\n",
              "    }\n",
              "    90% {\n",
              "      border-color: transparent;\n",
              "      border-bottom-color: var(--fill-color);\n",
              "    }\n",
              "  }\n",
              "</style>\n",
              "\n",
              "  <script>\n",
              "    async function quickchart(key) {\n",
              "      const quickchartButtonEl =\n",
              "        document.querySelector('#' + key + ' button');\n",
              "      quickchartButtonEl.disabled = true;  // To prevent multiple clicks.\n",
              "      quickchartButtonEl.classList.add('colab-df-spinner');\n",
              "      try {\n",
              "        const charts = await google.colab.kernel.invokeFunction(\n",
              "            'suggestCharts', [key], {});\n",
              "      } catch (error) {\n",
              "        console.error('Error during call to suggestCharts:', error);\n",
              "      }\n",
              "      quickchartButtonEl.classList.remove('colab-df-spinner');\n",
              "      quickchartButtonEl.classList.add('colab-df-quickchart-complete');\n",
              "    }\n",
              "    (() => {\n",
              "      let quickchartButtonEl =\n",
              "        document.querySelector('#df-4eddf5ff-39f8-41a7-bd34-6fcc43c861da button');\n",
              "      quickchartButtonEl.style.display =\n",
              "        google.colab.kernel.accessAllowed ? 'block' : 'none';\n",
              "    })();\n",
              "  </script>\n",
              "</div>\n",
              "\n",
              "    </div>\n",
              "  </div>\n"
            ],
            "application/vnd.google.colaboratory.intrinsic+json": {
              "type": "dataframe",
              "variable_name": "df_products"
            }
          },
          "metadata": {},
          "execution_count": 3
        }
      ]
    },
    {
      "cell_type": "code",
      "source": [
        "# Convert BARCODE to string while preserving NaNs\n",
        "df_products['BARCODE'] = df_products['BARCODE'].astype(str).replace('nan', pd.NA)\n",
        "\n",
        "# Verifying results\n",
        "df_products.dtypes\n"
      ],
      "metadata": {
        "colab": {
          "base_uri": "https://localhost:8080/",
          "height": 304
        },
        "id": "_0NvkJmeDVJV",
        "outputId": "f3414e24-ae14-49c9-f998-9d9dd4022424"
      },
      "execution_count": 4,
      "outputs": [
        {
          "output_type": "execute_result",
          "data": {
            "text/plain": [
              "CATEGORY_1      object\n",
              "CATEGORY_2      object\n",
              "CATEGORY_3      object\n",
              "CATEGORY_4      object\n",
              "MANUFACTURER    object\n",
              "BRAND           object\n",
              "BARCODE         object\n",
              "dtype: object"
            ],
            "text/html": [
              "<div>\n",
              "<style scoped>\n",
              "    .dataframe tbody tr th:only-of-type {\n",
              "        vertical-align: middle;\n",
              "    }\n",
              "\n",
              "    .dataframe tbody tr th {\n",
              "        vertical-align: top;\n",
              "    }\n",
              "\n",
              "    .dataframe thead th {\n",
              "        text-align: right;\n",
              "    }\n",
              "</style>\n",
              "<table border=\"1\" class=\"dataframe\">\n",
              "  <thead>\n",
              "    <tr style=\"text-align: right;\">\n",
              "      <th></th>\n",
              "      <th>0</th>\n",
              "    </tr>\n",
              "  </thead>\n",
              "  <tbody>\n",
              "    <tr>\n",
              "      <th>CATEGORY_1</th>\n",
              "      <td>object</td>\n",
              "    </tr>\n",
              "    <tr>\n",
              "      <th>CATEGORY_2</th>\n",
              "      <td>object</td>\n",
              "    </tr>\n",
              "    <tr>\n",
              "      <th>CATEGORY_3</th>\n",
              "      <td>object</td>\n",
              "    </tr>\n",
              "    <tr>\n",
              "      <th>CATEGORY_4</th>\n",
              "      <td>object</td>\n",
              "    </tr>\n",
              "    <tr>\n",
              "      <th>MANUFACTURER</th>\n",
              "      <td>object</td>\n",
              "    </tr>\n",
              "    <tr>\n",
              "      <th>BRAND</th>\n",
              "      <td>object</td>\n",
              "    </tr>\n",
              "    <tr>\n",
              "      <th>BARCODE</th>\n",
              "      <td>object</td>\n",
              "    </tr>\n",
              "  </tbody>\n",
              "</table>\n",
              "</div><br><label><b>dtype:</b> object</label>"
            ]
          },
          "metadata": {},
          "execution_count": 4
        }
      ]
    },
    {
      "cell_type": "markdown",
      "source": [
        "# **Counting Null values in columns**\n",
        "\n",
        "\n",
        "\n"
      ],
      "metadata": {
        "id": "plncPQgsT79F"
      }
    },
    {
      "cell_type": "code",
      "source": [
        "# Total number of rows\n",
        "total_rows = len(df_products)\n",
        "\n",
        "# Count of null values in each column\n",
        "null_counts = df_products.isnull().sum()\n",
        "\n",
        "# Percentage of null values\n",
        "null_percentage = (null_counts / total_rows) * 100\n",
        "formatted_percentage = null_percentage.map('{:.2f}%'.format)\n",
        "\n",
        "# DataFrame to display results\n",
        "null_summary = pd.DataFrame({\n",
        "    'Null Count': null_counts,\n",
        "    'Null Percentage': formatted_percentage\n",
        "})\n",
        "\n",
        "# Summary for the Null records\n",
        "print(null_summary)"
      ],
      "metadata": {
        "colab": {
          "base_uri": "https://localhost:8080/"
        },
        "id": "oglNYoIoUew-",
        "outputId": "fe6a3182-b5aa-404b-bd66-d22054410c75"
      },
      "execution_count": 5,
      "outputs": [
        {
          "output_type": "stream",
          "name": "stdout",
          "text": [
            "              Null Count Null Percentage\n",
            "CATEGORY_1           111           0.01%\n",
            "CATEGORY_2          1424           0.17%\n",
            "CATEGORY_3         60566           7.16%\n",
            "CATEGORY_4        778093          92.02%\n",
            "MANUFACTURER      226474          26.78%\n",
            "BRAND             226472          26.78%\n",
            "BARCODE             4025           0.48%\n"
          ]
        }
      ]
    },
    {
      "cell_type": "markdown",
      "source": [
        "Handling duplicate records"
      ],
      "metadata": {
        "id": "dNTvWjmdU_4y"
      }
    },
    {
      "cell_type": "code",
      "source": [
        "#count duplicate records\n",
        "print(df_products.duplicated().sum())"
      ],
      "metadata": {
        "colab": {
          "base_uri": "https://localhost:8080/"
        },
        "id": "HUr7bf2RU_Ji",
        "outputId": "f2b2fd77-320e-4f26-c375-f3fe350f1633"
      },
      "execution_count": 6,
      "outputs": [
        {
          "output_type": "stream",
          "name": "stdout",
          "text": [
            "215\n"
          ]
        }
      ]
    },
    {
      "cell_type": "code",
      "source": [
        "#drop duplicate records\n",
        "df_products= df_products.drop_duplicates()"
      ],
      "metadata": {
        "id": "95DBg-0iVORV"
      },
      "execution_count": 7,
      "outputs": []
    },
    {
      "cell_type": "code",
      "source": [
        "df_products.shape"
      ],
      "metadata": {
        "colab": {
          "base_uri": "https://localhost:8080/"
        },
        "id": "2vBkURXlVrbp",
        "outputId": "0d351159-19e6-4c5f-bd17-69f666186b91"
      },
      "execution_count": 8,
      "outputs": [
        {
          "output_type": "execute_result",
          "data": {
            "text/plain": [
              "(845337, 7)"
            ]
          },
          "metadata": {},
          "execution_count": 8
        }
      ]
    },
    {
      "cell_type": "markdown",
      "source": [
        "# **Importing Users Table**"
      ],
      "metadata": {
        "id": "XUCjs_02XIdN"
      }
    },
    {
      "cell_type": "code",
      "source": [
        "# Read the CSV file into a pandas DataFrame\n",
        "df_user = pd.read_csv('USER_TAKEHOME.csv', dtype = {'ID':str, 'CREATED_DATE':str,'BIRTH_DATE':str}, na_values=['', ' ', 'NA', 'NULL','nan'])\n",
        "\n",
        "#Inspect User Data\n",
        "print(df_user.shape)\n",
        "df_user.head()"
      ],
      "metadata": {
        "colab": {
          "base_uri": "https://localhost:8080/",
          "height": 224
        },
        "id": "RT1F6OsNXNpk",
        "outputId": "55067309-494c-4183-bb23-6a1d39b859c1"
      },
      "execution_count": 9,
      "outputs": [
        {
          "output_type": "stream",
          "name": "stdout",
          "text": [
            "(100000, 6)\n"
          ]
        },
        {
          "output_type": "execute_result",
          "data": {
            "text/plain": [
              "                         ID               CREATED_DATE  \\\n",
              "0  5ef3b4f17053ab141787697d  2020-06-24 20:17:54.000 Z   \n",
              "1  5ff220d383fcfc12622b96bc  2021-01-03 19:53:55.000 Z   \n",
              "2  6477950aa55bb77a0e27ee10  2023-05-31 18:42:18.000 Z   \n",
              "3  658a306e99b40f103b63ccf8  2023-12-26 01:46:22.000 Z   \n",
              "4  653cf5d6a225ea102b7ecdc2  2023-10-28 11:51:50.000 Z   \n",
              "\n",
              "                  BIRTH_DATE STATE LANGUAGE  GENDER  \n",
              "0  2000-08-11 00:00:00.000 Z    CA   es-419  female  \n",
              "1  2001-09-24 04:00:00.000 Z    PA       en  female  \n",
              "2  1994-10-28 00:00:00.000 Z    FL   es-419  female  \n",
              "3                        NaN    NC       en     NaN  \n",
              "4  1972-03-19 00:00:00.000 Z    PA       en  female  "
            ],
            "text/html": [
              "\n",
              "  <div id=\"df-efe949f8-7e4b-4901-b9cd-d3a4a883acc7\" class=\"colab-df-container\">\n",
              "    <div>\n",
              "<style scoped>\n",
              "    .dataframe tbody tr th:only-of-type {\n",
              "        vertical-align: middle;\n",
              "    }\n",
              "\n",
              "    .dataframe tbody tr th {\n",
              "        vertical-align: top;\n",
              "    }\n",
              "\n",
              "    .dataframe thead th {\n",
              "        text-align: right;\n",
              "    }\n",
              "</style>\n",
              "<table border=\"1\" class=\"dataframe\">\n",
              "  <thead>\n",
              "    <tr style=\"text-align: right;\">\n",
              "      <th></th>\n",
              "      <th>ID</th>\n",
              "      <th>CREATED_DATE</th>\n",
              "      <th>BIRTH_DATE</th>\n",
              "      <th>STATE</th>\n",
              "      <th>LANGUAGE</th>\n",
              "      <th>GENDER</th>\n",
              "    </tr>\n",
              "  </thead>\n",
              "  <tbody>\n",
              "    <tr>\n",
              "      <th>0</th>\n",
              "      <td>5ef3b4f17053ab141787697d</td>\n",
              "      <td>2020-06-24 20:17:54.000 Z</td>\n",
              "      <td>2000-08-11 00:00:00.000 Z</td>\n",
              "      <td>CA</td>\n",
              "      <td>es-419</td>\n",
              "      <td>female</td>\n",
              "    </tr>\n",
              "    <tr>\n",
              "      <th>1</th>\n",
              "      <td>5ff220d383fcfc12622b96bc</td>\n",
              "      <td>2021-01-03 19:53:55.000 Z</td>\n",
              "      <td>2001-09-24 04:00:00.000 Z</td>\n",
              "      <td>PA</td>\n",
              "      <td>en</td>\n",
              "      <td>female</td>\n",
              "    </tr>\n",
              "    <tr>\n",
              "      <th>2</th>\n",
              "      <td>6477950aa55bb77a0e27ee10</td>\n",
              "      <td>2023-05-31 18:42:18.000 Z</td>\n",
              "      <td>1994-10-28 00:00:00.000 Z</td>\n",
              "      <td>FL</td>\n",
              "      <td>es-419</td>\n",
              "      <td>female</td>\n",
              "    </tr>\n",
              "    <tr>\n",
              "      <th>3</th>\n",
              "      <td>658a306e99b40f103b63ccf8</td>\n",
              "      <td>2023-12-26 01:46:22.000 Z</td>\n",
              "      <td>NaN</td>\n",
              "      <td>NC</td>\n",
              "      <td>en</td>\n",
              "      <td>NaN</td>\n",
              "    </tr>\n",
              "    <tr>\n",
              "      <th>4</th>\n",
              "      <td>653cf5d6a225ea102b7ecdc2</td>\n",
              "      <td>2023-10-28 11:51:50.000 Z</td>\n",
              "      <td>1972-03-19 00:00:00.000 Z</td>\n",
              "      <td>PA</td>\n",
              "      <td>en</td>\n",
              "      <td>female</td>\n",
              "    </tr>\n",
              "  </tbody>\n",
              "</table>\n",
              "</div>\n",
              "    <div class=\"colab-df-buttons\">\n",
              "\n",
              "  <div class=\"colab-df-container\">\n",
              "    <button class=\"colab-df-convert\" onclick=\"convertToInteractive('df-efe949f8-7e4b-4901-b9cd-d3a4a883acc7')\"\n",
              "            title=\"Convert this dataframe to an interactive table.\"\n",
              "            style=\"display:none;\">\n",
              "\n",
              "  <svg xmlns=\"http://www.w3.org/2000/svg\" height=\"24px\" viewBox=\"0 -960 960 960\">\n",
              "    <path d=\"M120-120v-720h720v720H120Zm60-500h600v-160H180v160Zm220 220h160v-160H400v160Zm0 220h160v-160H400v160ZM180-400h160v-160H180v160Zm440 0h160v-160H620v160ZM180-180h160v-160H180v160Zm440 0h160v-160H620v160Z\"/>\n",
              "  </svg>\n",
              "    </button>\n",
              "\n",
              "  <style>\n",
              "    .colab-df-container {\n",
              "      display:flex;\n",
              "      gap: 12px;\n",
              "    }\n",
              "\n",
              "    .colab-df-convert {\n",
              "      background-color: #E8F0FE;\n",
              "      border: none;\n",
              "      border-radius: 50%;\n",
              "      cursor: pointer;\n",
              "      display: none;\n",
              "      fill: #1967D2;\n",
              "      height: 32px;\n",
              "      padding: 0 0 0 0;\n",
              "      width: 32px;\n",
              "    }\n",
              "\n",
              "    .colab-df-convert:hover {\n",
              "      background-color: #E2EBFA;\n",
              "      box-shadow: 0px 1px 2px rgba(60, 64, 67, 0.3), 0px 1px 3px 1px rgba(60, 64, 67, 0.15);\n",
              "      fill: #174EA6;\n",
              "    }\n",
              "\n",
              "    .colab-df-buttons div {\n",
              "      margin-bottom: 4px;\n",
              "    }\n",
              "\n",
              "    [theme=dark] .colab-df-convert {\n",
              "      background-color: #3B4455;\n",
              "      fill: #D2E3FC;\n",
              "    }\n",
              "\n",
              "    [theme=dark] .colab-df-convert:hover {\n",
              "      background-color: #434B5C;\n",
              "      box-shadow: 0px 1px 3px 1px rgba(0, 0, 0, 0.15);\n",
              "      filter: drop-shadow(0px 1px 2px rgba(0, 0, 0, 0.3));\n",
              "      fill: #FFFFFF;\n",
              "    }\n",
              "  </style>\n",
              "\n",
              "    <script>\n",
              "      const buttonEl =\n",
              "        document.querySelector('#df-efe949f8-7e4b-4901-b9cd-d3a4a883acc7 button.colab-df-convert');\n",
              "      buttonEl.style.display =\n",
              "        google.colab.kernel.accessAllowed ? 'block' : 'none';\n",
              "\n",
              "      async function convertToInteractive(key) {\n",
              "        const element = document.querySelector('#df-efe949f8-7e4b-4901-b9cd-d3a4a883acc7');\n",
              "        const dataTable =\n",
              "          await google.colab.kernel.invokeFunction('convertToInteractive',\n",
              "                                                    [key], {});\n",
              "        if (!dataTable) return;\n",
              "\n",
              "        const docLinkHtml = 'Like what you see? Visit the ' +\n",
              "          '<a target=\"_blank\" href=https://colab.research.google.com/notebooks/data_table.ipynb>data table notebook</a>'\n",
              "          + ' to learn more about interactive tables.';\n",
              "        element.innerHTML = '';\n",
              "        dataTable['output_type'] = 'display_data';\n",
              "        await google.colab.output.renderOutput(dataTable, element);\n",
              "        const docLink = document.createElement('div');\n",
              "        docLink.innerHTML = docLinkHtml;\n",
              "        element.appendChild(docLink);\n",
              "      }\n",
              "    </script>\n",
              "  </div>\n",
              "\n",
              "\n",
              "<div id=\"df-eb9c2814-ded7-47de-b3a2-b9b32412f284\">\n",
              "  <button class=\"colab-df-quickchart\" onclick=\"quickchart('df-eb9c2814-ded7-47de-b3a2-b9b32412f284')\"\n",
              "            title=\"Suggest charts\"\n",
              "            style=\"display:none;\">\n",
              "\n",
              "<svg xmlns=\"http://www.w3.org/2000/svg\" height=\"24px\"viewBox=\"0 0 24 24\"\n",
              "     width=\"24px\">\n",
              "    <g>\n",
              "        <path d=\"M19 3H5c-1.1 0-2 .9-2 2v14c0 1.1.9 2 2 2h14c1.1 0 2-.9 2-2V5c0-1.1-.9-2-2-2zM9 17H7v-7h2v7zm4 0h-2V7h2v10zm4 0h-2v-4h2v4z\"/>\n",
              "    </g>\n",
              "</svg>\n",
              "  </button>\n",
              "\n",
              "<style>\n",
              "  .colab-df-quickchart {\n",
              "      --bg-color: #E8F0FE;\n",
              "      --fill-color: #1967D2;\n",
              "      --hover-bg-color: #E2EBFA;\n",
              "      --hover-fill-color: #174EA6;\n",
              "      --disabled-fill-color: #AAA;\n",
              "      --disabled-bg-color: #DDD;\n",
              "  }\n",
              "\n",
              "  [theme=dark] .colab-df-quickchart {\n",
              "      --bg-color: #3B4455;\n",
              "      --fill-color: #D2E3FC;\n",
              "      --hover-bg-color: #434B5C;\n",
              "      --hover-fill-color: #FFFFFF;\n",
              "      --disabled-bg-color: #3B4455;\n",
              "      --disabled-fill-color: #666;\n",
              "  }\n",
              "\n",
              "  .colab-df-quickchart {\n",
              "    background-color: var(--bg-color);\n",
              "    border: none;\n",
              "    border-radius: 50%;\n",
              "    cursor: pointer;\n",
              "    display: none;\n",
              "    fill: var(--fill-color);\n",
              "    height: 32px;\n",
              "    padding: 0;\n",
              "    width: 32px;\n",
              "  }\n",
              "\n",
              "  .colab-df-quickchart:hover {\n",
              "    background-color: var(--hover-bg-color);\n",
              "    box-shadow: 0 1px 2px rgba(60, 64, 67, 0.3), 0 1px 3px 1px rgba(60, 64, 67, 0.15);\n",
              "    fill: var(--button-hover-fill-color);\n",
              "  }\n",
              "\n",
              "  .colab-df-quickchart-complete:disabled,\n",
              "  .colab-df-quickchart-complete:disabled:hover {\n",
              "    background-color: var(--disabled-bg-color);\n",
              "    fill: var(--disabled-fill-color);\n",
              "    box-shadow: none;\n",
              "  }\n",
              "\n",
              "  .colab-df-spinner {\n",
              "    border: 2px solid var(--fill-color);\n",
              "    border-color: transparent;\n",
              "    border-bottom-color: var(--fill-color);\n",
              "    animation:\n",
              "      spin 1s steps(1) infinite;\n",
              "  }\n",
              "\n",
              "  @keyframes spin {\n",
              "    0% {\n",
              "      border-color: transparent;\n",
              "      border-bottom-color: var(--fill-color);\n",
              "      border-left-color: var(--fill-color);\n",
              "    }\n",
              "    20% {\n",
              "      border-color: transparent;\n",
              "      border-left-color: var(--fill-color);\n",
              "      border-top-color: var(--fill-color);\n",
              "    }\n",
              "    30% {\n",
              "      border-color: transparent;\n",
              "      border-left-color: var(--fill-color);\n",
              "      border-top-color: var(--fill-color);\n",
              "      border-right-color: var(--fill-color);\n",
              "    }\n",
              "    40% {\n",
              "      border-color: transparent;\n",
              "      border-right-color: var(--fill-color);\n",
              "      border-top-color: var(--fill-color);\n",
              "    }\n",
              "    60% {\n",
              "      border-color: transparent;\n",
              "      border-right-color: var(--fill-color);\n",
              "    }\n",
              "    80% {\n",
              "      border-color: transparent;\n",
              "      border-right-color: var(--fill-color);\n",
              "      border-bottom-color: var(--fill-color);\n",
              "    }\n",
              "    90% {\n",
              "      border-color: transparent;\n",
              "      border-bottom-color: var(--fill-color);\n",
              "    }\n",
              "  }\n",
              "</style>\n",
              "\n",
              "  <script>\n",
              "    async function quickchart(key) {\n",
              "      const quickchartButtonEl =\n",
              "        document.querySelector('#' + key + ' button');\n",
              "      quickchartButtonEl.disabled = true;  // To prevent multiple clicks.\n",
              "      quickchartButtonEl.classList.add('colab-df-spinner');\n",
              "      try {\n",
              "        const charts = await google.colab.kernel.invokeFunction(\n",
              "            'suggestCharts', [key], {});\n",
              "      } catch (error) {\n",
              "        console.error('Error during call to suggestCharts:', error);\n",
              "      }\n",
              "      quickchartButtonEl.classList.remove('colab-df-spinner');\n",
              "      quickchartButtonEl.classList.add('colab-df-quickchart-complete');\n",
              "    }\n",
              "    (() => {\n",
              "      let quickchartButtonEl =\n",
              "        document.querySelector('#df-eb9c2814-ded7-47de-b3a2-b9b32412f284 button');\n",
              "      quickchartButtonEl.style.display =\n",
              "        google.colab.kernel.accessAllowed ? 'block' : 'none';\n",
              "    })();\n",
              "  </script>\n",
              "</div>\n",
              "\n",
              "    </div>\n",
              "  </div>\n"
            ],
            "application/vnd.google.colaboratory.intrinsic+json": {
              "type": "dataframe",
              "variable_name": "df_user",
              "summary": "{\n  \"name\": \"df_user\",\n  \"rows\": 100000,\n  \"fields\": [\n    {\n      \"column\": \"ID\",\n      \"properties\": {\n        \"dtype\": \"string\",\n        \"num_unique_values\": 100000,\n        \"samples\": [\n          \"6503c2820b8083d9b4eaf89d\",\n          \"5f97581e396d5a167efb6e9f\",\n          \"660465647756e548cb86df90\"\n        ],\n        \"semantic_type\": \"\",\n        \"description\": \"\"\n      }\n    },\n    {\n      \"column\": \"CREATED_DATE\",\n      \"properties\": {\n        \"dtype\": \"object\",\n        \"num_unique_values\": 99942,\n        \"samples\": [\n          \"2023-07-02 16:44:42.000 Z\",\n          \"2021-07-25 17:30:02.000 Z\",\n          \"2022-12-03 21:19:38.000 Z\"\n        ],\n        \"semantic_type\": \"\",\n        \"description\": \"\"\n      }\n    },\n    {\n      \"column\": \"BIRTH_DATE\",\n      \"properties\": {\n        \"dtype\": \"object\",\n        \"num_unique_values\": 54721,\n        \"samples\": [\n          \"1974-04-22 04:00:00.000 Z\",\n          \"2005-06-05 04:00:00.000 Z\",\n          \"1966-12-09 05:00:00.000 Z\"\n        ],\n        \"semantic_type\": \"\",\n        \"description\": \"\"\n      }\n    },\n    {\n      \"column\": \"STATE\",\n      \"properties\": {\n        \"dtype\": \"category\",\n        \"num_unique_values\": 52,\n        \"samples\": [\n          \"WI\",\n          \"AL\",\n          \"ID\"\n        ],\n        \"semantic_type\": \"\",\n        \"description\": \"\"\n      }\n    },\n    {\n      \"column\": \"LANGUAGE\",\n      \"properties\": {\n        \"dtype\": \"category\",\n        \"num_unique_values\": 2,\n        \"samples\": [\n          \"en\",\n          \"es-419\"\n        ],\n        \"semantic_type\": \"\",\n        \"description\": \"\"\n      }\n    },\n    {\n      \"column\": \"GENDER\",\n      \"properties\": {\n        \"dtype\": \"category\",\n        \"num_unique_values\": 11,\n        \"samples\": [\n          \"not_listed\",\n          \"female\"\n        ],\n        \"semantic_type\": \"\",\n        \"description\": \"\"\n      }\n    }\n  ]\n}"
            }
          },
          "metadata": {},
          "execution_count": 9
        }
      ]
    },
    {
      "cell_type": "code",
      "source": [
        "df_user.dtypes"
      ],
      "metadata": {
        "colab": {
          "base_uri": "https://localhost:8080/",
          "height": 272
        },
        "id": "ahaP2cchYW_n",
        "outputId": "5e12dfeb-3ac3-4260-d280-ba40a2b0702e"
      },
      "execution_count": 10,
      "outputs": [
        {
          "output_type": "execute_result",
          "data": {
            "text/plain": [
              "ID              object\n",
              "CREATED_DATE    object\n",
              "BIRTH_DATE      object\n",
              "STATE           object\n",
              "LANGUAGE        object\n",
              "GENDER          object\n",
              "dtype: object"
            ],
            "text/html": [
              "<div>\n",
              "<style scoped>\n",
              "    .dataframe tbody tr th:only-of-type {\n",
              "        vertical-align: middle;\n",
              "    }\n",
              "\n",
              "    .dataframe tbody tr th {\n",
              "        vertical-align: top;\n",
              "    }\n",
              "\n",
              "    .dataframe thead th {\n",
              "        text-align: right;\n",
              "    }\n",
              "</style>\n",
              "<table border=\"1\" class=\"dataframe\">\n",
              "  <thead>\n",
              "    <tr style=\"text-align: right;\">\n",
              "      <th></th>\n",
              "      <th>0</th>\n",
              "    </tr>\n",
              "  </thead>\n",
              "  <tbody>\n",
              "    <tr>\n",
              "      <th>ID</th>\n",
              "      <td>object</td>\n",
              "    </tr>\n",
              "    <tr>\n",
              "      <th>CREATED_DATE</th>\n",
              "      <td>object</td>\n",
              "    </tr>\n",
              "    <tr>\n",
              "      <th>BIRTH_DATE</th>\n",
              "      <td>object</td>\n",
              "    </tr>\n",
              "    <tr>\n",
              "      <th>STATE</th>\n",
              "      <td>object</td>\n",
              "    </tr>\n",
              "    <tr>\n",
              "      <th>LANGUAGE</th>\n",
              "      <td>object</td>\n",
              "    </tr>\n",
              "    <tr>\n",
              "      <th>GENDER</th>\n",
              "      <td>object</td>\n",
              "    </tr>\n",
              "  </tbody>\n",
              "</table>\n",
              "</div><br><label><b>dtype:</b> object</label>"
            ]
          },
          "metadata": {},
          "execution_count": 10
        }
      ]
    },
    {
      "cell_type": "markdown",
      "source": [
        "# **Updating Column Name**"
      ],
      "metadata": {
        "id": "BSgz0ReyD5_E"
      }
    },
    {
      "cell_type": "code",
      "source": [
        "# Renaming 'ID' column to 'USER_ID'\n",
        "df_user.rename(columns={'ID': 'USER_ID'}, inplace=True)\n",
        "df_user.head()"
      ],
      "metadata": {
        "colab": {
          "base_uri": "https://localhost:8080/",
          "height": 206
        },
        "id": "brTLotUXD_X1",
        "outputId": "94363e0b-e178-4b61-a990-25f00318b04a"
      },
      "execution_count": 11,
      "outputs": [
        {
          "output_type": "execute_result",
          "data": {
            "text/plain": [
              "                    USER_ID               CREATED_DATE  \\\n",
              "0  5ef3b4f17053ab141787697d  2020-06-24 20:17:54.000 Z   \n",
              "1  5ff220d383fcfc12622b96bc  2021-01-03 19:53:55.000 Z   \n",
              "2  6477950aa55bb77a0e27ee10  2023-05-31 18:42:18.000 Z   \n",
              "3  658a306e99b40f103b63ccf8  2023-12-26 01:46:22.000 Z   \n",
              "4  653cf5d6a225ea102b7ecdc2  2023-10-28 11:51:50.000 Z   \n",
              "\n",
              "                  BIRTH_DATE STATE LANGUAGE  GENDER  \n",
              "0  2000-08-11 00:00:00.000 Z    CA   es-419  female  \n",
              "1  2001-09-24 04:00:00.000 Z    PA       en  female  \n",
              "2  1994-10-28 00:00:00.000 Z    FL   es-419  female  \n",
              "3                        NaN    NC       en     NaN  \n",
              "4  1972-03-19 00:00:00.000 Z    PA       en  female  "
            ],
            "text/html": [
              "\n",
              "  <div id=\"df-6ce48d3e-0f73-4ece-9b80-22dacb8eb3cb\" class=\"colab-df-container\">\n",
              "    <div>\n",
              "<style scoped>\n",
              "    .dataframe tbody tr th:only-of-type {\n",
              "        vertical-align: middle;\n",
              "    }\n",
              "\n",
              "    .dataframe tbody tr th {\n",
              "        vertical-align: top;\n",
              "    }\n",
              "\n",
              "    .dataframe thead th {\n",
              "        text-align: right;\n",
              "    }\n",
              "</style>\n",
              "<table border=\"1\" class=\"dataframe\">\n",
              "  <thead>\n",
              "    <tr style=\"text-align: right;\">\n",
              "      <th></th>\n",
              "      <th>USER_ID</th>\n",
              "      <th>CREATED_DATE</th>\n",
              "      <th>BIRTH_DATE</th>\n",
              "      <th>STATE</th>\n",
              "      <th>LANGUAGE</th>\n",
              "      <th>GENDER</th>\n",
              "    </tr>\n",
              "  </thead>\n",
              "  <tbody>\n",
              "    <tr>\n",
              "      <th>0</th>\n",
              "      <td>5ef3b4f17053ab141787697d</td>\n",
              "      <td>2020-06-24 20:17:54.000 Z</td>\n",
              "      <td>2000-08-11 00:00:00.000 Z</td>\n",
              "      <td>CA</td>\n",
              "      <td>es-419</td>\n",
              "      <td>female</td>\n",
              "    </tr>\n",
              "    <tr>\n",
              "      <th>1</th>\n",
              "      <td>5ff220d383fcfc12622b96bc</td>\n",
              "      <td>2021-01-03 19:53:55.000 Z</td>\n",
              "      <td>2001-09-24 04:00:00.000 Z</td>\n",
              "      <td>PA</td>\n",
              "      <td>en</td>\n",
              "      <td>female</td>\n",
              "    </tr>\n",
              "    <tr>\n",
              "      <th>2</th>\n",
              "      <td>6477950aa55bb77a0e27ee10</td>\n",
              "      <td>2023-05-31 18:42:18.000 Z</td>\n",
              "      <td>1994-10-28 00:00:00.000 Z</td>\n",
              "      <td>FL</td>\n",
              "      <td>es-419</td>\n",
              "      <td>female</td>\n",
              "    </tr>\n",
              "    <tr>\n",
              "      <th>3</th>\n",
              "      <td>658a306e99b40f103b63ccf8</td>\n",
              "      <td>2023-12-26 01:46:22.000 Z</td>\n",
              "      <td>NaN</td>\n",
              "      <td>NC</td>\n",
              "      <td>en</td>\n",
              "      <td>NaN</td>\n",
              "    </tr>\n",
              "    <tr>\n",
              "      <th>4</th>\n",
              "      <td>653cf5d6a225ea102b7ecdc2</td>\n",
              "      <td>2023-10-28 11:51:50.000 Z</td>\n",
              "      <td>1972-03-19 00:00:00.000 Z</td>\n",
              "      <td>PA</td>\n",
              "      <td>en</td>\n",
              "      <td>female</td>\n",
              "    </tr>\n",
              "  </tbody>\n",
              "</table>\n",
              "</div>\n",
              "    <div class=\"colab-df-buttons\">\n",
              "\n",
              "  <div class=\"colab-df-container\">\n",
              "    <button class=\"colab-df-convert\" onclick=\"convertToInteractive('df-6ce48d3e-0f73-4ece-9b80-22dacb8eb3cb')\"\n",
              "            title=\"Convert this dataframe to an interactive table.\"\n",
              "            style=\"display:none;\">\n",
              "\n",
              "  <svg xmlns=\"http://www.w3.org/2000/svg\" height=\"24px\" viewBox=\"0 -960 960 960\">\n",
              "    <path d=\"M120-120v-720h720v720H120Zm60-500h600v-160H180v160Zm220 220h160v-160H400v160Zm0 220h160v-160H400v160ZM180-400h160v-160H180v160Zm440 0h160v-160H620v160ZM180-180h160v-160H180v160Zm440 0h160v-160H620v160Z\"/>\n",
              "  </svg>\n",
              "    </button>\n",
              "\n",
              "  <style>\n",
              "    .colab-df-container {\n",
              "      display:flex;\n",
              "      gap: 12px;\n",
              "    }\n",
              "\n",
              "    .colab-df-convert {\n",
              "      background-color: #E8F0FE;\n",
              "      border: none;\n",
              "      border-radius: 50%;\n",
              "      cursor: pointer;\n",
              "      display: none;\n",
              "      fill: #1967D2;\n",
              "      height: 32px;\n",
              "      padding: 0 0 0 0;\n",
              "      width: 32px;\n",
              "    }\n",
              "\n",
              "    .colab-df-convert:hover {\n",
              "      background-color: #E2EBFA;\n",
              "      box-shadow: 0px 1px 2px rgba(60, 64, 67, 0.3), 0px 1px 3px 1px rgba(60, 64, 67, 0.15);\n",
              "      fill: #174EA6;\n",
              "    }\n",
              "\n",
              "    .colab-df-buttons div {\n",
              "      margin-bottom: 4px;\n",
              "    }\n",
              "\n",
              "    [theme=dark] .colab-df-convert {\n",
              "      background-color: #3B4455;\n",
              "      fill: #D2E3FC;\n",
              "    }\n",
              "\n",
              "    [theme=dark] .colab-df-convert:hover {\n",
              "      background-color: #434B5C;\n",
              "      box-shadow: 0px 1px 3px 1px rgba(0, 0, 0, 0.15);\n",
              "      filter: drop-shadow(0px 1px 2px rgba(0, 0, 0, 0.3));\n",
              "      fill: #FFFFFF;\n",
              "    }\n",
              "  </style>\n",
              "\n",
              "    <script>\n",
              "      const buttonEl =\n",
              "        document.querySelector('#df-6ce48d3e-0f73-4ece-9b80-22dacb8eb3cb button.colab-df-convert');\n",
              "      buttonEl.style.display =\n",
              "        google.colab.kernel.accessAllowed ? 'block' : 'none';\n",
              "\n",
              "      async function convertToInteractive(key) {\n",
              "        const element = document.querySelector('#df-6ce48d3e-0f73-4ece-9b80-22dacb8eb3cb');\n",
              "        const dataTable =\n",
              "          await google.colab.kernel.invokeFunction('convertToInteractive',\n",
              "                                                    [key], {});\n",
              "        if (!dataTable) return;\n",
              "\n",
              "        const docLinkHtml = 'Like what you see? Visit the ' +\n",
              "          '<a target=\"_blank\" href=https://colab.research.google.com/notebooks/data_table.ipynb>data table notebook</a>'\n",
              "          + ' to learn more about interactive tables.';\n",
              "        element.innerHTML = '';\n",
              "        dataTable['output_type'] = 'display_data';\n",
              "        await google.colab.output.renderOutput(dataTable, element);\n",
              "        const docLink = document.createElement('div');\n",
              "        docLink.innerHTML = docLinkHtml;\n",
              "        element.appendChild(docLink);\n",
              "      }\n",
              "    </script>\n",
              "  </div>\n",
              "\n",
              "\n",
              "<div id=\"df-a5ac8c40-c2a2-4971-8b48-871d7e054b70\">\n",
              "  <button class=\"colab-df-quickchart\" onclick=\"quickchart('df-a5ac8c40-c2a2-4971-8b48-871d7e054b70')\"\n",
              "            title=\"Suggest charts\"\n",
              "            style=\"display:none;\">\n",
              "\n",
              "<svg xmlns=\"http://www.w3.org/2000/svg\" height=\"24px\"viewBox=\"0 0 24 24\"\n",
              "     width=\"24px\">\n",
              "    <g>\n",
              "        <path d=\"M19 3H5c-1.1 0-2 .9-2 2v14c0 1.1.9 2 2 2h14c1.1 0 2-.9 2-2V5c0-1.1-.9-2-2-2zM9 17H7v-7h2v7zm4 0h-2V7h2v10zm4 0h-2v-4h2v4z\"/>\n",
              "    </g>\n",
              "</svg>\n",
              "  </button>\n",
              "\n",
              "<style>\n",
              "  .colab-df-quickchart {\n",
              "      --bg-color: #E8F0FE;\n",
              "      --fill-color: #1967D2;\n",
              "      --hover-bg-color: #E2EBFA;\n",
              "      --hover-fill-color: #174EA6;\n",
              "      --disabled-fill-color: #AAA;\n",
              "      --disabled-bg-color: #DDD;\n",
              "  }\n",
              "\n",
              "  [theme=dark] .colab-df-quickchart {\n",
              "      --bg-color: #3B4455;\n",
              "      --fill-color: #D2E3FC;\n",
              "      --hover-bg-color: #434B5C;\n",
              "      --hover-fill-color: #FFFFFF;\n",
              "      --disabled-bg-color: #3B4455;\n",
              "      --disabled-fill-color: #666;\n",
              "  }\n",
              "\n",
              "  .colab-df-quickchart {\n",
              "    background-color: var(--bg-color);\n",
              "    border: none;\n",
              "    border-radius: 50%;\n",
              "    cursor: pointer;\n",
              "    display: none;\n",
              "    fill: var(--fill-color);\n",
              "    height: 32px;\n",
              "    padding: 0;\n",
              "    width: 32px;\n",
              "  }\n",
              "\n",
              "  .colab-df-quickchart:hover {\n",
              "    background-color: var(--hover-bg-color);\n",
              "    box-shadow: 0 1px 2px rgba(60, 64, 67, 0.3), 0 1px 3px 1px rgba(60, 64, 67, 0.15);\n",
              "    fill: var(--button-hover-fill-color);\n",
              "  }\n",
              "\n",
              "  .colab-df-quickchart-complete:disabled,\n",
              "  .colab-df-quickchart-complete:disabled:hover {\n",
              "    background-color: var(--disabled-bg-color);\n",
              "    fill: var(--disabled-fill-color);\n",
              "    box-shadow: none;\n",
              "  }\n",
              "\n",
              "  .colab-df-spinner {\n",
              "    border: 2px solid var(--fill-color);\n",
              "    border-color: transparent;\n",
              "    border-bottom-color: var(--fill-color);\n",
              "    animation:\n",
              "      spin 1s steps(1) infinite;\n",
              "  }\n",
              "\n",
              "  @keyframes spin {\n",
              "    0% {\n",
              "      border-color: transparent;\n",
              "      border-bottom-color: var(--fill-color);\n",
              "      border-left-color: var(--fill-color);\n",
              "    }\n",
              "    20% {\n",
              "      border-color: transparent;\n",
              "      border-left-color: var(--fill-color);\n",
              "      border-top-color: var(--fill-color);\n",
              "    }\n",
              "    30% {\n",
              "      border-color: transparent;\n",
              "      border-left-color: var(--fill-color);\n",
              "      border-top-color: var(--fill-color);\n",
              "      border-right-color: var(--fill-color);\n",
              "    }\n",
              "    40% {\n",
              "      border-color: transparent;\n",
              "      border-right-color: var(--fill-color);\n",
              "      border-top-color: var(--fill-color);\n",
              "    }\n",
              "    60% {\n",
              "      border-color: transparent;\n",
              "      border-right-color: var(--fill-color);\n",
              "    }\n",
              "    80% {\n",
              "      border-color: transparent;\n",
              "      border-right-color: var(--fill-color);\n",
              "      border-bottom-color: var(--fill-color);\n",
              "    }\n",
              "    90% {\n",
              "      border-color: transparent;\n",
              "      border-bottom-color: var(--fill-color);\n",
              "    }\n",
              "  }\n",
              "</style>\n",
              "\n",
              "  <script>\n",
              "    async function quickchart(key) {\n",
              "      const quickchartButtonEl =\n",
              "        document.querySelector('#' + key + ' button');\n",
              "      quickchartButtonEl.disabled = true;  // To prevent multiple clicks.\n",
              "      quickchartButtonEl.classList.add('colab-df-spinner');\n",
              "      try {\n",
              "        const charts = await google.colab.kernel.invokeFunction(\n",
              "            'suggestCharts', [key], {});\n",
              "      } catch (error) {\n",
              "        console.error('Error during call to suggestCharts:', error);\n",
              "      }\n",
              "      quickchartButtonEl.classList.remove('colab-df-spinner');\n",
              "      quickchartButtonEl.classList.add('colab-df-quickchart-complete');\n",
              "    }\n",
              "    (() => {\n",
              "      let quickchartButtonEl =\n",
              "        document.querySelector('#df-a5ac8c40-c2a2-4971-8b48-871d7e054b70 button');\n",
              "      quickchartButtonEl.style.display =\n",
              "        google.colab.kernel.accessAllowed ? 'block' : 'none';\n",
              "    })();\n",
              "  </script>\n",
              "</div>\n",
              "\n",
              "    </div>\n",
              "  </div>\n"
            ],
            "application/vnd.google.colaboratory.intrinsic+json": {
              "type": "dataframe",
              "variable_name": "df_user",
              "summary": "{\n  \"name\": \"df_user\",\n  \"rows\": 100000,\n  \"fields\": [\n    {\n      \"column\": \"USER_ID\",\n      \"properties\": {\n        \"dtype\": \"string\",\n        \"num_unique_values\": 100000,\n        \"samples\": [\n          \"6503c2820b8083d9b4eaf89d\",\n          \"5f97581e396d5a167efb6e9f\",\n          \"660465647756e548cb86df90\"\n        ],\n        \"semantic_type\": \"\",\n        \"description\": \"\"\n      }\n    },\n    {\n      \"column\": \"CREATED_DATE\",\n      \"properties\": {\n        \"dtype\": \"object\",\n        \"num_unique_values\": 99942,\n        \"samples\": [\n          \"2023-07-02 16:44:42.000 Z\",\n          \"2021-07-25 17:30:02.000 Z\",\n          \"2022-12-03 21:19:38.000 Z\"\n        ],\n        \"semantic_type\": \"\",\n        \"description\": \"\"\n      }\n    },\n    {\n      \"column\": \"BIRTH_DATE\",\n      \"properties\": {\n        \"dtype\": \"object\",\n        \"num_unique_values\": 54721,\n        \"samples\": [\n          \"1974-04-22 04:00:00.000 Z\",\n          \"2005-06-05 04:00:00.000 Z\",\n          \"1966-12-09 05:00:00.000 Z\"\n        ],\n        \"semantic_type\": \"\",\n        \"description\": \"\"\n      }\n    },\n    {\n      \"column\": \"STATE\",\n      \"properties\": {\n        \"dtype\": \"category\",\n        \"num_unique_values\": 52,\n        \"samples\": [\n          \"WI\",\n          \"AL\",\n          \"ID\"\n        ],\n        \"semantic_type\": \"\",\n        \"description\": \"\"\n      }\n    },\n    {\n      \"column\": \"LANGUAGE\",\n      \"properties\": {\n        \"dtype\": \"category\",\n        \"num_unique_values\": 2,\n        \"samples\": [\n          \"en\",\n          \"es-419\"\n        ],\n        \"semantic_type\": \"\",\n        \"description\": \"\"\n      }\n    },\n    {\n      \"column\": \"GENDER\",\n      \"properties\": {\n        \"dtype\": \"category\",\n        \"num_unique_values\": 11,\n        \"samples\": [\n          \"not_listed\",\n          \"female\"\n        ],\n        \"semantic_type\": \"\",\n        \"description\": \"\"\n      }\n    }\n  ]\n}"
            }
          },
          "metadata": {},
          "execution_count": 11
        }
      ]
    },
    {
      "cell_type": "markdown",
      "source": [
        "#**Updating Date column types from Object to DateTime**\n",
        "\n",
        "\n"
      ],
      "metadata": {
        "id": "KZCpHcs4YcDw"
      }
    },
    {
      "cell_type": "code",
      "source": [
        "# Converting 'created_date' and 'birth_date' to datetime\n",
        "df_user['CREATED_DATE'] = pd.to_datetime(df_user['CREATED_DATE'], errors='coerce')\n",
        "df_user['BIRTH_DATE'] = pd.to_datetime(df_user['BIRTH_DATE'], errors='coerce')\n",
        "\n",
        "# Extracting only the date part\n",
        "df_user['CREATED_DATE'] = df_user['CREATED_DATE'].dt.normalize()\n",
        "df_user['BIRTH_DATE'] = df_user['BIRTH_DATE'].dt.normalize()"
      ],
      "metadata": {
        "id": "oEZSQzwmYew3"
      },
      "execution_count": 12,
      "outputs": []
    },
    {
      "cell_type": "code",
      "source": [
        "df_user.dtypes"
      ],
      "metadata": {
        "colab": {
          "base_uri": "https://localhost:8080/",
          "height": 272
        },
        "id": "BN1ERVEwYq0E",
        "outputId": "f744d8d7-4555-491b-d280-29a6709fbdde"
      },
      "execution_count": null,
      "outputs": [
        {
          "output_type": "execute_result",
          "data": {
            "text/plain": [
              "USER_ID                      object\n",
              "CREATED_DATE    datetime64[ns, UTC]\n",
              "BIRTH_DATE      datetime64[ns, UTC]\n",
              "STATE                        object\n",
              "LANGUAGE                     object\n",
              "GENDER                       object\n",
              "dtype: object"
            ],
            "text/html": [
              "<div>\n",
              "<style scoped>\n",
              "    .dataframe tbody tr th:only-of-type {\n",
              "        vertical-align: middle;\n",
              "    }\n",
              "\n",
              "    .dataframe tbody tr th {\n",
              "        vertical-align: top;\n",
              "    }\n",
              "\n",
              "    .dataframe thead th {\n",
              "        text-align: right;\n",
              "    }\n",
              "</style>\n",
              "<table border=\"1\" class=\"dataframe\">\n",
              "  <thead>\n",
              "    <tr style=\"text-align: right;\">\n",
              "      <th></th>\n",
              "      <th>0</th>\n",
              "    </tr>\n",
              "  </thead>\n",
              "  <tbody>\n",
              "    <tr>\n",
              "      <th>USER_ID</th>\n",
              "      <td>object</td>\n",
              "    </tr>\n",
              "    <tr>\n",
              "      <th>CREATED_DATE</th>\n",
              "      <td>datetime64[ns, UTC]</td>\n",
              "    </tr>\n",
              "    <tr>\n",
              "      <th>BIRTH_DATE</th>\n",
              "      <td>datetime64[ns, UTC]</td>\n",
              "    </tr>\n",
              "    <tr>\n",
              "      <th>STATE</th>\n",
              "      <td>object</td>\n",
              "    </tr>\n",
              "    <tr>\n",
              "      <th>LANGUAGE</th>\n",
              "      <td>object</td>\n",
              "    </tr>\n",
              "    <tr>\n",
              "      <th>GENDER</th>\n",
              "      <td>object</td>\n",
              "    </tr>\n",
              "  </tbody>\n",
              "</table>\n",
              "</div><br><label><b>dtype:</b> object</label>"
            ]
          },
          "metadata": {},
          "execution_count": 124
        }
      ]
    },
    {
      "cell_type": "markdown",
      "source": [
        "# **Counting Null values in columns**"
      ],
      "metadata": {
        "id": "XyQ7ylQiIr7f"
      }
    },
    {
      "cell_type": "code",
      "source": [
        "# Total number of rows\n",
        "total_rows_user = len(df_user)\n",
        "\n",
        "# Count of null values in each column\n",
        "null_counts_user = df_user.isnull().sum()\n",
        "\n",
        "# Percentage of null values\n",
        "null_percentage_user = (null_counts_user / total_rows_user) * 100\n",
        "formatted_percentage_user = null_percentage_user.map('{:.2f}%'.format)\n",
        "\n",
        "# DataFrame to display results\n",
        "null_summary_user = pd.DataFrame({\n",
        "    'Null Count': null_counts_user,\n",
        "    'Null Percentage': formatted_percentage_user\n",
        "})\n",
        "\n",
        "# Summary for the Null records\n",
        "print(null_summary_user)"
      ],
      "metadata": {
        "colab": {
          "base_uri": "https://localhost:8080/"
        },
        "id": "3QLgMCWEaywC",
        "outputId": "b69a358f-a2de-4a6e-9c41-7633a97a9265"
      },
      "execution_count": 13,
      "outputs": [
        {
          "output_type": "stream",
          "name": "stdout",
          "text": [
            "              Null Count Null Percentage\n",
            "USER_ID                0           0.00%\n",
            "CREATED_DATE           0           0.00%\n",
            "BIRTH_DATE          3675           3.67%\n",
            "STATE               4812           4.81%\n",
            "LANGUAGE           30508          30.51%\n",
            "GENDER              5892           5.89%\n"
          ]
        }
      ]
    },
    {
      "cell_type": "code",
      "source": [
        "df_user.head()"
      ],
      "metadata": {
        "colab": {
          "base_uri": "https://localhost:8080/",
          "height": 206
        },
        "id": "a8jFCsbCYvJC",
        "outputId": "ccca73c6-261d-4015-bd23-ba348a4d408b"
      },
      "execution_count": 14,
      "outputs": [
        {
          "output_type": "execute_result",
          "data": {
            "text/plain": [
              "                    USER_ID              CREATED_DATE  \\\n",
              "0  5ef3b4f17053ab141787697d 2020-06-24 00:00:00+00:00   \n",
              "1  5ff220d383fcfc12622b96bc 2021-01-03 00:00:00+00:00   \n",
              "2  6477950aa55bb77a0e27ee10 2023-05-31 00:00:00+00:00   \n",
              "3  658a306e99b40f103b63ccf8 2023-12-26 00:00:00+00:00   \n",
              "4  653cf5d6a225ea102b7ecdc2 2023-10-28 00:00:00+00:00   \n",
              "\n",
              "                 BIRTH_DATE STATE LANGUAGE  GENDER  \n",
              "0 2000-08-11 00:00:00+00:00    CA   es-419  female  \n",
              "1 2001-09-24 00:00:00+00:00    PA       en  female  \n",
              "2 1994-10-28 00:00:00+00:00    FL   es-419  female  \n",
              "3                       NaT    NC       en     NaN  \n",
              "4 1972-03-19 00:00:00+00:00    PA       en  female  "
            ],
            "text/html": [
              "\n",
              "  <div id=\"df-56d99f2a-122a-4515-9760-77cb430c136c\" class=\"colab-df-container\">\n",
              "    <div>\n",
              "<style scoped>\n",
              "    .dataframe tbody tr th:only-of-type {\n",
              "        vertical-align: middle;\n",
              "    }\n",
              "\n",
              "    .dataframe tbody tr th {\n",
              "        vertical-align: top;\n",
              "    }\n",
              "\n",
              "    .dataframe thead th {\n",
              "        text-align: right;\n",
              "    }\n",
              "</style>\n",
              "<table border=\"1\" class=\"dataframe\">\n",
              "  <thead>\n",
              "    <tr style=\"text-align: right;\">\n",
              "      <th></th>\n",
              "      <th>USER_ID</th>\n",
              "      <th>CREATED_DATE</th>\n",
              "      <th>BIRTH_DATE</th>\n",
              "      <th>STATE</th>\n",
              "      <th>LANGUAGE</th>\n",
              "      <th>GENDER</th>\n",
              "    </tr>\n",
              "  </thead>\n",
              "  <tbody>\n",
              "    <tr>\n",
              "      <th>0</th>\n",
              "      <td>5ef3b4f17053ab141787697d</td>\n",
              "      <td>2020-06-24 00:00:00+00:00</td>\n",
              "      <td>2000-08-11 00:00:00+00:00</td>\n",
              "      <td>CA</td>\n",
              "      <td>es-419</td>\n",
              "      <td>female</td>\n",
              "    </tr>\n",
              "    <tr>\n",
              "      <th>1</th>\n",
              "      <td>5ff220d383fcfc12622b96bc</td>\n",
              "      <td>2021-01-03 00:00:00+00:00</td>\n",
              "      <td>2001-09-24 00:00:00+00:00</td>\n",
              "      <td>PA</td>\n",
              "      <td>en</td>\n",
              "      <td>female</td>\n",
              "    </tr>\n",
              "    <tr>\n",
              "      <th>2</th>\n",
              "      <td>6477950aa55bb77a0e27ee10</td>\n",
              "      <td>2023-05-31 00:00:00+00:00</td>\n",
              "      <td>1994-10-28 00:00:00+00:00</td>\n",
              "      <td>FL</td>\n",
              "      <td>es-419</td>\n",
              "      <td>female</td>\n",
              "    </tr>\n",
              "    <tr>\n",
              "      <th>3</th>\n",
              "      <td>658a306e99b40f103b63ccf8</td>\n",
              "      <td>2023-12-26 00:00:00+00:00</td>\n",
              "      <td>NaT</td>\n",
              "      <td>NC</td>\n",
              "      <td>en</td>\n",
              "      <td>NaN</td>\n",
              "    </tr>\n",
              "    <tr>\n",
              "      <th>4</th>\n",
              "      <td>653cf5d6a225ea102b7ecdc2</td>\n",
              "      <td>2023-10-28 00:00:00+00:00</td>\n",
              "      <td>1972-03-19 00:00:00+00:00</td>\n",
              "      <td>PA</td>\n",
              "      <td>en</td>\n",
              "      <td>female</td>\n",
              "    </tr>\n",
              "  </tbody>\n",
              "</table>\n",
              "</div>\n",
              "    <div class=\"colab-df-buttons\">\n",
              "\n",
              "  <div class=\"colab-df-container\">\n",
              "    <button class=\"colab-df-convert\" onclick=\"convertToInteractive('df-56d99f2a-122a-4515-9760-77cb430c136c')\"\n",
              "            title=\"Convert this dataframe to an interactive table.\"\n",
              "            style=\"display:none;\">\n",
              "\n",
              "  <svg xmlns=\"http://www.w3.org/2000/svg\" height=\"24px\" viewBox=\"0 -960 960 960\">\n",
              "    <path d=\"M120-120v-720h720v720H120Zm60-500h600v-160H180v160Zm220 220h160v-160H400v160Zm0 220h160v-160H400v160ZM180-400h160v-160H180v160Zm440 0h160v-160H620v160ZM180-180h160v-160H180v160Zm440 0h160v-160H620v160Z\"/>\n",
              "  </svg>\n",
              "    </button>\n",
              "\n",
              "  <style>\n",
              "    .colab-df-container {\n",
              "      display:flex;\n",
              "      gap: 12px;\n",
              "    }\n",
              "\n",
              "    .colab-df-convert {\n",
              "      background-color: #E8F0FE;\n",
              "      border: none;\n",
              "      border-radius: 50%;\n",
              "      cursor: pointer;\n",
              "      display: none;\n",
              "      fill: #1967D2;\n",
              "      height: 32px;\n",
              "      padding: 0 0 0 0;\n",
              "      width: 32px;\n",
              "    }\n",
              "\n",
              "    .colab-df-convert:hover {\n",
              "      background-color: #E2EBFA;\n",
              "      box-shadow: 0px 1px 2px rgba(60, 64, 67, 0.3), 0px 1px 3px 1px rgba(60, 64, 67, 0.15);\n",
              "      fill: #174EA6;\n",
              "    }\n",
              "\n",
              "    .colab-df-buttons div {\n",
              "      margin-bottom: 4px;\n",
              "    }\n",
              "\n",
              "    [theme=dark] .colab-df-convert {\n",
              "      background-color: #3B4455;\n",
              "      fill: #D2E3FC;\n",
              "    }\n",
              "\n",
              "    [theme=dark] .colab-df-convert:hover {\n",
              "      background-color: #434B5C;\n",
              "      box-shadow: 0px 1px 3px 1px rgba(0, 0, 0, 0.15);\n",
              "      filter: drop-shadow(0px 1px 2px rgba(0, 0, 0, 0.3));\n",
              "      fill: #FFFFFF;\n",
              "    }\n",
              "  </style>\n",
              "\n",
              "    <script>\n",
              "      const buttonEl =\n",
              "        document.querySelector('#df-56d99f2a-122a-4515-9760-77cb430c136c button.colab-df-convert');\n",
              "      buttonEl.style.display =\n",
              "        google.colab.kernel.accessAllowed ? 'block' : 'none';\n",
              "\n",
              "      async function convertToInteractive(key) {\n",
              "        const element = document.querySelector('#df-56d99f2a-122a-4515-9760-77cb430c136c');\n",
              "        const dataTable =\n",
              "          await google.colab.kernel.invokeFunction('convertToInteractive',\n",
              "                                                    [key], {});\n",
              "        if (!dataTable) return;\n",
              "\n",
              "        const docLinkHtml = 'Like what you see? Visit the ' +\n",
              "          '<a target=\"_blank\" href=https://colab.research.google.com/notebooks/data_table.ipynb>data table notebook</a>'\n",
              "          + ' to learn more about interactive tables.';\n",
              "        element.innerHTML = '';\n",
              "        dataTable['output_type'] = 'display_data';\n",
              "        await google.colab.output.renderOutput(dataTable, element);\n",
              "        const docLink = document.createElement('div');\n",
              "        docLink.innerHTML = docLinkHtml;\n",
              "        element.appendChild(docLink);\n",
              "      }\n",
              "    </script>\n",
              "  </div>\n",
              "\n",
              "\n",
              "<div id=\"df-2e4057e1-7ed3-422b-86b0-9a15698a76dc\">\n",
              "  <button class=\"colab-df-quickchart\" onclick=\"quickchart('df-2e4057e1-7ed3-422b-86b0-9a15698a76dc')\"\n",
              "            title=\"Suggest charts\"\n",
              "            style=\"display:none;\">\n",
              "\n",
              "<svg xmlns=\"http://www.w3.org/2000/svg\" height=\"24px\"viewBox=\"0 0 24 24\"\n",
              "     width=\"24px\">\n",
              "    <g>\n",
              "        <path d=\"M19 3H5c-1.1 0-2 .9-2 2v14c0 1.1.9 2 2 2h14c1.1 0 2-.9 2-2V5c0-1.1-.9-2-2-2zM9 17H7v-7h2v7zm4 0h-2V7h2v10zm4 0h-2v-4h2v4z\"/>\n",
              "    </g>\n",
              "</svg>\n",
              "  </button>\n",
              "\n",
              "<style>\n",
              "  .colab-df-quickchart {\n",
              "      --bg-color: #E8F0FE;\n",
              "      --fill-color: #1967D2;\n",
              "      --hover-bg-color: #E2EBFA;\n",
              "      --hover-fill-color: #174EA6;\n",
              "      --disabled-fill-color: #AAA;\n",
              "      --disabled-bg-color: #DDD;\n",
              "  }\n",
              "\n",
              "  [theme=dark] .colab-df-quickchart {\n",
              "      --bg-color: #3B4455;\n",
              "      --fill-color: #D2E3FC;\n",
              "      --hover-bg-color: #434B5C;\n",
              "      --hover-fill-color: #FFFFFF;\n",
              "      --disabled-bg-color: #3B4455;\n",
              "      --disabled-fill-color: #666;\n",
              "  }\n",
              "\n",
              "  .colab-df-quickchart {\n",
              "    background-color: var(--bg-color);\n",
              "    border: none;\n",
              "    border-radius: 50%;\n",
              "    cursor: pointer;\n",
              "    display: none;\n",
              "    fill: var(--fill-color);\n",
              "    height: 32px;\n",
              "    padding: 0;\n",
              "    width: 32px;\n",
              "  }\n",
              "\n",
              "  .colab-df-quickchart:hover {\n",
              "    background-color: var(--hover-bg-color);\n",
              "    box-shadow: 0 1px 2px rgba(60, 64, 67, 0.3), 0 1px 3px 1px rgba(60, 64, 67, 0.15);\n",
              "    fill: var(--button-hover-fill-color);\n",
              "  }\n",
              "\n",
              "  .colab-df-quickchart-complete:disabled,\n",
              "  .colab-df-quickchart-complete:disabled:hover {\n",
              "    background-color: var(--disabled-bg-color);\n",
              "    fill: var(--disabled-fill-color);\n",
              "    box-shadow: none;\n",
              "  }\n",
              "\n",
              "  .colab-df-spinner {\n",
              "    border: 2px solid var(--fill-color);\n",
              "    border-color: transparent;\n",
              "    border-bottom-color: var(--fill-color);\n",
              "    animation:\n",
              "      spin 1s steps(1) infinite;\n",
              "  }\n",
              "\n",
              "  @keyframes spin {\n",
              "    0% {\n",
              "      border-color: transparent;\n",
              "      border-bottom-color: var(--fill-color);\n",
              "      border-left-color: var(--fill-color);\n",
              "    }\n",
              "    20% {\n",
              "      border-color: transparent;\n",
              "      border-left-color: var(--fill-color);\n",
              "      border-top-color: var(--fill-color);\n",
              "    }\n",
              "    30% {\n",
              "      border-color: transparent;\n",
              "      border-left-color: var(--fill-color);\n",
              "      border-top-color: var(--fill-color);\n",
              "      border-right-color: var(--fill-color);\n",
              "    }\n",
              "    40% {\n",
              "      border-color: transparent;\n",
              "      border-right-color: var(--fill-color);\n",
              "      border-top-color: var(--fill-color);\n",
              "    }\n",
              "    60% {\n",
              "      border-color: transparent;\n",
              "      border-right-color: var(--fill-color);\n",
              "    }\n",
              "    80% {\n",
              "      border-color: transparent;\n",
              "      border-right-color: var(--fill-color);\n",
              "      border-bottom-color: var(--fill-color);\n",
              "    }\n",
              "    90% {\n",
              "      border-color: transparent;\n",
              "      border-bottom-color: var(--fill-color);\n",
              "    }\n",
              "  }\n",
              "</style>\n",
              "\n",
              "  <script>\n",
              "    async function quickchart(key) {\n",
              "      const quickchartButtonEl =\n",
              "        document.querySelector('#' + key + ' button');\n",
              "      quickchartButtonEl.disabled = true;  // To prevent multiple clicks.\n",
              "      quickchartButtonEl.classList.add('colab-df-spinner');\n",
              "      try {\n",
              "        const charts = await google.colab.kernel.invokeFunction(\n",
              "            'suggestCharts', [key], {});\n",
              "      } catch (error) {\n",
              "        console.error('Error during call to suggestCharts:', error);\n",
              "      }\n",
              "      quickchartButtonEl.classList.remove('colab-df-spinner');\n",
              "      quickchartButtonEl.classList.add('colab-df-quickchart-complete');\n",
              "    }\n",
              "    (() => {\n",
              "      let quickchartButtonEl =\n",
              "        document.querySelector('#df-2e4057e1-7ed3-422b-86b0-9a15698a76dc button');\n",
              "      quickchartButtonEl.style.display =\n",
              "        google.colab.kernel.accessAllowed ? 'block' : 'none';\n",
              "    })();\n",
              "  </script>\n",
              "</div>\n",
              "\n",
              "    </div>\n",
              "  </div>\n"
            ],
            "application/vnd.google.colaboratory.intrinsic+json": {
              "type": "dataframe",
              "variable_name": "df_user",
              "summary": "{\n  \"name\": \"df_user\",\n  \"rows\": 100000,\n  \"fields\": [\n    {\n      \"column\": \"USER_ID\",\n      \"properties\": {\n        \"dtype\": \"string\",\n        \"num_unique_values\": 100000,\n        \"samples\": [\n          \"6503c2820b8083d9b4eaf89d\",\n          \"5f97581e396d5a167efb6e9f\",\n          \"660465647756e548cb86df90\"\n        ],\n        \"semantic_type\": \"\",\n        \"description\": \"\"\n      }\n    },\n    {\n      \"column\": \"CREATED_DATE\",\n      \"properties\": {\n        \"dtype\": \"date\",\n        \"min\": \"2014-04-18 00:00:00+00:00\",\n        \"max\": \"2024-09-11 00:00:00+00:00\",\n        \"num_unique_values\": 2783,\n        \"samples\": [\n          \"2020-05-17 00:00:00+00:00\",\n          \"2018-02-21 00:00:00+00:00\",\n          \"2018-10-26 00:00:00+00:00\"\n        ],\n        \"semantic_type\": \"\",\n        \"description\": \"\"\n      }\n    },\n    {\n      \"column\": \"BIRTH_DATE\",\n      \"properties\": {\n        \"dtype\": \"date\",\n        \"min\": \"1900-01-01 00:00:00+00:00\",\n        \"max\": \"2022-04-03 00:00:00+00:00\",\n        \"num_unique_values\": 21819,\n        \"samples\": [\n          \"1962-03-05 00:00:00+00:00\",\n          \"1959-03-09 00:00:00+00:00\",\n          \"1963-07-25 00:00:00+00:00\"\n        ],\n        \"semantic_type\": \"\",\n        \"description\": \"\"\n      }\n    },\n    {\n      \"column\": \"STATE\",\n      \"properties\": {\n        \"dtype\": \"category\",\n        \"num_unique_values\": 52,\n        \"samples\": [\n          \"WI\",\n          \"AL\",\n          \"ID\"\n        ],\n        \"semantic_type\": \"\",\n        \"description\": \"\"\n      }\n    },\n    {\n      \"column\": \"LANGUAGE\",\n      \"properties\": {\n        \"dtype\": \"category\",\n        \"num_unique_values\": 2,\n        \"samples\": [\n          \"en\",\n          \"es-419\"\n        ],\n        \"semantic_type\": \"\",\n        \"description\": \"\"\n      }\n    },\n    {\n      \"column\": \"GENDER\",\n      \"properties\": {\n        \"dtype\": \"category\",\n        \"num_unique_values\": 11,\n        \"samples\": [\n          \"not_listed\",\n          \"female\"\n        ],\n        \"semantic_type\": \"\",\n        \"description\": \"\"\n      }\n    }\n  ]\n}"
            }
          },
          "metadata": {},
          "execution_count": 14
        }
      ]
    },
    {
      "cell_type": "markdown",
      "source": [
        "# **Checking Duplicates Records**\n",
        "\n"
      ],
      "metadata": {
        "id": "aAPgcHwncnUC"
      }
    },
    {
      "cell_type": "code",
      "source": [
        "#count duplicate records\n",
        "print(df_products.duplicated().sum())"
      ],
      "metadata": {
        "colab": {
          "base_uri": "https://localhost:8080/"
        },
        "id": "R9egnr-ccqde",
        "outputId": "497affb3-6e17-4402-c07c-87488ee369d4"
      },
      "execution_count": 15,
      "outputs": [
        {
          "output_type": "stream",
          "name": "stdout",
          "text": [
            "0\n"
          ]
        }
      ]
    },
    {
      "cell_type": "markdown",
      "source": [
        "# **Creating AGE Column**\n",
        "\n"
      ],
      "metadata": {
        "id": "MKV_TC-Ec-lQ"
      }
    },
    {
      "cell_type": "code",
      "source": [
        "# Ensure 'BIRTH_DATE' is in datetime format and remove timezone awareness\n",
        "df_user['BIRTH_DATE'] = pd.to_datetime(df_user['BIRTH_DATE'], errors='coerce').dt.tz_localize(None)\n",
        "\n",
        "# Calculate the age using today's date, ensuring both are timezone-naive\n",
        "df_user['AGE'] = (pd.Timestamp.now().normalize() - df_user['BIRTH_DATE']).dt.days // 365\n",
        "\n",
        "# Handle NaN values in 'AGE' by filling with -1\n",
        "df_user['AGE'].fillna(-1)\n",
        "\n",
        "# Convert 'AGE' to integer\n",
        "df_user['AGE'] = df_user['AGE'].astype('int', errors='ignore')\n"
      ],
      "metadata": {
        "id": "DM3jjU_gdA7x"
      },
      "execution_count": 20,
      "outputs": []
    },
    {
      "cell_type": "code",
      "source": [
        "df_user.columns"
      ],
      "metadata": {
        "colab": {
          "base_uri": "https://localhost:8080/"
        },
        "id": "VwSxY4biQ9av",
        "outputId": "509e2d8c-8883-42ee-b79c-34a9970922db"
      },
      "execution_count": 22,
      "outputs": [
        {
          "output_type": "execute_result",
          "data": {
            "text/plain": [
              "Index(['USER_ID', 'CREATED_DATE', 'BIRTH_DATE', 'STATE', 'LANGUAGE', 'GENDER',\n",
              "       'AGE'],\n",
              "      dtype='object')"
            ]
          },
          "metadata": {},
          "execution_count": 22
        }
      ]
    },
    {
      "cell_type": "markdown",
      "source": [
        "# **Checking Column Uniqueness**"
      ],
      "metadata": {
        "id": "dtrXc7FXMBZP"
      }
    },
    {
      "cell_type": "code",
      "source": [
        "df_user['GENDER'].nunique()"
      ],
      "metadata": {
        "colab": {
          "base_uri": "https://localhost:8080/"
        },
        "id": "JSWYdJ6NMHyI",
        "outputId": "cd87cb7b-2c2e-4811-a9c1-dd16ac3d852e"
      },
      "execution_count": null,
      "outputs": [
        {
          "output_type": "execute_result",
          "data": {
            "text/plain": [
              "11"
            ]
          },
          "metadata": {},
          "execution_count": 136
        }
      ]
    },
    {
      "cell_type": "code",
      "source": [
        "df_user['GENDER'].unique()"
      ],
      "metadata": {
        "colab": {
          "base_uri": "https://localhost:8080/"
        },
        "id": "UIO_rsbtKOss",
        "outputId": "ad76b5ac-ef58-4a82-8b62-83c02305714e"
      },
      "execution_count": null,
      "outputs": [
        {
          "output_type": "execute_result",
          "data": {
            "text/plain": [
              "array(['female', nan, 'male', 'non_binary', 'transgender',\n",
              "       'prefer_not_to_say', 'not_listed', 'Non-Binary', 'unknown',\n",
              "       'not_specified', \"My gender isn't listed\", 'Prefer not to say'],\n",
              "      dtype=object)"
            ]
          },
          "metadata": {},
          "execution_count": 137
        }
      ]
    },
    {
      "cell_type": "markdown",
      "source": [
        "# **Standardizing Gender Column Values**"
      ],
      "metadata": {
        "id": "eDwXThCgLkjd"
      }
    },
    {
      "cell_type": "code",
      "source": [
        "# Standardizing gender values\n",
        "df_user['GENDER'] = df_user['GENDER'].replace({\n",
        "    'Non-Binary': 'non_binary',\n",
        "    'Prefer not to say': 'prefer_not_to_say',\n",
        "    'My gender isn\\'t listed': 'not_specified',\n",
        "    'not_listed': 'not_specified',\n",
        "})\n",
        "# Replace NaN values with 'unknown'\n",
        "df_user['GENDER'] = df_user['GENDER'].fillna('unknown')\n",
        "\n",
        "# Display the updated DataFrame\n",
        "df_user['GENDER'].unique()"
      ],
      "metadata": {
        "colab": {
          "base_uri": "https://localhost:8080/"
        },
        "id": "dnqNNSVye_Ur",
        "outputId": "c145fd7f-9159-414d-e5a1-ae1f60c1a6ec"
      },
      "execution_count": null,
      "outputs": [
        {
          "output_type": "execute_result",
          "data": {
            "text/plain": [
              "array(['female', 'unknown', 'male', 'non_binary', 'transgender',\n",
              "       'prefer_not_to_say', 'not_specified'], dtype=object)"
            ]
          },
          "metadata": {},
          "execution_count": 138
        }
      ]
    },
    {
      "cell_type": "code",
      "source": [
        "df_user['STATE'].nunique()"
      ],
      "metadata": {
        "colab": {
          "base_uri": "https://localhost:8080/"
        },
        "id": "SrVA3xkqow7j",
        "outputId": "8323b748-5cd9-495a-cad5-8a60c36af7cc"
      },
      "execution_count": null,
      "outputs": [
        {
          "output_type": "execute_result",
          "data": {
            "text/plain": [
              "52"
            ]
          },
          "metadata": {},
          "execution_count": 139
        }
      ]
    },
    {
      "cell_type": "code",
      "source": [
        "df_user['STATE'].unique()"
      ],
      "metadata": {
        "colab": {
          "base_uri": "https://localhost:8080/"
        },
        "id": "nyQXX1nCo7TV",
        "outputId": "a73f851d-d96b-4d84-9b36-b1ca3abc4557"
      },
      "execution_count": null,
      "outputs": [
        {
          "output_type": "execute_result",
          "data": {
            "text/plain": [
              "array(['CA', 'PA', 'FL', 'NC', 'NY', 'IN', nan, 'OH', 'TX', 'NM', 'PR',\n",
              "       'CO', 'AZ', 'RI', 'MO', 'NJ', 'MA', 'TN', 'LA', 'NH', 'WI', 'IA',\n",
              "       'GA', 'VA', 'DC', 'KY', 'SC', 'MN', 'WV', 'DE', 'MI', 'IL', 'MS',\n",
              "       'WA', 'KS', 'CT', 'OR', 'UT', 'MD', 'OK', 'NE', 'NV', 'AL', 'AK',\n",
              "       'AR', 'HI', 'ME', 'ND', 'ID', 'WY', 'MT', 'SD', 'VT'], dtype=object)"
            ]
          },
          "metadata": {},
          "execution_count": 141
        }
      ]
    },
    {
      "cell_type": "code",
      "source": [
        "# Replace NaN values with 'unknown'\n",
        "df_user['STATE'] = df_user['STATE'].fillna('unknown')\n",
        "\n",
        "# Display the updated DataFrame\n",
        "df_user['STATE'].unique()"
      ],
      "metadata": {
        "colab": {
          "base_uri": "https://localhost:8080/"
        },
        "id": "s_SrSvV6M4td",
        "outputId": "bdc959f8-40ce-4d31-d0fb-4792227a2de3"
      },
      "execution_count": null,
      "outputs": [
        {
          "output_type": "execute_result",
          "data": {
            "text/plain": [
              "array(['CA', 'PA', 'FL', 'NC', 'NY', 'IN', 'unknown', 'OH', 'TX', 'NM',\n",
              "       'PR', 'CO', 'AZ', 'RI', 'MO', 'NJ', 'MA', 'TN', 'LA', 'NH', 'WI',\n",
              "       'IA', 'GA', 'VA', 'DC', 'KY', 'SC', 'MN', 'WV', 'DE', 'MI', 'IL',\n",
              "       'MS', 'WA', 'KS', 'CT', 'OR', 'UT', 'MD', 'OK', 'NE', 'NV', 'AL',\n",
              "       'AK', 'AR', 'HI', 'ME', 'ND', 'ID', 'WY', 'MT', 'SD', 'VT'],\n",
              "      dtype=object)"
            ]
          },
          "metadata": {},
          "execution_count": 142
        }
      ]
    },
    {
      "cell_type": "markdown",
      "source": [
        "# **Checking Age Distribution**"
      ],
      "metadata": {
        "id": "a1kbgjt3pYzW"
      }
    },
    {
      "cell_type": "code",
      "source": [
        "bins = [0, 18, 35, 45, 55, 65, 75, 85, 95, 105, 120]  # Bin edges\n",
        "labels = ['0-18', '19-35', '36-45', '46-55', '56-65', '66-75', '76-85', '86-95', '96-105', '106-120']  # Labels for bins\n",
        "\n",
        "# Creating a new column for age categories\n",
        "df_user['AGE_CATEGORY'] = pd.cut(df_user['AGE'], bins=bins, labels=labels, right=False)\n",
        "\n",
        "# Counting user IDs in each age category\n",
        "age_distribution = df_user['AGE_CATEGORY'].value_counts()\n",
        "\n",
        "# Display the distribution\n",
        "print(age_distribution)\n",
        "\n",
        "# Get the age category with the maximum count\n",
        "max_age_category = age_distribution.idxmax()\n",
        "max_count = age_distribution.max()\n",
        "\n",
        "print(f\"The age category with the maximum count of user IDs is '{max_age_category}' with {max_count} users.\")"
      ],
      "metadata": {
        "colab": {
          "base_uri": "https://localhost:8080/"
        },
        "id": "qfI6mAZppcQt",
        "outputId": "0d939529-0d80-4a93-8b52-fc0167acee13"
      },
      "execution_count": null,
      "outputs": [
        {
          "output_type": "stream",
          "name": "stdout",
          "text": [
            "AGE_CATEGORY\n",
            "19-35      37920\n",
            "36-45      23261\n",
            "46-55      15670\n",
            "56-65      10466\n",
            "66-75       5125\n",
            "0-18        2426\n",
            "76-85       1253\n",
            "86-95        130\n",
            "106-120       30\n",
            "96-105        21\n",
            "Name: count, dtype: int64\n",
            "The age category with the maximum count of user IDs is '19-35' with 37920 users.\n"
          ]
        }
      ]
    },
    {
      "cell_type": "markdown",
      "source": [
        "# **Importing Transaction Table**"
      ],
      "metadata": {
        "id": "C6IPepvPs-aN"
      }
    },
    {
      "cell_type": "code",
      "source": [
        "# Read the CSV file into a pandas DataFrame\n",
        "df_transaction = pd.read_csv('TRANSACTION_TAKEHOME.csv', na_values=['', ' ', 'NA', 'NULL','nan'])\n",
        "df_transaction.info()"
      ],
      "metadata": {
        "colab": {
          "base_uri": "https://localhost:8080/"
        },
        "id": "lOVlUrTadEbN",
        "outputId": "45dd1cb4-d8aa-4ffc-cd03-afbb4878cf96"
      },
      "execution_count": 24,
      "outputs": [
        {
          "output_type": "stream",
          "name": "stdout",
          "text": [
            "<class 'pandas.core.frame.DataFrame'>\n",
            "RangeIndex: 50000 entries, 0 to 49999\n",
            "Data columns (total 8 columns):\n",
            " #   Column          Non-Null Count  Dtype  \n",
            "---  ------          --------------  -----  \n",
            " 0   RECEIPT_ID      50000 non-null  object \n",
            " 1   PURCHASE_DATE   50000 non-null  object \n",
            " 2   SCAN_DATE       50000 non-null  object \n",
            " 3   STORE_NAME      50000 non-null  object \n",
            " 4   USER_ID         50000 non-null  object \n",
            " 5   BARCODE         44238 non-null  float64\n",
            " 6   FINAL_QUANTITY  50000 non-null  object \n",
            " 7   FINAL_SALE      37500 non-null  float64\n",
            "dtypes: float64(2), object(6)\n",
            "memory usage: 3.1+ MB\n"
          ]
        }
      ]
    },
    {
      "cell_type": "markdown",
      "source": [
        "# **Updating Data Type**"
      ],
      "metadata": {
        "id": "IcAy6387tRIK"
      }
    },
    {
      "cell_type": "code",
      "source": [
        "df_transaction['FINAL_QUANTITY'].replace(['zero', ''], 'NaN')\n",
        "df_transaction['FINAL_QUANTITY'] = pd.to_numeric(df_transaction['FINAL_QUANTITY'], errors='coerce')\n",
        "\n",
        "df_transaction['FINAL_SALE'].replace([''], '0')\n",
        "df_transaction['FINAL_SALE'] = pd.to_numeric(df_transaction['FINAL_SALE'], errors='coerce')\n",
        "\n",
        "df_transaction['PURCHASE_DATE'] = pd.to_datetime(df_transaction['PURCHASE_DATE'])\n",
        "\n",
        "df_transaction['SCAN_DATE'] = pd.to_datetime(df_transaction['SCAN_DATE'])\n",
        "\n",
        "# Convert BARCODE column to numeric (with NaNs)\n",
        "df_transaction['BARCODE'] = pd.to_numeric(df_transaction['BARCODE'], errors='coerce')\n",
        "\n",
        "# Convert to string while preserving NaNs\n",
        "df_transaction['BARCODE'] = df_transaction['BARCODE'].astype(str).replace('nan', pd.NA)\n",
        "\n",
        "df_transaction.info()"
      ],
      "metadata": {
        "colab": {
          "base_uri": "https://localhost:8080/"
        },
        "id": "GTglXbZLtYJ_",
        "outputId": "afea1c98-bdc0-44ab-e5ae-91d3ddbd3f8b"
      },
      "execution_count": 25,
      "outputs": [
        {
          "output_type": "stream",
          "name": "stdout",
          "text": [
            "<class 'pandas.core.frame.DataFrame'>\n",
            "RangeIndex: 50000 entries, 0 to 49999\n",
            "Data columns (total 8 columns):\n",
            " #   Column          Non-Null Count  Dtype              \n",
            "---  ------          --------------  -----              \n",
            " 0   RECEIPT_ID      50000 non-null  object             \n",
            " 1   PURCHASE_DATE   50000 non-null  datetime64[ns]     \n",
            " 2   SCAN_DATE       50000 non-null  datetime64[ns, UTC]\n",
            " 3   STORE_NAME      50000 non-null  object             \n",
            " 4   USER_ID         50000 non-null  object             \n",
            " 5   BARCODE         44238 non-null  object             \n",
            " 6   FINAL_QUANTITY  37500 non-null  float64            \n",
            " 7   FINAL_SALE      37500 non-null  float64            \n",
            "dtypes: datetime64[ns, UTC](1), datetime64[ns](1), float64(2), object(4)\n",
            "memory usage: 3.1+ MB\n"
          ]
        }
      ]
    },
    {
      "cell_type": "markdown",
      "source": [
        "# **Checking for Null Values in Columns**"
      ],
      "metadata": {
        "id": "VRut-HYhTEkZ"
      }
    },
    {
      "cell_type": "code",
      "source": [
        "# Total number of rows\n",
        "total_rows_trans = len(df_transaction)\n",
        "\n",
        "# Count of null values in each column\n",
        "null_counts_trans = df_transaction.isnull().sum()\n",
        "\n",
        "# Percentage of null values\n",
        "null_percentage_trans = (null_counts_trans/ total_rows_trans) * 100\n",
        "formatted_percentage_trans = null_percentage_trans.map('{:.2f}%'.format)\n",
        "\n",
        "# DataFrame to display results\n",
        "null_summary_trans = pd.DataFrame({\n",
        "    'Null Count': null_counts_trans,\n",
        "    'Null Percentage': formatted_percentage_trans\n",
        "})\n",
        "\n",
        "# Summary for the Null records\n",
        "print(null_summary_trans)"
      ],
      "metadata": {
        "colab": {
          "base_uri": "https://localhost:8080/"
        },
        "id": "ANN4ymfzTKjW",
        "outputId": "b528f324-840d-479d-cd26-5a1f9a8bfc40"
      },
      "execution_count": 26,
      "outputs": [
        {
          "output_type": "stream",
          "name": "stdout",
          "text": [
            "                Null Count Null Percentage\n",
            "RECEIPT_ID               0           0.00%\n",
            "PURCHASE_DATE            0           0.00%\n",
            "SCAN_DATE                0           0.00%\n",
            "STORE_NAME               0           0.00%\n",
            "USER_ID                  0           0.00%\n",
            "BARCODE               5762          11.52%\n",
            "FINAL_QUANTITY       12500          25.00%\n",
            "FINAL_SALE           12500          25.00%\n"
          ]
        }
      ]
    },
    {
      "cell_type": "markdown",
      "source": [
        "Drop rows where both FINAL_SALE and FINAL_QUANTITY are missing permanently, if any\n",
        "\n"
      ],
      "metadata": {
        "id": "-a0qFEzlQx8S"
      }
    },
    {
      "cell_type": "code",
      "source": [
        "df_transaction.dropna(subset=['FINAL_SALE', 'FINAL_QUANTITY'], how='all', inplace=True)"
      ],
      "metadata": {
        "id": "aZRABYEGQv7c"
      },
      "execution_count": 27,
      "outputs": []
    },
    {
      "cell_type": "code",
      "source": [
        "df_transaction.shape"
      ],
      "metadata": {
        "colab": {
          "base_uri": "https://localhost:8080/"
        },
        "id": "qY3wcGveQ8mf",
        "outputId": "fd780a10-a6df-463f-f953-de0e387cb872"
      },
      "execution_count": 28,
      "outputs": [
        {
          "output_type": "execute_result",
          "data": {
            "text/plain": [
              "(50000, 8)"
            ]
          },
          "metadata": {},
          "execution_count": 28
        }
      ]
    },
    {
      "cell_type": "markdown",
      "source": [
        "# **Fill missing Final Quantity and Sales based on the average price per unity by Reciept ID and Barcode**"
      ],
      "metadata": {
        "id": "kDIKYK8yRuNu"
      }
    },
    {
      "cell_type": "code",
      "source": [
        "# Dropping records with NaN in sales and quantity\n",
        "price_per_unit_df = df_transaction.dropna(subset=['FINAL_QUANTITY', 'FINAL_SALE']).copy()\n",
        "\n",
        "# Calculating the average price per unit for each barcode and receipt_id\n",
        "avg_price_per_barcode = (\n",
        "    price_per_unit_df\n",
        "    .groupby(['BARCODE', 'RECEIPT_ID'], as_index=False)\n",
        "    .agg(avg_price=('FINAL_SALE', lambda x: x.sum() / price_per_unit_df.loc[x.index, 'FINAL_QUANTITY'].sum()))\n",
        ")\n",
        "\n",
        "# Merge average price back to the original DataFrame\n",
        "df_transaction = df_transaction.merge(avg_price_per_barcode, on=['BARCODE', 'RECEIPT_ID'], how='left')\n",
        "\n",
        "# Checking if avg_price column exists\n",
        "if 'avg_price' in df_transaction.columns:\n",
        "    # Fill missing FINAL_QUANTITY\n",
        "    mask_quantity = df_transaction['FINAL_QUANTITY'].isna() & df_transaction['FINAL_SALE'].notna()\n",
        "    df_transaction.loc[mask_quantity, 'FINAL_QUANTITY'] = df_transaction['FINAL_SALE'] / df_transaction['avg_price']\n",
        "\n",
        "    # Fill missing FINAL_SALE\n",
        "    mask_sale = df_transaction['FINAL_SALE'].isna() & df_transaction['FINAL_QUANTITY'].notna()\n",
        "    df_transaction.loc[mask_sale, 'FINAL_SALE'] = df_transaction['FINAL_QUANTITY'] * df_transaction['avg_price']\n",
        "else:\n",
        "    print(\"avg_price column not found after merging.\")\n",
        "\n",
        "# dropping the average price column\n",
        "df_transaction.drop(columns=['avg_price'], inplace=True, errors='ignore')\n",
        "\n",
        "# Updated DataFrame\n",
        "print(\"Updated Transaction DataFrame:\")\n",
        "df_transaction.head()"
      ],
      "metadata": {
        "colab": {
          "base_uri": "https://localhost:8080/",
          "height": 504
        },
        "id": "CWE1u-gRJ7xG",
        "outputId": "522d27b5-d2fd-4ebb-bb0a-52ecd7454471"
      },
      "execution_count": 29,
      "outputs": [
        {
          "output_type": "stream",
          "name": "stdout",
          "text": [
            "Updated Transaction DataFrame:\n"
          ]
        },
        {
          "output_type": "execute_result",
          "data": {
            "text/plain": [
              "                             RECEIPT_ID PURCHASE_DATE  \\\n",
              "0  0000d256-4041-4a3e-adc4-5623fb6e0c99    2024-08-21   \n",
              "1  0001455d-7a92-4a7b-a1d2-c747af1c8fd3    2024-07-20   \n",
              "2  00017e0a-7851-42fb-bfab-0baa96e23586    2024-08-18   \n",
              "3  000239aa-3478-453d-801e-66a82e39c8af    2024-06-18   \n",
              "4  00026b4c-dfe8-49dd-b026-4c2f0fd5c6a1    2024-07-04   \n",
              "\n",
              "                         SCAN_DATE STORE_NAME                   USER_ID  \\\n",
              "0 2024-08-21 14:19:06.539000+00:00    WALMART  63b73a7f3d310dceeabd4758   \n",
              "1 2024-07-20 09:50:24.206000+00:00       ALDI  62c08877baa38d1a1f6c211a   \n",
              "2 2024-08-19 15:38:56.813000+00:00    WALMART  60842f207ac8b7729e472020   \n",
              "3 2024-06-19 11:03:37.468000+00:00  FOOD LION  63fcd7cea4f8442c3386b589   \n",
              "4 2024-07-05 15:56:43.549000+00:00   RANDALLS  6193231ae9b3d75037b0f928   \n",
              "\n",
              "          BARCODE  FINAL_QUANTITY  FINAL_SALE  \n",
              "0   15300014978.0             1.0        1.54  \n",
              "1            <NA>             NaN        1.49  \n",
              "2   78742229751.0             1.0        2.54  \n",
              "3  783399746536.0             1.0        3.49  \n",
              "4   47900501183.0             1.0        5.29  "
            ],
            "text/html": [
              "\n",
              "  <div id=\"df-47e64475-e580-401e-b686-c426173aac3d\" class=\"colab-df-container\">\n",
              "    <div>\n",
              "<style scoped>\n",
              "    .dataframe tbody tr th:only-of-type {\n",
              "        vertical-align: middle;\n",
              "    }\n",
              "\n",
              "    .dataframe tbody tr th {\n",
              "        vertical-align: top;\n",
              "    }\n",
              "\n",
              "    .dataframe thead th {\n",
              "        text-align: right;\n",
              "    }\n",
              "</style>\n",
              "<table border=\"1\" class=\"dataframe\">\n",
              "  <thead>\n",
              "    <tr style=\"text-align: right;\">\n",
              "      <th></th>\n",
              "      <th>RECEIPT_ID</th>\n",
              "      <th>PURCHASE_DATE</th>\n",
              "      <th>SCAN_DATE</th>\n",
              "      <th>STORE_NAME</th>\n",
              "      <th>USER_ID</th>\n",
              "      <th>BARCODE</th>\n",
              "      <th>FINAL_QUANTITY</th>\n",
              "      <th>FINAL_SALE</th>\n",
              "    </tr>\n",
              "  </thead>\n",
              "  <tbody>\n",
              "    <tr>\n",
              "      <th>0</th>\n",
              "      <td>0000d256-4041-4a3e-adc4-5623fb6e0c99</td>\n",
              "      <td>2024-08-21</td>\n",
              "      <td>2024-08-21 14:19:06.539000+00:00</td>\n",
              "      <td>WALMART</td>\n",
              "      <td>63b73a7f3d310dceeabd4758</td>\n",
              "      <td>15300014978.0</td>\n",
              "      <td>1.0</td>\n",
              "      <td>1.54</td>\n",
              "    </tr>\n",
              "    <tr>\n",
              "      <th>1</th>\n",
              "      <td>0001455d-7a92-4a7b-a1d2-c747af1c8fd3</td>\n",
              "      <td>2024-07-20</td>\n",
              "      <td>2024-07-20 09:50:24.206000+00:00</td>\n",
              "      <td>ALDI</td>\n",
              "      <td>62c08877baa38d1a1f6c211a</td>\n",
              "      <td>&lt;NA&gt;</td>\n",
              "      <td>NaN</td>\n",
              "      <td>1.49</td>\n",
              "    </tr>\n",
              "    <tr>\n",
              "      <th>2</th>\n",
              "      <td>00017e0a-7851-42fb-bfab-0baa96e23586</td>\n",
              "      <td>2024-08-18</td>\n",
              "      <td>2024-08-19 15:38:56.813000+00:00</td>\n",
              "      <td>WALMART</td>\n",
              "      <td>60842f207ac8b7729e472020</td>\n",
              "      <td>78742229751.0</td>\n",
              "      <td>1.0</td>\n",
              "      <td>2.54</td>\n",
              "    </tr>\n",
              "    <tr>\n",
              "      <th>3</th>\n",
              "      <td>000239aa-3478-453d-801e-66a82e39c8af</td>\n",
              "      <td>2024-06-18</td>\n",
              "      <td>2024-06-19 11:03:37.468000+00:00</td>\n",
              "      <td>FOOD LION</td>\n",
              "      <td>63fcd7cea4f8442c3386b589</td>\n",
              "      <td>783399746536.0</td>\n",
              "      <td>1.0</td>\n",
              "      <td>3.49</td>\n",
              "    </tr>\n",
              "    <tr>\n",
              "      <th>4</th>\n",
              "      <td>00026b4c-dfe8-49dd-b026-4c2f0fd5c6a1</td>\n",
              "      <td>2024-07-04</td>\n",
              "      <td>2024-07-05 15:56:43.549000+00:00</td>\n",
              "      <td>RANDALLS</td>\n",
              "      <td>6193231ae9b3d75037b0f928</td>\n",
              "      <td>47900501183.0</td>\n",
              "      <td>1.0</td>\n",
              "      <td>5.29</td>\n",
              "    </tr>\n",
              "  </tbody>\n",
              "</table>\n",
              "</div>\n",
              "    <div class=\"colab-df-buttons\">\n",
              "\n",
              "  <div class=\"colab-df-container\">\n",
              "    <button class=\"colab-df-convert\" onclick=\"convertToInteractive('df-47e64475-e580-401e-b686-c426173aac3d')\"\n",
              "            title=\"Convert this dataframe to an interactive table.\"\n",
              "            style=\"display:none;\">\n",
              "\n",
              "  <svg xmlns=\"http://www.w3.org/2000/svg\" height=\"24px\" viewBox=\"0 -960 960 960\">\n",
              "    <path d=\"M120-120v-720h720v720H120Zm60-500h600v-160H180v160Zm220 220h160v-160H400v160Zm0 220h160v-160H400v160ZM180-400h160v-160H180v160Zm440 0h160v-160H620v160ZM180-180h160v-160H180v160Zm440 0h160v-160H620v160Z\"/>\n",
              "  </svg>\n",
              "    </button>\n",
              "\n",
              "  <style>\n",
              "    .colab-df-container {\n",
              "      display:flex;\n",
              "      gap: 12px;\n",
              "    }\n",
              "\n",
              "    .colab-df-convert {\n",
              "      background-color: #E8F0FE;\n",
              "      border: none;\n",
              "      border-radius: 50%;\n",
              "      cursor: pointer;\n",
              "      display: none;\n",
              "      fill: #1967D2;\n",
              "      height: 32px;\n",
              "      padding: 0 0 0 0;\n",
              "      width: 32px;\n",
              "    }\n",
              "\n",
              "    .colab-df-convert:hover {\n",
              "      background-color: #E2EBFA;\n",
              "      box-shadow: 0px 1px 2px rgba(60, 64, 67, 0.3), 0px 1px 3px 1px rgba(60, 64, 67, 0.15);\n",
              "      fill: #174EA6;\n",
              "    }\n",
              "\n",
              "    .colab-df-buttons div {\n",
              "      margin-bottom: 4px;\n",
              "    }\n",
              "\n",
              "    [theme=dark] .colab-df-convert {\n",
              "      background-color: #3B4455;\n",
              "      fill: #D2E3FC;\n",
              "    }\n",
              "\n",
              "    [theme=dark] .colab-df-convert:hover {\n",
              "      background-color: #434B5C;\n",
              "      box-shadow: 0px 1px 3px 1px rgba(0, 0, 0, 0.15);\n",
              "      filter: drop-shadow(0px 1px 2px rgba(0, 0, 0, 0.3));\n",
              "      fill: #FFFFFF;\n",
              "    }\n",
              "  </style>\n",
              "\n",
              "    <script>\n",
              "      const buttonEl =\n",
              "        document.querySelector('#df-47e64475-e580-401e-b686-c426173aac3d button.colab-df-convert');\n",
              "      buttonEl.style.display =\n",
              "        google.colab.kernel.accessAllowed ? 'block' : 'none';\n",
              "\n",
              "      async function convertToInteractive(key) {\n",
              "        const element = document.querySelector('#df-47e64475-e580-401e-b686-c426173aac3d');\n",
              "        const dataTable =\n",
              "          await google.colab.kernel.invokeFunction('convertToInteractive',\n",
              "                                                    [key], {});\n",
              "        if (!dataTable) return;\n",
              "\n",
              "        const docLinkHtml = 'Like what you see? Visit the ' +\n",
              "          '<a target=\"_blank\" href=https://colab.research.google.com/notebooks/data_table.ipynb>data table notebook</a>'\n",
              "          + ' to learn more about interactive tables.';\n",
              "        element.innerHTML = '';\n",
              "        dataTable['output_type'] = 'display_data';\n",
              "        await google.colab.output.renderOutput(dataTable, element);\n",
              "        const docLink = document.createElement('div');\n",
              "        docLink.innerHTML = docLinkHtml;\n",
              "        element.appendChild(docLink);\n",
              "      }\n",
              "    </script>\n",
              "  </div>\n",
              "\n",
              "\n",
              "<div id=\"df-481da930-9c06-4827-a603-ecbd2008a281\">\n",
              "  <button class=\"colab-df-quickchart\" onclick=\"quickchart('df-481da930-9c06-4827-a603-ecbd2008a281')\"\n",
              "            title=\"Suggest charts\"\n",
              "            style=\"display:none;\">\n",
              "\n",
              "<svg xmlns=\"http://www.w3.org/2000/svg\" height=\"24px\"viewBox=\"0 0 24 24\"\n",
              "     width=\"24px\">\n",
              "    <g>\n",
              "        <path d=\"M19 3H5c-1.1 0-2 .9-2 2v14c0 1.1.9 2 2 2h14c1.1 0 2-.9 2-2V5c0-1.1-.9-2-2-2zM9 17H7v-7h2v7zm4 0h-2V7h2v10zm4 0h-2v-4h2v4z\"/>\n",
              "    </g>\n",
              "</svg>\n",
              "  </button>\n",
              "\n",
              "<style>\n",
              "  .colab-df-quickchart {\n",
              "      --bg-color: #E8F0FE;\n",
              "      --fill-color: #1967D2;\n",
              "      --hover-bg-color: #E2EBFA;\n",
              "      --hover-fill-color: #174EA6;\n",
              "      --disabled-fill-color: #AAA;\n",
              "      --disabled-bg-color: #DDD;\n",
              "  }\n",
              "\n",
              "  [theme=dark] .colab-df-quickchart {\n",
              "      --bg-color: #3B4455;\n",
              "      --fill-color: #D2E3FC;\n",
              "      --hover-bg-color: #434B5C;\n",
              "      --hover-fill-color: #FFFFFF;\n",
              "      --disabled-bg-color: #3B4455;\n",
              "      --disabled-fill-color: #666;\n",
              "  }\n",
              "\n",
              "  .colab-df-quickchart {\n",
              "    background-color: var(--bg-color);\n",
              "    border: none;\n",
              "    border-radius: 50%;\n",
              "    cursor: pointer;\n",
              "    display: none;\n",
              "    fill: var(--fill-color);\n",
              "    height: 32px;\n",
              "    padding: 0;\n",
              "    width: 32px;\n",
              "  }\n",
              "\n",
              "  .colab-df-quickchart:hover {\n",
              "    background-color: var(--hover-bg-color);\n",
              "    box-shadow: 0 1px 2px rgba(60, 64, 67, 0.3), 0 1px 3px 1px rgba(60, 64, 67, 0.15);\n",
              "    fill: var(--button-hover-fill-color);\n",
              "  }\n",
              "\n",
              "  .colab-df-quickchart-complete:disabled,\n",
              "  .colab-df-quickchart-complete:disabled:hover {\n",
              "    background-color: var(--disabled-bg-color);\n",
              "    fill: var(--disabled-fill-color);\n",
              "    box-shadow: none;\n",
              "  }\n",
              "\n",
              "  .colab-df-spinner {\n",
              "    border: 2px solid var(--fill-color);\n",
              "    border-color: transparent;\n",
              "    border-bottom-color: var(--fill-color);\n",
              "    animation:\n",
              "      spin 1s steps(1) infinite;\n",
              "  }\n",
              "\n",
              "  @keyframes spin {\n",
              "    0% {\n",
              "      border-color: transparent;\n",
              "      border-bottom-color: var(--fill-color);\n",
              "      border-left-color: var(--fill-color);\n",
              "    }\n",
              "    20% {\n",
              "      border-color: transparent;\n",
              "      border-left-color: var(--fill-color);\n",
              "      border-top-color: var(--fill-color);\n",
              "    }\n",
              "    30% {\n",
              "      border-color: transparent;\n",
              "      border-left-color: var(--fill-color);\n",
              "      border-top-color: var(--fill-color);\n",
              "      border-right-color: var(--fill-color);\n",
              "    }\n",
              "    40% {\n",
              "      border-color: transparent;\n",
              "      border-right-color: var(--fill-color);\n",
              "      border-top-color: var(--fill-color);\n",
              "    }\n",
              "    60% {\n",
              "      border-color: transparent;\n",
              "      border-right-color: var(--fill-color);\n",
              "    }\n",
              "    80% {\n",
              "      border-color: transparent;\n",
              "      border-right-color: var(--fill-color);\n",
              "      border-bottom-color: var(--fill-color);\n",
              "    }\n",
              "    90% {\n",
              "      border-color: transparent;\n",
              "      border-bottom-color: var(--fill-color);\n",
              "    }\n",
              "  }\n",
              "</style>\n",
              "\n",
              "  <script>\n",
              "    async function quickchart(key) {\n",
              "      const quickchartButtonEl =\n",
              "        document.querySelector('#' + key + ' button');\n",
              "      quickchartButtonEl.disabled = true;  // To prevent multiple clicks.\n",
              "      quickchartButtonEl.classList.add('colab-df-spinner');\n",
              "      try {\n",
              "        const charts = await google.colab.kernel.invokeFunction(\n",
              "            'suggestCharts', [key], {});\n",
              "      } catch (error) {\n",
              "        console.error('Error during call to suggestCharts:', error);\n",
              "      }\n",
              "      quickchartButtonEl.classList.remove('colab-df-spinner');\n",
              "      quickchartButtonEl.classList.add('colab-df-quickchart-complete');\n",
              "    }\n",
              "    (() => {\n",
              "      let quickchartButtonEl =\n",
              "        document.querySelector('#df-481da930-9c06-4827-a603-ecbd2008a281 button');\n",
              "      quickchartButtonEl.style.display =\n",
              "        google.colab.kernel.accessAllowed ? 'block' : 'none';\n",
              "    })();\n",
              "  </script>\n",
              "</div>\n",
              "\n",
              "    </div>\n",
              "  </div>\n"
            ],
            "application/vnd.google.colaboratory.intrinsic+json": {
              "type": "dataframe",
              "variable_name": "df_transaction",
              "summary": "{\n  \"name\": \"df_transaction\",\n  \"rows\": 50000,\n  \"fields\": [\n    {\n      \"column\": \"RECEIPT_ID\",\n      \"properties\": {\n        \"dtype\": \"category\",\n        \"num_unique_values\": 24440,\n        \"samples\": [\n          \"9f78650a-e7b5-4899-a126-fd872d7499f4\",\n          \"c5266193-c7c7-447b-b0b3-3423968be984\",\n          \"9ecbf3c3-e77f-4b0c-9773-b550035854b7\"\n        ],\n        \"semantic_type\": \"\",\n        \"description\": \"\"\n      }\n    },\n    {\n      \"column\": \"PURCHASE_DATE\",\n      \"properties\": {\n        \"dtype\": \"date\",\n        \"min\": \"2024-06-12 00:00:00\",\n        \"max\": \"2024-09-08 00:00:00\",\n        \"num_unique_values\": 89,\n        \"samples\": [\n          \"2024-07-14 00:00:00\",\n          \"2024-09-03 00:00:00\",\n          \"2024-06-16 00:00:00\"\n        ],\n        \"semantic_type\": \"\",\n        \"description\": \"\"\n      }\n    },\n    {\n      \"column\": \"SCAN_DATE\",\n      \"properties\": {\n        \"dtype\": \"date\",\n        \"min\": \"2024-06-12 06:36:34.910000+00:00\",\n        \"max\": \"2024-09-08 23:07:19.836000+00:00\",\n        \"num_unique_values\": 24440,\n        \"samples\": [\n          \"2024-06-14 11:33:52.532000+00:00\",\n          \"2024-08-13 19:22:25.302000+00:00\",\n          \"2024-06-21 11:40:22.521000+00:00\"\n        ],\n        \"semantic_type\": \"\",\n        \"description\": \"\"\n      }\n    },\n    {\n      \"column\": \"STORE_NAME\",\n      \"properties\": {\n        \"dtype\": \"category\",\n        \"num_unique_values\": 954,\n        \"samples\": [\n          \"SHOP N SAVE\",\n          \"UNCLE GIUSEPPE'S MARKETPLACE\",\n          \"PEN MART,\"\n        ],\n        \"semantic_type\": \"\",\n        \"description\": \"\"\n      }\n    },\n    {\n      \"column\": \"USER_ID\",\n      \"properties\": {\n        \"dtype\": \"category\",\n        \"num_unique_values\": 17694,\n        \"samples\": [\n          \"6431cb04838dd2651fb2d339\",\n          \"5c521b08657e8012ccb6580d\",\n          \"62899c30f493a001d617ffe4\"\n        ],\n        \"semantic_type\": \"\",\n        \"description\": \"\"\n      }\n    },\n    {\n      \"column\": \"BARCODE\",\n      \"properties\": {\n        \"dtype\": \"category\",\n        \"num_unique_values\": 11027,\n        \"samples\": [\n          \"41608001327.0\",\n          \"879890001950.0\",\n          \"300416684666.0\"\n        ],\n        \"semantic_type\": \"\",\n        \"description\": \"\"\n      }\n    },\n    {\n      \"column\": \"FINAL_QUANTITY\",\n      \"properties\": {\n        \"dtype\": \"number\",\n        \"std\": 1.8205384605596169,\n        \"min\": 0.0,\n        \"max\": 276.0,\n        \"num_unique_values\": 109,\n        \"samples\": [\n          2.89,\n          2.83,\n          3.11\n        ],\n        \"semantic_type\": \"\",\n        \"description\": \"\"\n      }\n    },\n    {\n      \"column\": \"FINAL_SALE\",\n      \"properties\": {\n        \"dtype\": \"number\",\n        \"std\": 6.261836493662534,\n        \"min\": 0.0,\n        \"max\": 462.82,\n        \"num_unique_values\": 1452,\n        \"samples\": [\n          0.36,\n          11.61,\n          10.39\n        ],\n        \"semantic_type\": \"\",\n        \"description\": \"\"\n      }\n    }\n  ]\n}"
            }
          },
          "metadata": {},
          "execution_count": 29
        }
      ]
    },
    {
      "cell_type": "markdown",
      "source": [
        "# **SQL Queries**"
      ],
      "metadata": {
        "id": "3tmrN3NH49Us"
      }
    },
    {
      "cell_type": "markdown",
      "source": [
        "Closed-ended questions:"
      ],
      "metadata": {
        "id": "qiPPwmj15Kdc"
      }
    },
    {
      "cell_type": "markdown",
      "source": [
        "**What are the top 5 brands by receipts scanned among users 21 and over?**\n",
        "\n",
        "NERDS CANDY, DOVE, TRIDENT, SOUR PATCH KIDS and MEIJER are the top 5 brands amoung user above the age of 21."
      ],
      "metadata": {
        "id": "56O0R0O0rv2S"
      }
    },
    {
      "cell_type": "code",
      "source": [
        "sql_query_top_5_brands= \"Select p.BRAND, COUNT(t.RECEIPT_ID) as RECEIPT_SCANNED FROM df_user u JOIN df_transaction t on u.USER_ID = t.USER_ID JOIN df_products p on t.BARCODE=p.BARCODE where u.AGE>=21 and p.BRAND != '' GROUP BY 1 ORDER BY RECEIPT_SCANNED DESC LIMIT 5\"\n",
        "\n",
        "filtered_df = sqldf(sql_query_top_5_brands, locals())\n",
        "print(filtered_df)"
      ],
      "metadata": {
        "colab": {
          "base_uri": "https://localhost:8080/"
        },
        "id": "KtJDGPzVrsBv",
        "outputId": "55ae566a-dd85-4c52-8ec8-44ab5c3df6e9"
      },
      "execution_count": null,
      "outputs": [
        {
          "output_type": "stream",
          "name": "stdout",
          "text": [
            "             BRAND  RECEIPT_SCANNED\n",
            "0      NERDS CANDY                6\n",
            "1             DOVE                6\n",
            "2          TRIDENT                4\n",
            "3  SOUR PATCH KIDS                4\n",
            "4           MEIJER                4\n"
          ]
        }
      ]
    },
    {
      "cell_type": "markdown",
      "source": [
        "**What are the top 5 brands by sales among users that have had their account for at least six months?**\n",
        "\n",
        "CVS,TRIDENT,DOVE,COORS LIGHT and AXE drives highest sales respectively"
      ],
      "metadata": {
        "id": "TP9lRlTZzr6O"
      }
    },
    {
      "cell_type": "code",
      "source": [
        "sql_query_top_brands_six_month_old = \"select BRAND, sum(final_sale) final_sale from (select p.BRAND,t.BARCODE, t.USER_ID, t.FINAL_SALE,u.CREATED_DATE from df_products p join df_transaction t on p.BARCODE = t.BARCODE join df_user u on t.USER_ID = u.USER_ID where u.CREATED_DATE <= DATE('now', '-6 months') ) t1 where BRAND != '' group by 1 order by final_sale desc limit 5\"\n",
        "\n",
        "# Execute the query\n",
        "\n",
        "filtered_df = sqldf(sql_query_top_brands_six_month_old , locals())\n",
        "print(filtered_df)"
      ],
      "metadata": {
        "colab": {
          "base_uri": "https://localhost:8080/"
        },
        "id": "SsIWXHDmzs9Z",
        "outputId": "f817b150-1b4c-4458-ad4d-e37b0c61434d"
      },
      "execution_count": null,
      "outputs": [
        {
          "output_type": "stream",
          "name": "stdout",
          "text": [
            "         BRAND  final_sale\n",
            "0          CVS       72.00\n",
            "1      TRIDENT       46.72\n",
            "2         DOVE       42.88\n",
            "3  COORS LIGHT       34.96\n",
            "4          AXE       15.98\n"
          ]
        }
      ]
    },
    {
      "cell_type": "markdown",
      "source": [
        "**What is the percentage of sales in the Health & Wellness category by generation?**\n",
        "\n",
        "Baby Boomers bring highest pecent of sales in Health and Wellness category."
      ],
      "metadata": {
        "id": "z5sCgr5Y2StT"
      }
    },
    {
      "cell_type": "code",
      "source": [
        "percentage_of_sales = \"with total_HW_sales as (select category_1, sum(final_sale) total_sales from df_products join df_transaction using(BARCODE) where category_1 = 'Health & Wellness' group by 1 ),sales_by_gen AS (SELECT CASE WHEN u.AGE BETWEEN 18 AND 25 THEN 'Gen Z' WHEN u.AGE BETWEEN 26 AND 40 THEN 'Millennials' WHEN u.AGE BETWEEN 41 AND 56 THEN 'Gen X' WHEN u.AGE BETWEEN 57 AND 75 THEN 'Baby Boomers'ELSE 'Silent Generation' END AS generation, SUM(t.FINAL_SALE) AS FINAL_SALE FROM df_products p JOIN df_transaction t ON p.BARCODE = t.BARCODE JOIN df_user u ON t.USER_ID = u.USER_ID WHERE p.CATEGORY_1 = 'Health & Wellness' GROUP BY generation)SELECT generation as GENERATION, ROUND((FINAL_SALE / total_HW_sales.total_sales) * 100, 2) || '%' AS PERCENTAGE_OF_SALES FROM sales_by_gen, total_HW_sales \"\n",
        "filtered_df = sqldf(percentage_of_sales, locals())\n",
        "print(filtered_df)"
      ],
      "metadata": {
        "colab": {
          "base_uri": "https://localhost:8080/"
        },
        "id": "JoaMnqRo3OJQ",
        "outputId": "5d02a487-8f8f-4c21-e6ae-bc290b8ec16e"
      },
      "execution_count": null,
      "outputs": [
        {
          "output_type": "stream",
          "name": "stdout",
          "text": [
            "          GENERATION PERCENTAGE_OF_SALES\n",
            "0       Baby Boomers               0.22%\n",
            "1              Gen X               0.14%\n",
            "2        Millennials               0.09%\n",
            "3  Silent Generation                0.0%\n"
          ]
        }
      ]
    },
    {
      "cell_type": "markdown",
      "source": [
        "**Open-ended questions:**"
      ],
      "metadata": {
        "id": "8Q-SzMQx5rQ6"
      }
    },
    {
      "cell_type": "markdown",
      "source": [
        "**Which is the leading brand in the Dips & Salsa category?**\n",
        "\n",
        "TOSTITOS is the leasding brand in Dips & Salsa category."
      ],
      "metadata": {
        "id": "s9OGxYGB5vyq"
      }
    },
    {
      "cell_type": "code",
      "source": [
        "leading_dips_salsa = \"SELECT p.CATEGORY_2 as CATEGORY, p.BRAND, sum(t.FINAL_SALE) FINAL_SALE FROM df_transaction t join df_products p using(BARCODE) where p.CATEGORY_2 = 'Dips & Salsa' and (BRAND is not null and BRAND != '') group by 1,2 Order by FINAL_SALE DESC limit 1\"\n",
        "filtered_df = sqldf(leading_dips_salsa, locals())\n",
        "print(filtered_df)"
      ],
      "metadata": {
        "colab": {
          "base_uri": "https://localhost:8080/"
        },
        "id": "8CyJGJK85u0P",
        "outputId": "c1cfe2ae-cc3a-48f4-96a7-eeaa30efbb17"
      },
      "execution_count": null,
      "outputs": [
        {
          "output_type": "stream",
          "name": "stdout",
          "text": [
            "       CATEGORY     BRAND  FINAL_SALE\n",
            "0  Dips & Salsa  TOSTITOS      260.99\n"
          ]
        }
      ]
    },
    {
      "cell_type": "markdown",
      "source": [
        "**At what percent has Fetch grown year over year?**\n",
        "\n",
        "From the data in the year 2023 and till September 2024 Fetch has seen decline in accounts created by users"
      ],
      "metadata": {
        "id": "VWPCynKT6-z1"
      }
    },
    {
      "cell_type": "markdown",
      "source": [],
      "metadata": {
        "id": "GcrQBBTII5NT"
      }
    },
    {
      "cell_type": "code",
      "source": [
        "yoy_growth = \"WITH yearly_accounts AS (SELECT STRFTIME('%Y', CREATED_DATE) AS year, COUNT(USER_ID) AS accounts_created FROM df_user WHERE CREATED_DATE IS NOT NULL GROUP BY year ORDER BY year ASC) SELECT year, accounts_created, (accounts_created - LAG(accounts_created) OVER (ORDER BY year)) AS difference, (100.0 * (accounts_created - LAG(accounts_created) OVER (ORDER BY year)) / LAG(accounts_created) OVER (ORDER BY year)) AS yoy_growth FROM yearly_accounts\"\n",
        "filtered_df = sqldf(yoy_growth, locals())\n",
        "print(filtered_df)"
      ],
      "metadata": {
        "colab": {
          "base_uri": "https://localhost:8080/"
        },
        "id": "kByognyt6aGf",
        "outputId": "6da37ddd-d1b5-4273-efcc-6399da88f2ce"
      },
      "execution_count": null,
      "outputs": [
        {
          "output_type": "stream",
          "name": "stdout",
          "text": [
            "    year  accounts_created  difference  yoy_growth\n",
            "0   2014                30         NaN         NaN\n",
            "1   2015                51        21.0   70.000000\n",
            "2   2016                70        19.0   37.254902\n",
            "3   2017               644       574.0  820.000000\n",
            "4   2018              2168      1524.0  236.645963\n",
            "5   2019              7093      4925.0  227.167897\n",
            "6   2020             16883      9790.0  138.023403\n",
            "7   2021             19159      2276.0   13.481016\n",
            "8   2022             26807      7648.0   39.918576\n",
            "9   2023             15464    -11343.0  -42.313575\n",
            "10  2024             11631     -3833.0  -24.786601\n"
          ]
        }
      ]
    }
  ]
}
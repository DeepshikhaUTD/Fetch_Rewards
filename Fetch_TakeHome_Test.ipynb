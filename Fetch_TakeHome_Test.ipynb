{
  "nbformat": 4,
  "nbformat_minor": 0,
  "metadata": {
    "colab": {
      "provenance": []
    },
    "kernelspec": {
      "name": "python3",
      "display_name": "Python 3"
    },
    "language_info": {
      "name": "python"
    }
  },
  "cells": [
    {
      "cell_type": "code",
      "execution_count": 55,
      "metadata": {
        "id": "m-o6wC0TAKOr"
      },
      "outputs": [],
      "source": [
        "#!pip install pandasql\n",
        "import pandas as pd\n",
        "from pandasql import sqldf\n"
      ]
    },
    {
      "cell_type": "markdown",
      "source": [
        "# **Importing Products Table**\n",
        "\n"
      ],
      "metadata": {
        "id": "b08yf1cHMBU-"
      }
    },
    {
      "cell_type": "code",
      "source": [
        "# Reading the CSV file into a pandas DataFrame\n",
        "df_products = pd.read_csv('PRODUCTS_TAKEHOME.csv', na_values=['', ' ', 'NA', 'NULL','nan'])\n",
        "\n",
        "#Inspecting Products table\n",
        "print(df_products.shape)\n",
        "df_products.info()\n",
        "df_products.head()"
      ],
      "metadata": {
        "colab": {
          "base_uri": "https://localhost:8080/",
          "height": 561
        },
        "id": "fHM5Ad1cBzLx",
        "outputId": "0a9f567b-fb07-454e-af23-eb492e1f5dbe"
      },
      "execution_count": 56,
      "outputs": [
        {
          "output_type": "stream",
          "name": "stdout",
          "text": [
            "(845552, 7)\n",
            "<class 'pandas.core.frame.DataFrame'>\n",
            "RangeIndex: 845552 entries, 0 to 845551\n",
            "Data columns (total 7 columns):\n",
            " #   Column        Non-Null Count   Dtype  \n",
            "---  ------        --------------   -----  \n",
            " 0   CATEGORY_1    845441 non-null  object \n",
            " 1   CATEGORY_2    844128 non-null  object \n",
            " 2   CATEGORY_3    784986 non-null  object \n",
            " 3   CATEGORY_4    67459 non-null   object \n",
            " 4   MANUFACTURER  619078 non-null  object \n",
            " 5   BRAND         619080 non-null  object \n",
            " 6   BARCODE       841527 non-null  float64\n",
            "dtypes: float64(1), object(6)\n",
            "memory usage: 45.2+ MB\n"
          ]
        },
        {
          "output_type": "execute_result",
          "data": {
            "text/plain": [
              "          CATEGORY_1              CATEGORY_2                   CATEGORY_3  \\\n",
              "0  Health & Wellness           Sexual Health  Conductivity Gels & Lotions   \n",
              "1             Snacks           Puffed Snacks         Cheese Curls & Puffs   \n",
              "2  Health & Wellness               Hair Care        Hair Care Accessories   \n",
              "3  Health & Wellness               Oral Care                   Toothpaste   \n",
              "4  Health & Wellness  Medicines & Treatments               Essential Oils   \n",
              "\n",
              "  CATEGORY_4                                       MANUFACTURER  \\\n",
              "0        NaN                                                NaN   \n",
              "1        NaN                                                NaN   \n",
              "2        NaN                           PLACEHOLDER MANUFACTURER   \n",
              "3        NaN                                  COLGATE-PALMOLIVE   \n",
              "4        NaN  MAPLE HOLISTICS AND HONEYDEW PRODUCTS INTERCHA...   \n",
              "\n",
              "             BRAND       BARCODE  \n",
              "0              NaN  7.964944e+11  \n",
              "1              NaN  2.327801e+10  \n",
              "2          ELECSOP  4.618178e+11  \n",
              "3          COLGATE  3.500047e+10  \n",
              "4  MAPLE HOLISTICS  8.068109e+11  "
            ],
            "text/html": [
              "\n",
              "  <div id=\"df-9cb9ae13-1bc7-4d6a-88c4-d433ec8025b4\" class=\"colab-df-container\">\n",
              "    <div>\n",
              "<style scoped>\n",
              "    .dataframe tbody tr th:only-of-type {\n",
              "        vertical-align: middle;\n",
              "    }\n",
              "\n",
              "    .dataframe tbody tr th {\n",
              "        vertical-align: top;\n",
              "    }\n",
              "\n",
              "    .dataframe thead th {\n",
              "        text-align: right;\n",
              "    }\n",
              "</style>\n",
              "<table border=\"1\" class=\"dataframe\">\n",
              "  <thead>\n",
              "    <tr style=\"text-align: right;\">\n",
              "      <th></th>\n",
              "      <th>CATEGORY_1</th>\n",
              "      <th>CATEGORY_2</th>\n",
              "      <th>CATEGORY_3</th>\n",
              "      <th>CATEGORY_4</th>\n",
              "      <th>MANUFACTURER</th>\n",
              "      <th>BRAND</th>\n",
              "      <th>BARCODE</th>\n",
              "    </tr>\n",
              "  </thead>\n",
              "  <tbody>\n",
              "    <tr>\n",
              "      <th>0</th>\n",
              "      <td>Health &amp; Wellness</td>\n",
              "      <td>Sexual Health</td>\n",
              "      <td>Conductivity Gels &amp; Lotions</td>\n",
              "      <td>NaN</td>\n",
              "      <td>NaN</td>\n",
              "      <td>NaN</td>\n",
              "      <td>7.964944e+11</td>\n",
              "    </tr>\n",
              "    <tr>\n",
              "      <th>1</th>\n",
              "      <td>Snacks</td>\n",
              "      <td>Puffed Snacks</td>\n",
              "      <td>Cheese Curls &amp; Puffs</td>\n",
              "      <td>NaN</td>\n",
              "      <td>NaN</td>\n",
              "      <td>NaN</td>\n",
              "      <td>2.327801e+10</td>\n",
              "    </tr>\n",
              "    <tr>\n",
              "      <th>2</th>\n",
              "      <td>Health &amp; Wellness</td>\n",
              "      <td>Hair Care</td>\n",
              "      <td>Hair Care Accessories</td>\n",
              "      <td>NaN</td>\n",
              "      <td>PLACEHOLDER MANUFACTURER</td>\n",
              "      <td>ELECSOP</td>\n",
              "      <td>4.618178e+11</td>\n",
              "    </tr>\n",
              "    <tr>\n",
              "      <th>3</th>\n",
              "      <td>Health &amp; Wellness</td>\n",
              "      <td>Oral Care</td>\n",
              "      <td>Toothpaste</td>\n",
              "      <td>NaN</td>\n",
              "      <td>COLGATE-PALMOLIVE</td>\n",
              "      <td>COLGATE</td>\n",
              "      <td>3.500047e+10</td>\n",
              "    </tr>\n",
              "    <tr>\n",
              "      <th>4</th>\n",
              "      <td>Health &amp; Wellness</td>\n",
              "      <td>Medicines &amp; Treatments</td>\n",
              "      <td>Essential Oils</td>\n",
              "      <td>NaN</td>\n",
              "      <td>MAPLE HOLISTICS AND HONEYDEW PRODUCTS INTERCHA...</td>\n",
              "      <td>MAPLE HOLISTICS</td>\n",
              "      <td>8.068109e+11</td>\n",
              "    </tr>\n",
              "  </tbody>\n",
              "</table>\n",
              "</div>\n",
              "    <div class=\"colab-df-buttons\">\n",
              "\n",
              "  <div class=\"colab-df-container\">\n",
              "    <button class=\"colab-df-convert\" onclick=\"convertToInteractive('df-9cb9ae13-1bc7-4d6a-88c4-d433ec8025b4')\"\n",
              "            title=\"Convert this dataframe to an interactive table.\"\n",
              "            style=\"display:none;\">\n",
              "\n",
              "  <svg xmlns=\"http://www.w3.org/2000/svg\" height=\"24px\" viewBox=\"0 -960 960 960\">\n",
              "    <path d=\"M120-120v-720h720v720H120Zm60-500h600v-160H180v160Zm220 220h160v-160H400v160Zm0 220h160v-160H400v160ZM180-400h160v-160H180v160Zm440 0h160v-160H620v160ZM180-180h160v-160H180v160Zm440 0h160v-160H620v160Z\"/>\n",
              "  </svg>\n",
              "    </button>\n",
              "\n",
              "  <style>\n",
              "    .colab-df-container {\n",
              "      display:flex;\n",
              "      gap: 12px;\n",
              "    }\n",
              "\n",
              "    .colab-df-convert {\n",
              "      background-color: #E8F0FE;\n",
              "      border: none;\n",
              "      border-radius: 50%;\n",
              "      cursor: pointer;\n",
              "      display: none;\n",
              "      fill: #1967D2;\n",
              "      height: 32px;\n",
              "      padding: 0 0 0 0;\n",
              "      width: 32px;\n",
              "    }\n",
              "\n",
              "    .colab-df-convert:hover {\n",
              "      background-color: #E2EBFA;\n",
              "      box-shadow: 0px 1px 2px rgba(60, 64, 67, 0.3), 0px 1px 3px 1px rgba(60, 64, 67, 0.15);\n",
              "      fill: #174EA6;\n",
              "    }\n",
              "\n",
              "    .colab-df-buttons div {\n",
              "      margin-bottom: 4px;\n",
              "    }\n",
              "\n",
              "    [theme=dark] .colab-df-convert {\n",
              "      background-color: #3B4455;\n",
              "      fill: #D2E3FC;\n",
              "    }\n",
              "\n",
              "    [theme=dark] .colab-df-convert:hover {\n",
              "      background-color: #434B5C;\n",
              "      box-shadow: 0px 1px 3px 1px rgba(0, 0, 0, 0.15);\n",
              "      filter: drop-shadow(0px 1px 2px rgba(0, 0, 0, 0.3));\n",
              "      fill: #FFFFFF;\n",
              "    }\n",
              "  </style>\n",
              "\n",
              "    <script>\n",
              "      const buttonEl =\n",
              "        document.querySelector('#df-9cb9ae13-1bc7-4d6a-88c4-d433ec8025b4 button.colab-df-convert');\n",
              "      buttonEl.style.display =\n",
              "        google.colab.kernel.accessAllowed ? 'block' : 'none';\n",
              "\n",
              "      async function convertToInteractive(key) {\n",
              "        const element = document.querySelector('#df-9cb9ae13-1bc7-4d6a-88c4-d433ec8025b4');\n",
              "        const dataTable =\n",
              "          await google.colab.kernel.invokeFunction('convertToInteractive',\n",
              "                                                    [key], {});\n",
              "        if (!dataTable) return;\n",
              "\n",
              "        const docLinkHtml = 'Like what you see? Visit the ' +\n",
              "          '<a target=\"_blank\" href=https://colab.research.google.com/notebooks/data_table.ipynb>data table notebook</a>'\n",
              "          + ' to learn more about interactive tables.';\n",
              "        element.innerHTML = '';\n",
              "        dataTable['output_type'] = 'display_data';\n",
              "        await google.colab.output.renderOutput(dataTable, element);\n",
              "        const docLink = document.createElement('div');\n",
              "        docLink.innerHTML = docLinkHtml;\n",
              "        element.appendChild(docLink);\n",
              "      }\n",
              "    </script>\n",
              "  </div>\n",
              "\n",
              "\n",
              "<div id=\"df-a6936260-ec5c-447a-97cc-0feadae15ce1\">\n",
              "  <button class=\"colab-df-quickchart\" onclick=\"quickchart('df-a6936260-ec5c-447a-97cc-0feadae15ce1')\"\n",
              "            title=\"Suggest charts\"\n",
              "            style=\"display:none;\">\n",
              "\n",
              "<svg xmlns=\"http://www.w3.org/2000/svg\" height=\"24px\"viewBox=\"0 0 24 24\"\n",
              "     width=\"24px\">\n",
              "    <g>\n",
              "        <path d=\"M19 3H5c-1.1 0-2 .9-2 2v14c0 1.1.9 2 2 2h14c1.1 0 2-.9 2-2V5c0-1.1-.9-2-2-2zM9 17H7v-7h2v7zm4 0h-2V7h2v10zm4 0h-2v-4h2v4z\"/>\n",
              "    </g>\n",
              "</svg>\n",
              "  </button>\n",
              "\n",
              "<style>\n",
              "  .colab-df-quickchart {\n",
              "      --bg-color: #E8F0FE;\n",
              "      --fill-color: #1967D2;\n",
              "      --hover-bg-color: #E2EBFA;\n",
              "      --hover-fill-color: #174EA6;\n",
              "      --disabled-fill-color: #AAA;\n",
              "      --disabled-bg-color: #DDD;\n",
              "  }\n",
              "\n",
              "  [theme=dark] .colab-df-quickchart {\n",
              "      --bg-color: #3B4455;\n",
              "      --fill-color: #D2E3FC;\n",
              "      --hover-bg-color: #434B5C;\n",
              "      --hover-fill-color: #FFFFFF;\n",
              "      --disabled-bg-color: #3B4455;\n",
              "      --disabled-fill-color: #666;\n",
              "  }\n",
              "\n",
              "  .colab-df-quickchart {\n",
              "    background-color: var(--bg-color);\n",
              "    border: none;\n",
              "    border-radius: 50%;\n",
              "    cursor: pointer;\n",
              "    display: none;\n",
              "    fill: var(--fill-color);\n",
              "    height: 32px;\n",
              "    padding: 0;\n",
              "    width: 32px;\n",
              "  }\n",
              "\n",
              "  .colab-df-quickchart:hover {\n",
              "    background-color: var(--hover-bg-color);\n",
              "    box-shadow: 0 1px 2px rgba(60, 64, 67, 0.3), 0 1px 3px 1px rgba(60, 64, 67, 0.15);\n",
              "    fill: var(--button-hover-fill-color);\n",
              "  }\n",
              "\n",
              "  .colab-df-quickchart-complete:disabled,\n",
              "  .colab-df-quickchart-complete:disabled:hover {\n",
              "    background-color: var(--disabled-bg-color);\n",
              "    fill: var(--disabled-fill-color);\n",
              "    box-shadow: none;\n",
              "  }\n",
              "\n",
              "  .colab-df-spinner {\n",
              "    border: 2px solid var(--fill-color);\n",
              "    border-color: transparent;\n",
              "    border-bottom-color: var(--fill-color);\n",
              "    animation:\n",
              "      spin 1s steps(1) infinite;\n",
              "  }\n",
              "\n",
              "  @keyframes spin {\n",
              "    0% {\n",
              "      border-color: transparent;\n",
              "      border-bottom-color: var(--fill-color);\n",
              "      border-left-color: var(--fill-color);\n",
              "    }\n",
              "    20% {\n",
              "      border-color: transparent;\n",
              "      border-left-color: var(--fill-color);\n",
              "      border-top-color: var(--fill-color);\n",
              "    }\n",
              "    30% {\n",
              "      border-color: transparent;\n",
              "      border-left-color: var(--fill-color);\n",
              "      border-top-color: var(--fill-color);\n",
              "      border-right-color: var(--fill-color);\n",
              "    }\n",
              "    40% {\n",
              "      border-color: transparent;\n",
              "      border-right-color: var(--fill-color);\n",
              "      border-top-color: var(--fill-color);\n",
              "    }\n",
              "    60% {\n",
              "      border-color: transparent;\n",
              "      border-right-color: var(--fill-color);\n",
              "    }\n",
              "    80% {\n",
              "      border-color: transparent;\n",
              "      border-right-color: var(--fill-color);\n",
              "      border-bottom-color: var(--fill-color);\n",
              "    }\n",
              "    90% {\n",
              "      border-color: transparent;\n",
              "      border-bottom-color: var(--fill-color);\n",
              "    }\n",
              "  }\n",
              "</style>\n",
              "\n",
              "  <script>\n",
              "    async function quickchart(key) {\n",
              "      const quickchartButtonEl =\n",
              "        document.querySelector('#' + key + ' button');\n",
              "      quickchartButtonEl.disabled = true;  // To prevent multiple clicks.\n",
              "      quickchartButtonEl.classList.add('colab-df-spinner');\n",
              "      try {\n",
              "        const charts = await google.colab.kernel.invokeFunction(\n",
              "            'suggestCharts', [key], {});\n",
              "      } catch (error) {\n",
              "        console.error('Error during call to suggestCharts:', error);\n",
              "      }\n",
              "      quickchartButtonEl.classList.remove('colab-df-spinner');\n",
              "      quickchartButtonEl.classList.add('colab-df-quickchart-complete');\n",
              "    }\n",
              "    (() => {\n",
              "      let quickchartButtonEl =\n",
              "        document.querySelector('#df-a6936260-ec5c-447a-97cc-0feadae15ce1 button');\n",
              "      quickchartButtonEl.style.display =\n",
              "        google.colab.kernel.accessAllowed ? 'block' : 'none';\n",
              "    })();\n",
              "  </script>\n",
              "</div>\n",
              "\n",
              "    </div>\n",
              "  </div>\n"
            ],
            "application/vnd.google.colaboratory.intrinsic+json": {
              "type": "dataframe",
              "variable_name": "df_products"
            }
          },
          "metadata": {},
          "execution_count": 56
        }
      ]
    },
    {
      "cell_type": "code",
      "source": [
        "# Converting BARCODE to string while preserving NaNs\n",
        "df_products['BARCODE'] = df_products['BARCODE'].astype(str).replace('nan', pd.NA)\n",
        "\n",
        "# Verifying results\n",
        "df_products.dtypes\n"
      ],
      "metadata": {
        "colab": {
          "base_uri": "https://localhost:8080/",
          "height": 304
        },
        "id": "_0NvkJmeDVJV",
        "outputId": "d0466b0d-a4fd-49f9-b770-d226da3f6a6f"
      },
      "execution_count": 57,
      "outputs": [
        {
          "output_type": "execute_result",
          "data": {
            "text/plain": [
              "CATEGORY_1      object\n",
              "CATEGORY_2      object\n",
              "CATEGORY_3      object\n",
              "CATEGORY_4      object\n",
              "MANUFACTURER    object\n",
              "BRAND           object\n",
              "BARCODE         object\n",
              "dtype: object"
            ],
            "text/html": [
              "<div>\n",
              "<style scoped>\n",
              "    .dataframe tbody tr th:only-of-type {\n",
              "        vertical-align: middle;\n",
              "    }\n",
              "\n",
              "    .dataframe tbody tr th {\n",
              "        vertical-align: top;\n",
              "    }\n",
              "\n",
              "    .dataframe thead th {\n",
              "        text-align: right;\n",
              "    }\n",
              "</style>\n",
              "<table border=\"1\" class=\"dataframe\">\n",
              "  <thead>\n",
              "    <tr style=\"text-align: right;\">\n",
              "      <th></th>\n",
              "      <th>0</th>\n",
              "    </tr>\n",
              "  </thead>\n",
              "  <tbody>\n",
              "    <tr>\n",
              "      <th>CATEGORY_1</th>\n",
              "      <td>object</td>\n",
              "    </tr>\n",
              "    <tr>\n",
              "      <th>CATEGORY_2</th>\n",
              "      <td>object</td>\n",
              "    </tr>\n",
              "    <tr>\n",
              "      <th>CATEGORY_3</th>\n",
              "      <td>object</td>\n",
              "    </tr>\n",
              "    <tr>\n",
              "      <th>CATEGORY_4</th>\n",
              "      <td>object</td>\n",
              "    </tr>\n",
              "    <tr>\n",
              "      <th>MANUFACTURER</th>\n",
              "      <td>object</td>\n",
              "    </tr>\n",
              "    <tr>\n",
              "      <th>BRAND</th>\n",
              "      <td>object</td>\n",
              "    </tr>\n",
              "    <tr>\n",
              "      <th>BARCODE</th>\n",
              "      <td>object</td>\n",
              "    </tr>\n",
              "  </tbody>\n",
              "</table>\n",
              "</div><br><label><b>dtype:</b> object</label>"
            ]
          },
          "metadata": {},
          "execution_count": 57
        }
      ]
    },
    {
      "cell_type": "markdown",
      "source": [
        "# **Counting Null values in columns**\n",
        "\n",
        "\n",
        "\n"
      ],
      "metadata": {
        "id": "plncPQgsT79F"
      }
    },
    {
      "cell_type": "code",
      "source": [
        "# Total number of rows\n",
        "total_rows = len(df_products)\n",
        "\n",
        "# Count of null values in each column\n",
        "null_counts = df_products.isnull().sum()\n",
        "\n",
        "# Percentage of null values\n",
        "null_percentage = (null_counts / total_rows) * 100\n",
        "formatted_percentage = null_percentage.map('{:.2f}%'.format)\n",
        "\n",
        "# DataFrame to display results\n",
        "null_summary = pd.DataFrame({\n",
        "    'Null Count': null_counts,\n",
        "    'Null Percentage': formatted_percentage\n",
        "})\n",
        "\n",
        "# Summary for the Null records\n",
        "print(null_summary)"
      ],
      "metadata": {
        "colab": {
          "base_uri": "https://localhost:8080/"
        },
        "id": "oglNYoIoUew-",
        "outputId": "e4a90779-651a-4b46-a258-a4520f70c1f4"
      },
      "execution_count": 58,
      "outputs": [
        {
          "output_type": "stream",
          "name": "stdout",
          "text": [
            "              Null Count Null Percentage\n",
            "CATEGORY_1           111           0.01%\n",
            "CATEGORY_2          1424           0.17%\n",
            "CATEGORY_3         60566           7.16%\n",
            "CATEGORY_4        778093          92.02%\n",
            "MANUFACTURER      226474          26.78%\n",
            "BRAND             226472          26.78%\n",
            "BARCODE             4025           0.48%\n"
          ]
        }
      ]
    },
    {
      "cell_type": "markdown",
      "source": [
        "Handling duplicate records"
      ],
      "metadata": {
        "id": "dNTvWjmdU_4y"
      }
    },
    {
      "cell_type": "code",
      "source": [
        "#count duplicate records\n",
        "print(df_products.duplicated().sum())"
      ],
      "metadata": {
        "colab": {
          "base_uri": "https://localhost:8080/"
        },
        "id": "HUr7bf2RU_Ji",
        "outputId": "88b0e584-4bef-42f0-8841-068040395ad3"
      },
      "execution_count": 59,
      "outputs": [
        {
          "output_type": "stream",
          "name": "stdout",
          "text": [
            "215\n"
          ]
        }
      ]
    },
    {
      "cell_type": "code",
      "source": [
        "#drop duplicate records\n",
        "df_products= df_products.drop_duplicates()"
      ],
      "metadata": {
        "id": "95DBg-0iVORV"
      },
      "execution_count": 60,
      "outputs": []
    },
    {
      "cell_type": "code",
      "source": [
        "df_products.shape"
      ],
      "metadata": {
        "colab": {
          "base_uri": "https://localhost:8080/"
        },
        "id": "2vBkURXlVrbp",
        "outputId": "59bf11da-7203-496c-e380-5af73976cb32"
      },
      "execution_count": 61,
      "outputs": [
        {
          "output_type": "execute_result",
          "data": {
            "text/plain": [
              "(845337, 7)"
            ]
          },
          "metadata": {},
          "execution_count": 61
        }
      ]
    },
    {
      "cell_type": "markdown",
      "source": [
        "# **Importing Users Table**"
      ],
      "metadata": {
        "id": "XUCjs_02XIdN"
      }
    },
    {
      "cell_type": "code",
      "source": [
        "# Reading the CSV file into a pandas DataFrame\n",
        "df_user = pd.read_csv('USER_TAKEHOME.csv', dtype = {'ID':str, 'CREATED_DATE':str,'BIRTH_DATE':str}, na_values=['', ' ', 'NA', 'NULL','nan'])\n",
        "\n",
        "#Inspecting User Data\n",
        "print(df_user.shape)\n",
        "df_user.head()"
      ],
      "metadata": {
        "colab": {
          "base_uri": "https://localhost:8080/",
          "height": 224
        },
        "id": "RT1F6OsNXNpk",
        "outputId": "d695c8e6-7d01-4e17-c84c-5a4576829bb3"
      },
      "execution_count": 62,
      "outputs": [
        {
          "output_type": "stream",
          "name": "stdout",
          "text": [
            "(100000, 6)\n"
          ]
        },
        {
          "output_type": "execute_result",
          "data": {
            "text/plain": [
              "                         ID               CREATED_DATE  \\\n",
              "0  5ef3b4f17053ab141787697d  2020-06-24 20:17:54.000 Z   \n",
              "1  5ff220d383fcfc12622b96bc  2021-01-03 19:53:55.000 Z   \n",
              "2  6477950aa55bb77a0e27ee10  2023-05-31 18:42:18.000 Z   \n",
              "3  658a306e99b40f103b63ccf8  2023-12-26 01:46:22.000 Z   \n",
              "4  653cf5d6a225ea102b7ecdc2  2023-10-28 11:51:50.000 Z   \n",
              "\n",
              "                  BIRTH_DATE STATE LANGUAGE  GENDER  \n",
              "0  2000-08-11 00:00:00.000 Z    CA   es-419  female  \n",
              "1  2001-09-24 04:00:00.000 Z    PA       en  female  \n",
              "2  1994-10-28 00:00:00.000 Z    FL   es-419  female  \n",
              "3                        NaN    NC       en     NaN  \n",
              "4  1972-03-19 00:00:00.000 Z    PA       en  female  "
            ],
            "text/html": [
              "\n",
              "  <div id=\"df-6b8424e0-a265-4cd6-84e9-d88712acf7fe\" class=\"colab-df-container\">\n",
              "    <div>\n",
              "<style scoped>\n",
              "    .dataframe tbody tr th:only-of-type {\n",
              "        vertical-align: middle;\n",
              "    }\n",
              "\n",
              "    .dataframe tbody tr th {\n",
              "        vertical-align: top;\n",
              "    }\n",
              "\n",
              "    .dataframe thead th {\n",
              "        text-align: right;\n",
              "    }\n",
              "</style>\n",
              "<table border=\"1\" class=\"dataframe\">\n",
              "  <thead>\n",
              "    <tr style=\"text-align: right;\">\n",
              "      <th></th>\n",
              "      <th>ID</th>\n",
              "      <th>CREATED_DATE</th>\n",
              "      <th>BIRTH_DATE</th>\n",
              "      <th>STATE</th>\n",
              "      <th>LANGUAGE</th>\n",
              "      <th>GENDER</th>\n",
              "    </tr>\n",
              "  </thead>\n",
              "  <tbody>\n",
              "    <tr>\n",
              "      <th>0</th>\n",
              "      <td>5ef3b4f17053ab141787697d</td>\n",
              "      <td>2020-06-24 20:17:54.000 Z</td>\n",
              "      <td>2000-08-11 00:00:00.000 Z</td>\n",
              "      <td>CA</td>\n",
              "      <td>es-419</td>\n",
              "      <td>female</td>\n",
              "    </tr>\n",
              "    <tr>\n",
              "      <th>1</th>\n",
              "      <td>5ff220d383fcfc12622b96bc</td>\n",
              "      <td>2021-01-03 19:53:55.000 Z</td>\n",
              "      <td>2001-09-24 04:00:00.000 Z</td>\n",
              "      <td>PA</td>\n",
              "      <td>en</td>\n",
              "      <td>female</td>\n",
              "    </tr>\n",
              "    <tr>\n",
              "      <th>2</th>\n",
              "      <td>6477950aa55bb77a0e27ee10</td>\n",
              "      <td>2023-05-31 18:42:18.000 Z</td>\n",
              "      <td>1994-10-28 00:00:00.000 Z</td>\n",
              "      <td>FL</td>\n",
              "      <td>es-419</td>\n",
              "      <td>female</td>\n",
              "    </tr>\n",
              "    <tr>\n",
              "      <th>3</th>\n",
              "      <td>658a306e99b40f103b63ccf8</td>\n",
              "      <td>2023-12-26 01:46:22.000 Z</td>\n",
              "      <td>NaN</td>\n",
              "      <td>NC</td>\n",
              "      <td>en</td>\n",
              "      <td>NaN</td>\n",
              "    </tr>\n",
              "    <tr>\n",
              "      <th>4</th>\n",
              "      <td>653cf5d6a225ea102b7ecdc2</td>\n",
              "      <td>2023-10-28 11:51:50.000 Z</td>\n",
              "      <td>1972-03-19 00:00:00.000 Z</td>\n",
              "      <td>PA</td>\n",
              "      <td>en</td>\n",
              "      <td>female</td>\n",
              "    </tr>\n",
              "  </tbody>\n",
              "</table>\n",
              "</div>\n",
              "    <div class=\"colab-df-buttons\">\n",
              "\n",
              "  <div class=\"colab-df-container\">\n",
              "    <button class=\"colab-df-convert\" onclick=\"convertToInteractive('df-6b8424e0-a265-4cd6-84e9-d88712acf7fe')\"\n",
              "            title=\"Convert this dataframe to an interactive table.\"\n",
              "            style=\"display:none;\">\n",
              "\n",
              "  <svg xmlns=\"http://www.w3.org/2000/svg\" height=\"24px\" viewBox=\"0 -960 960 960\">\n",
              "    <path d=\"M120-120v-720h720v720H120Zm60-500h600v-160H180v160Zm220 220h160v-160H400v160Zm0 220h160v-160H400v160ZM180-400h160v-160H180v160Zm440 0h160v-160H620v160ZM180-180h160v-160H180v160Zm440 0h160v-160H620v160Z\"/>\n",
              "  </svg>\n",
              "    </button>\n",
              "\n",
              "  <style>\n",
              "    .colab-df-container {\n",
              "      display:flex;\n",
              "      gap: 12px;\n",
              "    }\n",
              "\n",
              "    .colab-df-convert {\n",
              "      background-color: #E8F0FE;\n",
              "      border: none;\n",
              "      border-radius: 50%;\n",
              "      cursor: pointer;\n",
              "      display: none;\n",
              "      fill: #1967D2;\n",
              "      height: 32px;\n",
              "      padding: 0 0 0 0;\n",
              "      width: 32px;\n",
              "    }\n",
              "\n",
              "    .colab-df-convert:hover {\n",
              "      background-color: #E2EBFA;\n",
              "      box-shadow: 0px 1px 2px rgba(60, 64, 67, 0.3), 0px 1px 3px 1px rgba(60, 64, 67, 0.15);\n",
              "      fill: #174EA6;\n",
              "    }\n",
              "\n",
              "    .colab-df-buttons div {\n",
              "      margin-bottom: 4px;\n",
              "    }\n",
              "\n",
              "    [theme=dark] .colab-df-convert {\n",
              "      background-color: #3B4455;\n",
              "      fill: #D2E3FC;\n",
              "    }\n",
              "\n",
              "    [theme=dark] .colab-df-convert:hover {\n",
              "      background-color: #434B5C;\n",
              "      box-shadow: 0px 1px 3px 1px rgba(0, 0, 0, 0.15);\n",
              "      filter: drop-shadow(0px 1px 2px rgba(0, 0, 0, 0.3));\n",
              "      fill: #FFFFFF;\n",
              "    }\n",
              "  </style>\n",
              "\n",
              "    <script>\n",
              "      const buttonEl =\n",
              "        document.querySelector('#df-6b8424e0-a265-4cd6-84e9-d88712acf7fe button.colab-df-convert');\n",
              "      buttonEl.style.display =\n",
              "        google.colab.kernel.accessAllowed ? 'block' : 'none';\n",
              "\n",
              "      async function convertToInteractive(key) {\n",
              "        const element = document.querySelector('#df-6b8424e0-a265-4cd6-84e9-d88712acf7fe');\n",
              "        const dataTable =\n",
              "          await google.colab.kernel.invokeFunction('convertToInteractive',\n",
              "                                                    [key], {});\n",
              "        if (!dataTable) return;\n",
              "\n",
              "        const docLinkHtml = 'Like what you see? Visit the ' +\n",
              "          '<a target=\"_blank\" href=https://colab.research.google.com/notebooks/data_table.ipynb>data table notebook</a>'\n",
              "          + ' to learn more about interactive tables.';\n",
              "        element.innerHTML = '';\n",
              "        dataTable['output_type'] = 'display_data';\n",
              "        await google.colab.output.renderOutput(dataTable, element);\n",
              "        const docLink = document.createElement('div');\n",
              "        docLink.innerHTML = docLinkHtml;\n",
              "        element.appendChild(docLink);\n",
              "      }\n",
              "    </script>\n",
              "  </div>\n",
              "\n",
              "\n",
              "<div id=\"df-2a7486e6-04e1-4433-9ca6-41209db730c9\">\n",
              "  <button class=\"colab-df-quickchart\" onclick=\"quickchart('df-2a7486e6-04e1-4433-9ca6-41209db730c9')\"\n",
              "            title=\"Suggest charts\"\n",
              "            style=\"display:none;\">\n",
              "\n",
              "<svg xmlns=\"http://www.w3.org/2000/svg\" height=\"24px\"viewBox=\"0 0 24 24\"\n",
              "     width=\"24px\">\n",
              "    <g>\n",
              "        <path d=\"M19 3H5c-1.1 0-2 .9-2 2v14c0 1.1.9 2 2 2h14c1.1 0 2-.9 2-2V5c0-1.1-.9-2-2-2zM9 17H7v-7h2v7zm4 0h-2V7h2v10zm4 0h-2v-4h2v4z\"/>\n",
              "    </g>\n",
              "</svg>\n",
              "  </button>\n",
              "\n",
              "<style>\n",
              "  .colab-df-quickchart {\n",
              "      --bg-color: #E8F0FE;\n",
              "      --fill-color: #1967D2;\n",
              "      --hover-bg-color: #E2EBFA;\n",
              "      --hover-fill-color: #174EA6;\n",
              "      --disabled-fill-color: #AAA;\n",
              "      --disabled-bg-color: #DDD;\n",
              "  }\n",
              "\n",
              "  [theme=dark] .colab-df-quickchart {\n",
              "      --bg-color: #3B4455;\n",
              "      --fill-color: #D2E3FC;\n",
              "      --hover-bg-color: #434B5C;\n",
              "      --hover-fill-color: #FFFFFF;\n",
              "      --disabled-bg-color: #3B4455;\n",
              "      --disabled-fill-color: #666;\n",
              "  }\n",
              "\n",
              "  .colab-df-quickchart {\n",
              "    background-color: var(--bg-color);\n",
              "    border: none;\n",
              "    border-radius: 50%;\n",
              "    cursor: pointer;\n",
              "    display: none;\n",
              "    fill: var(--fill-color);\n",
              "    height: 32px;\n",
              "    padding: 0;\n",
              "    width: 32px;\n",
              "  }\n",
              "\n",
              "  .colab-df-quickchart:hover {\n",
              "    background-color: var(--hover-bg-color);\n",
              "    box-shadow: 0 1px 2px rgba(60, 64, 67, 0.3), 0 1px 3px 1px rgba(60, 64, 67, 0.15);\n",
              "    fill: var(--button-hover-fill-color);\n",
              "  }\n",
              "\n",
              "  .colab-df-quickchart-complete:disabled,\n",
              "  .colab-df-quickchart-complete:disabled:hover {\n",
              "    background-color: var(--disabled-bg-color);\n",
              "    fill: var(--disabled-fill-color);\n",
              "    box-shadow: none;\n",
              "  }\n",
              "\n",
              "  .colab-df-spinner {\n",
              "    border: 2px solid var(--fill-color);\n",
              "    border-color: transparent;\n",
              "    border-bottom-color: var(--fill-color);\n",
              "    animation:\n",
              "      spin 1s steps(1) infinite;\n",
              "  }\n",
              "\n",
              "  @keyframes spin {\n",
              "    0% {\n",
              "      border-color: transparent;\n",
              "      border-bottom-color: var(--fill-color);\n",
              "      border-left-color: var(--fill-color);\n",
              "    }\n",
              "    20% {\n",
              "      border-color: transparent;\n",
              "      border-left-color: var(--fill-color);\n",
              "      border-top-color: var(--fill-color);\n",
              "    }\n",
              "    30% {\n",
              "      border-color: transparent;\n",
              "      border-left-color: var(--fill-color);\n",
              "      border-top-color: var(--fill-color);\n",
              "      border-right-color: var(--fill-color);\n",
              "    }\n",
              "    40% {\n",
              "      border-color: transparent;\n",
              "      border-right-color: var(--fill-color);\n",
              "      border-top-color: var(--fill-color);\n",
              "    }\n",
              "    60% {\n",
              "      border-color: transparent;\n",
              "      border-right-color: var(--fill-color);\n",
              "    }\n",
              "    80% {\n",
              "      border-color: transparent;\n",
              "      border-right-color: var(--fill-color);\n",
              "      border-bottom-color: var(--fill-color);\n",
              "    }\n",
              "    90% {\n",
              "      border-color: transparent;\n",
              "      border-bottom-color: var(--fill-color);\n",
              "    }\n",
              "  }\n",
              "</style>\n",
              "\n",
              "  <script>\n",
              "    async function quickchart(key) {\n",
              "      const quickchartButtonEl =\n",
              "        document.querySelector('#' + key + ' button');\n",
              "      quickchartButtonEl.disabled = true;  // To prevent multiple clicks.\n",
              "      quickchartButtonEl.classList.add('colab-df-spinner');\n",
              "      try {\n",
              "        const charts = await google.colab.kernel.invokeFunction(\n",
              "            'suggestCharts', [key], {});\n",
              "      } catch (error) {\n",
              "        console.error('Error during call to suggestCharts:', error);\n",
              "      }\n",
              "      quickchartButtonEl.classList.remove('colab-df-spinner');\n",
              "      quickchartButtonEl.classList.add('colab-df-quickchart-complete');\n",
              "    }\n",
              "    (() => {\n",
              "      let quickchartButtonEl =\n",
              "        document.querySelector('#df-2a7486e6-04e1-4433-9ca6-41209db730c9 button');\n",
              "      quickchartButtonEl.style.display =\n",
              "        google.colab.kernel.accessAllowed ? 'block' : 'none';\n",
              "    })();\n",
              "  </script>\n",
              "</div>\n",
              "\n",
              "    </div>\n",
              "  </div>\n"
            ],
            "application/vnd.google.colaboratory.intrinsic+json": {
              "type": "dataframe",
              "variable_name": "df_user",
              "summary": "{\n  \"name\": \"df_user\",\n  \"rows\": 100000,\n  \"fields\": [\n    {\n      \"column\": \"ID\",\n      \"properties\": {\n        \"dtype\": \"string\",\n        \"num_unique_values\": 100000,\n        \"samples\": [\n          \"6503c2820b8083d9b4eaf89d\",\n          \"5f97581e396d5a167efb6e9f\",\n          \"660465647756e548cb86df90\"\n        ],\n        \"semantic_type\": \"\",\n        \"description\": \"\"\n      }\n    },\n    {\n      \"column\": \"CREATED_DATE\",\n      \"properties\": {\n        \"dtype\": \"object\",\n        \"num_unique_values\": 99942,\n        \"samples\": [\n          \"2023-07-02 16:44:42.000 Z\",\n          \"2021-07-25 17:30:02.000 Z\",\n          \"2022-12-03 21:19:38.000 Z\"\n        ],\n        \"semantic_type\": \"\",\n        \"description\": \"\"\n      }\n    },\n    {\n      \"column\": \"BIRTH_DATE\",\n      \"properties\": {\n        \"dtype\": \"object\",\n        \"num_unique_values\": 54721,\n        \"samples\": [\n          \"1974-04-22 04:00:00.000 Z\",\n          \"2005-06-05 04:00:00.000 Z\",\n          \"1966-12-09 05:00:00.000 Z\"\n        ],\n        \"semantic_type\": \"\",\n        \"description\": \"\"\n      }\n    },\n    {\n      \"column\": \"STATE\",\n      \"properties\": {\n        \"dtype\": \"category\",\n        \"num_unique_values\": 52,\n        \"samples\": [\n          \"WI\",\n          \"AL\",\n          \"ID\"\n        ],\n        \"semantic_type\": \"\",\n        \"description\": \"\"\n      }\n    },\n    {\n      \"column\": \"LANGUAGE\",\n      \"properties\": {\n        \"dtype\": \"category\",\n        \"num_unique_values\": 2,\n        \"samples\": [\n          \"en\",\n          \"es-419\"\n        ],\n        \"semantic_type\": \"\",\n        \"description\": \"\"\n      }\n    },\n    {\n      \"column\": \"GENDER\",\n      \"properties\": {\n        \"dtype\": \"category\",\n        \"num_unique_values\": 11,\n        \"samples\": [\n          \"not_listed\",\n          \"female\"\n        ],\n        \"semantic_type\": \"\",\n        \"description\": \"\"\n      }\n    }\n  ]\n}"
            }
          },
          "metadata": {},
          "execution_count": 62
        }
      ]
    },
    {
      "cell_type": "code",
      "source": [
        "df_user.dtypes"
      ],
      "metadata": {
        "colab": {
          "base_uri": "https://localhost:8080/",
          "height": 272
        },
        "id": "ahaP2cchYW_n",
        "outputId": "c28f4901-aa8a-4a15-fadd-f974c6648ebb"
      },
      "execution_count": 63,
      "outputs": [
        {
          "output_type": "execute_result",
          "data": {
            "text/plain": [
              "ID              object\n",
              "CREATED_DATE    object\n",
              "BIRTH_DATE      object\n",
              "STATE           object\n",
              "LANGUAGE        object\n",
              "GENDER          object\n",
              "dtype: object"
            ],
            "text/html": [
              "<div>\n",
              "<style scoped>\n",
              "    .dataframe tbody tr th:only-of-type {\n",
              "        vertical-align: middle;\n",
              "    }\n",
              "\n",
              "    .dataframe tbody tr th {\n",
              "        vertical-align: top;\n",
              "    }\n",
              "\n",
              "    .dataframe thead th {\n",
              "        text-align: right;\n",
              "    }\n",
              "</style>\n",
              "<table border=\"1\" class=\"dataframe\">\n",
              "  <thead>\n",
              "    <tr style=\"text-align: right;\">\n",
              "      <th></th>\n",
              "      <th>0</th>\n",
              "    </tr>\n",
              "  </thead>\n",
              "  <tbody>\n",
              "    <tr>\n",
              "      <th>ID</th>\n",
              "      <td>object</td>\n",
              "    </tr>\n",
              "    <tr>\n",
              "      <th>CREATED_DATE</th>\n",
              "      <td>object</td>\n",
              "    </tr>\n",
              "    <tr>\n",
              "      <th>BIRTH_DATE</th>\n",
              "      <td>object</td>\n",
              "    </tr>\n",
              "    <tr>\n",
              "      <th>STATE</th>\n",
              "      <td>object</td>\n",
              "    </tr>\n",
              "    <tr>\n",
              "      <th>LANGUAGE</th>\n",
              "      <td>object</td>\n",
              "    </tr>\n",
              "    <tr>\n",
              "      <th>GENDER</th>\n",
              "      <td>object</td>\n",
              "    </tr>\n",
              "  </tbody>\n",
              "</table>\n",
              "</div><br><label><b>dtype:</b> object</label>"
            ]
          },
          "metadata": {},
          "execution_count": 63
        }
      ]
    },
    {
      "cell_type": "code",
      "source": [
        "df_user.nunique()"
      ],
      "metadata": {
        "colab": {
          "base_uri": "https://localhost:8080/",
          "height": 272
        },
        "id": "2Y2VjrRUCgDu",
        "outputId": "e6ba7ba6-d2ff-403f-e530-a943308df92f"
      },
      "execution_count": 65,
      "outputs": [
        {
          "output_type": "execute_result",
          "data": {
            "text/plain": [
              "ID              100000\n",
              "CREATED_DATE     99942\n",
              "BIRTH_DATE       54721\n",
              "STATE               52\n",
              "LANGUAGE             2\n",
              "GENDER              11\n",
              "dtype: int64"
            ],
            "text/html": [
              "<div>\n",
              "<style scoped>\n",
              "    .dataframe tbody tr th:only-of-type {\n",
              "        vertical-align: middle;\n",
              "    }\n",
              "\n",
              "    .dataframe tbody tr th {\n",
              "        vertical-align: top;\n",
              "    }\n",
              "\n",
              "    .dataframe thead th {\n",
              "        text-align: right;\n",
              "    }\n",
              "</style>\n",
              "<table border=\"1\" class=\"dataframe\">\n",
              "  <thead>\n",
              "    <tr style=\"text-align: right;\">\n",
              "      <th></th>\n",
              "      <th>0</th>\n",
              "    </tr>\n",
              "  </thead>\n",
              "  <tbody>\n",
              "    <tr>\n",
              "      <th>ID</th>\n",
              "      <td>100000</td>\n",
              "    </tr>\n",
              "    <tr>\n",
              "      <th>CREATED_DATE</th>\n",
              "      <td>99942</td>\n",
              "    </tr>\n",
              "    <tr>\n",
              "      <th>BIRTH_DATE</th>\n",
              "      <td>54721</td>\n",
              "    </tr>\n",
              "    <tr>\n",
              "      <th>STATE</th>\n",
              "      <td>52</td>\n",
              "    </tr>\n",
              "    <tr>\n",
              "      <th>LANGUAGE</th>\n",
              "      <td>2</td>\n",
              "    </tr>\n",
              "    <tr>\n",
              "      <th>GENDER</th>\n",
              "      <td>11</td>\n",
              "    </tr>\n",
              "  </tbody>\n",
              "</table>\n",
              "</div><br><label><b>dtype:</b> int64</label>"
            ]
          },
          "metadata": {},
          "execution_count": 65
        }
      ]
    },
    {
      "cell_type": "markdown",
      "source": [
        "# **Updating Column Name**"
      ],
      "metadata": {
        "id": "BSgz0ReyD5_E"
      }
    },
    {
      "cell_type": "code",
      "source": [
        "# Renaming ID column to USER_ID\n",
        "df_user.rename(columns={'ID': 'USER_ID'}, inplace=True)\n",
        "df_user.head()"
      ],
      "metadata": {
        "colab": {
          "base_uri": "https://localhost:8080/",
          "height": 206
        },
        "id": "brTLotUXD_X1",
        "outputId": "0455582f-8851-41a8-a4b8-3e88391789ed"
      },
      "execution_count": 66,
      "outputs": [
        {
          "output_type": "execute_result",
          "data": {
            "text/plain": [
              "                    USER_ID               CREATED_DATE  \\\n",
              "0  5ef3b4f17053ab141787697d  2020-06-24 20:17:54.000 Z   \n",
              "1  5ff220d383fcfc12622b96bc  2021-01-03 19:53:55.000 Z   \n",
              "2  6477950aa55bb77a0e27ee10  2023-05-31 18:42:18.000 Z   \n",
              "3  658a306e99b40f103b63ccf8  2023-12-26 01:46:22.000 Z   \n",
              "4  653cf5d6a225ea102b7ecdc2  2023-10-28 11:51:50.000 Z   \n",
              "\n",
              "                  BIRTH_DATE STATE LANGUAGE  GENDER  \n",
              "0  2000-08-11 00:00:00.000 Z    CA   es-419  female  \n",
              "1  2001-09-24 04:00:00.000 Z    PA       en  female  \n",
              "2  1994-10-28 00:00:00.000 Z    FL   es-419  female  \n",
              "3                        NaN    NC       en     NaN  \n",
              "4  1972-03-19 00:00:00.000 Z    PA       en  female  "
            ],
            "text/html": [
              "\n",
              "  <div id=\"df-0effbadc-8728-44ee-a358-bceece8289ee\" class=\"colab-df-container\">\n",
              "    <div>\n",
              "<style scoped>\n",
              "    .dataframe tbody tr th:only-of-type {\n",
              "        vertical-align: middle;\n",
              "    }\n",
              "\n",
              "    .dataframe tbody tr th {\n",
              "        vertical-align: top;\n",
              "    }\n",
              "\n",
              "    .dataframe thead th {\n",
              "        text-align: right;\n",
              "    }\n",
              "</style>\n",
              "<table border=\"1\" class=\"dataframe\">\n",
              "  <thead>\n",
              "    <tr style=\"text-align: right;\">\n",
              "      <th></th>\n",
              "      <th>USER_ID</th>\n",
              "      <th>CREATED_DATE</th>\n",
              "      <th>BIRTH_DATE</th>\n",
              "      <th>STATE</th>\n",
              "      <th>LANGUAGE</th>\n",
              "      <th>GENDER</th>\n",
              "    </tr>\n",
              "  </thead>\n",
              "  <tbody>\n",
              "    <tr>\n",
              "      <th>0</th>\n",
              "      <td>5ef3b4f17053ab141787697d</td>\n",
              "      <td>2020-06-24 20:17:54.000 Z</td>\n",
              "      <td>2000-08-11 00:00:00.000 Z</td>\n",
              "      <td>CA</td>\n",
              "      <td>es-419</td>\n",
              "      <td>female</td>\n",
              "    </tr>\n",
              "    <tr>\n",
              "      <th>1</th>\n",
              "      <td>5ff220d383fcfc12622b96bc</td>\n",
              "      <td>2021-01-03 19:53:55.000 Z</td>\n",
              "      <td>2001-09-24 04:00:00.000 Z</td>\n",
              "      <td>PA</td>\n",
              "      <td>en</td>\n",
              "      <td>female</td>\n",
              "    </tr>\n",
              "    <tr>\n",
              "      <th>2</th>\n",
              "      <td>6477950aa55bb77a0e27ee10</td>\n",
              "      <td>2023-05-31 18:42:18.000 Z</td>\n",
              "      <td>1994-10-28 00:00:00.000 Z</td>\n",
              "      <td>FL</td>\n",
              "      <td>es-419</td>\n",
              "      <td>female</td>\n",
              "    </tr>\n",
              "    <tr>\n",
              "      <th>3</th>\n",
              "      <td>658a306e99b40f103b63ccf8</td>\n",
              "      <td>2023-12-26 01:46:22.000 Z</td>\n",
              "      <td>NaN</td>\n",
              "      <td>NC</td>\n",
              "      <td>en</td>\n",
              "      <td>NaN</td>\n",
              "    </tr>\n",
              "    <tr>\n",
              "      <th>4</th>\n",
              "      <td>653cf5d6a225ea102b7ecdc2</td>\n",
              "      <td>2023-10-28 11:51:50.000 Z</td>\n",
              "      <td>1972-03-19 00:00:00.000 Z</td>\n",
              "      <td>PA</td>\n",
              "      <td>en</td>\n",
              "      <td>female</td>\n",
              "    </tr>\n",
              "  </tbody>\n",
              "</table>\n",
              "</div>\n",
              "    <div class=\"colab-df-buttons\">\n",
              "\n",
              "  <div class=\"colab-df-container\">\n",
              "    <button class=\"colab-df-convert\" onclick=\"convertToInteractive('df-0effbadc-8728-44ee-a358-bceece8289ee')\"\n",
              "            title=\"Convert this dataframe to an interactive table.\"\n",
              "            style=\"display:none;\">\n",
              "\n",
              "  <svg xmlns=\"http://www.w3.org/2000/svg\" height=\"24px\" viewBox=\"0 -960 960 960\">\n",
              "    <path d=\"M120-120v-720h720v720H120Zm60-500h600v-160H180v160Zm220 220h160v-160H400v160Zm0 220h160v-160H400v160ZM180-400h160v-160H180v160Zm440 0h160v-160H620v160ZM180-180h160v-160H180v160Zm440 0h160v-160H620v160Z\"/>\n",
              "  </svg>\n",
              "    </button>\n",
              "\n",
              "  <style>\n",
              "    .colab-df-container {\n",
              "      display:flex;\n",
              "      gap: 12px;\n",
              "    }\n",
              "\n",
              "    .colab-df-convert {\n",
              "      background-color: #E8F0FE;\n",
              "      border: none;\n",
              "      border-radius: 50%;\n",
              "      cursor: pointer;\n",
              "      display: none;\n",
              "      fill: #1967D2;\n",
              "      height: 32px;\n",
              "      padding: 0 0 0 0;\n",
              "      width: 32px;\n",
              "    }\n",
              "\n",
              "    .colab-df-convert:hover {\n",
              "      background-color: #E2EBFA;\n",
              "      box-shadow: 0px 1px 2px rgba(60, 64, 67, 0.3), 0px 1px 3px 1px rgba(60, 64, 67, 0.15);\n",
              "      fill: #174EA6;\n",
              "    }\n",
              "\n",
              "    .colab-df-buttons div {\n",
              "      margin-bottom: 4px;\n",
              "    }\n",
              "\n",
              "    [theme=dark] .colab-df-convert {\n",
              "      background-color: #3B4455;\n",
              "      fill: #D2E3FC;\n",
              "    }\n",
              "\n",
              "    [theme=dark] .colab-df-convert:hover {\n",
              "      background-color: #434B5C;\n",
              "      box-shadow: 0px 1px 3px 1px rgba(0, 0, 0, 0.15);\n",
              "      filter: drop-shadow(0px 1px 2px rgba(0, 0, 0, 0.3));\n",
              "      fill: #FFFFFF;\n",
              "    }\n",
              "  </style>\n",
              "\n",
              "    <script>\n",
              "      const buttonEl =\n",
              "        document.querySelector('#df-0effbadc-8728-44ee-a358-bceece8289ee button.colab-df-convert');\n",
              "      buttonEl.style.display =\n",
              "        google.colab.kernel.accessAllowed ? 'block' : 'none';\n",
              "\n",
              "      async function convertToInteractive(key) {\n",
              "        const element = document.querySelector('#df-0effbadc-8728-44ee-a358-bceece8289ee');\n",
              "        const dataTable =\n",
              "          await google.colab.kernel.invokeFunction('convertToInteractive',\n",
              "                                                    [key], {});\n",
              "        if (!dataTable) return;\n",
              "\n",
              "        const docLinkHtml = 'Like what you see? Visit the ' +\n",
              "          '<a target=\"_blank\" href=https://colab.research.google.com/notebooks/data_table.ipynb>data table notebook</a>'\n",
              "          + ' to learn more about interactive tables.';\n",
              "        element.innerHTML = '';\n",
              "        dataTable['output_type'] = 'display_data';\n",
              "        await google.colab.output.renderOutput(dataTable, element);\n",
              "        const docLink = document.createElement('div');\n",
              "        docLink.innerHTML = docLinkHtml;\n",
              "        element.appendChild(docLink);\n",
              "      }\n",
              "    </script>\n",
              "  </div>\n",
              "\n",
              "\n",
              "<div id=\"df-a69b5a52-e309-426a-bba5-b7a125eb7233\">\n",
              "  <button class=\"colab-df-quickchart\" onclick=\"quickchart('df-a69b5a52-e309-426a-bba5-b7a125eb7233')\"\n",
              "            title=\"Suggest charts\"\n",
              "            style=\"display:none;\">\n",
              "\n",
              "<svg xmlns=\"http://www.w3.org/2000/svg\" height=\"24px\"viewBox=\"0 0 24 24\"\n",
              "     width=\"24px\">\n",
              "    <g>\n",
              "        <path d=\"M19 3H5c-1.1 0-2 .9-2 2v14c0 1.1.9 2 2 2h14c1.1 0 2-.9 2-2V5c0-1.1-.9-2-2-2zM9 17H7v-7h2v7zm4 0h-2V7h2v10zm4 0h-2v-4h2v4z\"/>\n",
              "    </g>\n",
              "</svg>\n",
              "  </button>\n",
              "\n",
              "<style>\n",
              "  .colab-df-quickchart {\n",
              "      --bg-color: #E8F0FE;\n",
              "      --fill-color: #1967D2;\n",
              "      --hover-bg-color: #E2EBFA;\n",
              "      --hover-fill-color: #174EA6;\n",
              "      --disabled-fill-color: #AAA;\n",
              "      --disabled-bg-color: #DDD;\n",
              "  }\n",
              "\n",
              "  [theme=dark] .colab-df-quickchart {\n",
              "      --bg-color: #3B4455;\n",
              "      --fill-color: #D2E3FC;\n",
              "      --hover-bg-color: #434B5C;\n",
              "      --hover-fill-color: #FFFFFF;\n",
              "      --disabled-bg-color: #3B4455;\n",
              "      --disabled-fill-color: #666;\n",
              "  }\n",
              "\n",
              "  .colab-df-quickchart {\n",
              "    background-color: var(--bg-color);\n",
              "    border: none;\n",
              "    border-radius: 50%;\n",
              "    cursor: pointer;\n",
              "    display: none;\n",
              "    fill: var(--fill-color);\n",
              "    height: 32px;\n",
              "    padding: 0;\n",
              "    width: 32px;\n",
              "  }\n",
              "\n",
              "  .colab-df-quickchart:hover {\n",
              "    background-color: var(--hover-bg-color);\n",
              "    box-shadow: 0 1px 2px rgba(60, 64, 67, 0.3), 0 1px 3px 1px rgba(60, 64, 67, 0.15);\n",
              "    fill: var(--button-hover-fill-color);\n",
              "  }\n",
              "\n",
              "  .colab-df-quickchart-complete:disabled,\n",
              "  .colab-df-quickchart-complete:disabled:hover {\n",
              "    background-color: var(--disabled-bg-color);\n",
              "    fill: var(--disabled-fill-color);\n",
              "    box-shadow: none;\n",
              "  }\n",
              "\n",
              "  .colab-df-spinner {\n",
              "    border: 2px solid var(--fill-color);\n",
              "    border-color: transparent;\n",
              "    border-bottom-color: var(--fill-color);\n",
              "    animation:\n",
              "      spin 1s steps(1) infinite;\n",
              "  }\n",
              "\n",
              "  @keyframes spin {\n",
              "    0% {\n",
              "      border-color: transparent;\n",
              "      border-bottom-color: var(--fill-color);\n",
              "      border-left-color: var(--fill-color);\n",
              "    }\n",
              "    20% {\n",
              "      border-color: transparent;\n",
              "      border-left-color: var(--fill-color);\n",
              "      border-top-color: var(--fill-color);\n",
              "    }\n",
              "    30% {\n",
              "      border-color: transparent;\n",
              "      border-left-color: var(--fill-color);\n",
              "      border-top-color: var(--fill-color);\n",
              "      border-right-color: var(--fill-color);\n",
              "    }\n",
              "    40% {\n",
              "      border-color: transparent;\n",
              "      border-right-color: var(--fill-color);\n",
              "      border-top-color: var(--fill-color);\n",
              "    }\n",
              "    60% {\n",
              "      border-color: transparent;\n",
              "      border-right-color: var(--fill-color);\n",
              "    }\n",
              "    80% {\n",
              "      border-color: transparent;\n",
              "      border-right-color: var(--fill-color);\n",
              "      border-bottom-color: var(--fill-color);\n",
              "    }\n",
              "    90% {\n",
              "      border-color: transparent;\n",
              "      border-bottom-color: var(--fill-color);\n",
              "    }\n",
              "  }\n",
              "</style>\n",
              "\n",
              "  <script>\n",
              "    async function quickchart(key) {\n",
              "      const quickchartButtonEl =\n",
              "        document.querySelector('#' + key + ' button');\n",
              "      quickchartButtonEl.disabled = true;  // To prevent multiple clicks.\n",
              "      quickchartButtonEl.classList.add('colab-df-spinner');\n",
              "      try {\n",
              "        const charts = await google.colab.kernel.invokeFunction(\n",
              "            'suggestCharts', [key], {});\n",
              "      } catch (error) {\n",
              "        console.error('Error during call to suggestCharts:', error);\n",
              "      }\n",
              "      quickchartButtonEl.classList.remove('colab-df-spinner');\n",
              "      quickchartButtonEl.classList.add('colab-df-quickchart-complete');\n",
              "    }\n",
              "    (() => {\n",
              "      let quickchartButtonEl =\n",
              "        document.querySelector('#df-a69b5a52-e309-426a-bba5-b7a125eb7233 button');\n",
              "      quickchartButtonEl.style.display =\n",
              "        google.colab.kernel.accessAllowed ? 'block' : 'none';\n",
              "    })();\n",
              "  </script>\n",
              "</div>\n",
              "\n",
              "    </div>\n",
              "  </div>\n"
            ],
            "application/vnd.google.colaboratory.intrinsic+json": {
              "type": "dataframe",
              "variable_name": "df_user",
              "summary": "{\n  \"name\": \"df_user\",\n  \"rows\": 100000,\n  \"fields\": [\n    {\n      \"column\": \"USER_ID\",\n      \"properties\": {\n        \"dtype\": \"string\",\n        \"num_unique_values\": 100000,\n        \"samples\": [\n          \"6503c2820b8083d9b4eaf89d\",\n          \"5f97581e396d5a167efb6e9f\",\n          \"660465647756e548cb86df90\"\n        ],\n        \"semantic_type\": \"\",\n        \"description\": \"\"\n      }\n    },\n    {\n      \"column\": \"CREATED_DATE\",\n      \"properties\": {\n        \"dtype\": \"object\",\n        \"num_unique_values\": 99942,\n        \"samples\": [\n          \"2023-07-02 16:44:42.000 Z\",\n          \"2021-07-25 17:30:02.000 Z\",\n          \"2022-12-03 21:19:38.000 Z\"\n        ],\n        \"semantic_type\": \"\",\n        \"description\": \"\"\n      }\n    },\n    {\n      \"column\": \"BIRTH_DATE\",\n      \"properties\": {\n        \"dtype\": \"object\",\n        \"num_unique_values\": 54721,\n        \"samples\": [\n          \"1974-04-22 04:00:00.000 Z\",\n          \"2005-06-05 04:00:00.000 Z\",\n          \"1966-12-09 05:00:00.000 Z\"\n        ],\n        \"semantic_type\": \"\",\n        \"description\": \"\"\n      }\n    },\n    {\n      \"column\": \"STATE\",\n      \"properties\": {\n        \"dtype\": \"category\",\n        \"num_unique_values\": 52,\n        \"samples\": [\n          \"WI\",\n          \"AL\",\n          \"ID\"\n        ],\n        \"semantic_type\": \"\",\n        \"description\": \"\"\n      }\n    },\n    {\n      \"column\": \"LANGUAGE\",\n      \"properties\": {\n        \"dtype\": \"category\",\n        \"num_unique_values\": 2,\n        \"samples\": [\n          \"en\",\n          \"es-419\"\n        ],\n        \"semantic_type\": \"\",\n        \"description\": \"\"\n      }\n    },\n    {\n      \"column\": \"GENDER\",\n      \"properties\": {\n        \"dtype\": \"category\",\n        \"num_unique_values\": 11,\n        \"samples\": [\n          \"not_listed\",\n          \"female\"\n        ],\n        \"semantic_type\": \"\",\n        \"description\": \"\"\n      }\n    }\n  ]\n}"
            }
          },
          "metadata": {},
          "execution_count": 66
        }
      ]
    },
    {
      "cell_type": "markdown",
      "source": [
        "#**Updating Date column types from Object to DateTime**\n",
        "\n",
        "\n"
      ],
      "metadata": {
        "id": "KZCpHcs4YcDw"
      }
    },
    {
      "cell_type": "code",
      "source": [
        "# Converting 'created_date' and 'birth_date' to datetime\n",
        "df_user['CREATED_DATE'] = pd.to_datetime(df_user['CREATED_DATE'], errors='coerce')\n",
        "df_user['BIRTH_DATE'] = pd.to_datetime(df_user['BIRTH_DATE'], errors='coerce')\n",
        "\n",
        "# Extracting only the date part\n",
        "df_user['CREATED_DATE'] = df_user['CREATED_DATE'].dt.normalize()\n",
        "df_user['BIRTH_DATE'] = df_user['BIRTH_DATE'].dt.normalize()"
      ],
      "metadata": {
        "id": "oEZSQzwmYew3"
      },
      "execution_count": 67,
      "outputs": []
    },
    {
      "cell_type": "code",
      "source": [
        "df_user.dtypes"
      ],
      "metadata": {
        "colab": {
          "base_uri": "https://localhost:8080/",
          "height": 272
        },
        "id": "BN1ERVEwYq0E",
        "outputId": "f744d8d7-4555-491b-d280-29a6709fbdde"
      },
      "execution_count": null,
      "outputs": [
        {
          "output_type": "execute_result",
          "data": {
            "text/plain": [
              "USER_ID                      object\n",
              "CREATED_DATE    datetime64[ns, UTC]\n",
              "BIRTH_DATE      datetime64[ns, UTC]\n",
              "STATE                        object\n",
              "LANGUAGE                     object\n",
              "GENDER                       object\n",
              "dtype: object"
            ],
            "text/html": [
              "<div>\n",
              "<style scoped>\n",
              "    .dataframe tbody tr th:only-of-type {\n",
              "        vertical-align: middle;\n",
              "    }\n",
              "\n",
              "    .dataframe tbody tr th {\n",
              "        vertical-align: top;\n",
              "    }\n",
              "\n",
              "    .dataframe thead th {\n",
              "        text-align: right;\n",
              "    }\n",
              "</style>\n",
              "<table border=\"1\" class=\"dataframe\">\n",
              "  <thead>\n",
              "    <tr style=\"text-align: right;\">\n",
              "      <th></th>\n",
              "      <th>0</th>\n",
              "    </tr>\n",
              "  </thead>\n",
              "  <tbody>\n",
              "    <tr>\n",
              "      <th>USER_ID</th>\n",
              "      <td>object</td>\n",
              "    </tr>\n",
              "    <tr>\n",
              "      <th>CREATED_DATE</th>\n",
              "      <td>datetime64[ns, UTC]</td>\n",
              "    </tr>\n",
              "    <tr>\n",
              "      <th>BIRTH_DATE</th>\n",
              "      <td>datetime64[ns, UTC]</td>\n",
              "    </tr>\n",
              "    <tr>\n",
              "      <th>STATE</th>\n",
              "      <td>object</td>\n",
              "    </tr>\n",
              "    <tr>\n",
              "      <th>LANGUAGE</th>\n",
              "      <td>object</td>\n",
              "    </tr>\n",
              "    <tr>\n",
              "      <th>GENDER</th>\n",
              "      <td>object</td>\n",
              "    </tr>\n",
              "  </tbody>\n",
              "</table>\n",
              "</div><br><label><b>dtype:</b> object</label>"
            ]
          },
          "metadata": {},
          "execution_count": 124
        }
      ]
    },
    {
      "cell_type": "markdown",
      "source": [
        "# **Counting Null values in columns**"
      ],
      "metadata": {
        "id": "XyQ7ylQiIr7f"
      }
    },
    {
      "cell_type": "code",
      "source": [
        "# Total number of rows\n",
        "total_rows_user = len(df_user)\n",
        "\n",
        "# Count of null values in each column\n",
        "null_counts_user = df_user.isnull().sum()\n",
        "\n",
        "# Percentage of null values\n",
        "null_percentage_user = (null_counts_user / total_rows_user) * 100\n",
        "formatted_percentage_user = null_percentage_user.map('{:.2f}%'.format)\n",
        "\n",
        "# DataFrame to display results\n",
        "null_summary_user = pd.DataFrame({\n",
        "    'Null Count': null_counts_user,\n",
        "    'Null Percentage': formatted_percentage_user\n",
        "})\n",
        "\n",
        "# Summary for the Null records\n",
        "print(null_summary_user)"
      ],
      "metadata": {
        "colab": {
          "base_uri": "https://localhost:8080/"
        },
        "id": "3QLgMCWEaywC",
        "outputId": "3f37c6d6-448b-4f9c-ae09-e108d8aa07e1"
      },
      "execution_count": 68,
      "outputs": [
        {
          "output_type": "stream",
          "name": "stdout",
          "text": [
            "              Null Count Null Percentage\n",
            "USER_ID                0           0.00%\n",
            "CREATED_DATE           0           0.00%\n",
            "BIRTH_DATE          3675           3.67%\n",
            "STATE               4812           4.81%\n",
            "LANGUAGE           30508          30.51%\n",
            "GENDER              5892           5.89%\n"
          ]
        }
      ]
    },
    {
      "cell_type": "markdown",
      "source": [
        "# **Checking Duplicates Records**\n",
        "\n"
      ],
      "metadata": {
        "id": "aAPgcHwncnUC"
      }
    },
    {
      "cell_type": "code",
      "source": [
        "#count duplicate records\n",
        "print(df_products.duplicated().sum())"
      ],
      "metadata": {
        "colab": {
          "base_uri": "https://localhost:8080/"
        },
        "id": "R9egnr-ccqde",
        "outputId": "eb420ffc-3a9e-4e8e-c01b-365477d9276c"
      },
      "execution_count": 69,
      "outputs": [
        {
          "output_type": "stream",
          "name": "stdout",
          "text": [
            "0\n"
          ]
        }
      ]
    },
    {
      "cell_type": "markdown",
      "source": [
        "# **Creating AGE Column**\n",
        "\n"
      ],
      "metadata": {
        "id": "MKV_TC-Ec-lQ"
      }
    },
    {
      "cell_type": "code",
      "source": [
        "# Ensuring 'BIRTH_DATE' is in datetime format for subraction from current date to get the age\n",
        "df_user['BIRTH_DATE'] = pd.to_datetime(df_user['BIRTH_DATE'], errors='coerce').dt.tz_localize(None)\n",
        "\n",
        "# Calculating the age using today's date, ensuring both are timezone-naive\n",
        "df_user['AGE'] = (pd.Timestamp.now().normalize() - df_user['BIRTH_DATE']).dt.days // 365\n",
        "\n",
        "# Handling NaN values in AGE column by filling with -1\n",
        "df_user['AGE'].fillna(-1)\n",
        "\n",
        "# Converting AGE column to integer\n",
        "df_user['AGE'] = df_user['AGE'].astype('int', errors='ignore')\n"
      ],
      "metadata": {
        "id": "DM3jjU_gdA7x"
      },
      "execution_count": 70,
      "outputs": []
    },
    {
      "cell_type": "code",
      "source": [
        "df_user.columns"
      ],
      "metadata": {
        "colab": {
          "base_uri": "https://localhost:8080/"
        },
        "id": "VwSxY4biQ9av",
        "outputId": "300fb04c-1fe0-4526-fcbd-a308a73cff9a"
      },
      "execution_count": 71,
      "outputs": [
        {
          "output_type": "execute_result",
          "data": {
            "text/plain": [
              "Index(['USER_ID', 'CREATED_DATE', 'BIRTH_DATE', 'STATE', 'LANGUAGE', 'GENDER',\n",
              "       'AGE'],\n",
              "      dtype='object')"
            ]
          },
          "metadata": {},
          "execution_count": 71
        }
      ]
    },
    {
      "cell_type": "markdown",
      "source": [
        "# **Checking Column Uniqueness**"
      ],
      "metadata": {
        "id": "dtrXc7FXMBZP"
      }
    },
    {
      "cell_type": "code",
      "source": [
        "df_user['GENDER'].nunique()"
      ],
      "metadata": {
        "colab": {
          "base_uri": "https://localhost:8080/"
        },
        "id": "JSWYdJ6NMHyI",
        "outputId": "5b402133-156c-4c36-a946-99a7415f85e3"
      },
      "execution_count": 72,
      "outputs": [
        {
          "output_type": "execute_result",
          "data": {
            "text/plain": [
              "11"
            ]
          },
          "metadata": {},
          "execution_count": 72
        }
      ]
    },
    {
      "cell_type": "code",
      "source": [
        "df_user['GENDER'].unique()"
      ],
      "metadata": {
        "colab": {
          "base_uri": "https://localhost:8080/"
        },
        "id": "UIO_rsbtKOss",
        "outputId": "96f97af0-16fb-49dd-bb6c-0ce0b2399c5f"
      },
      "execution_count": 73,
      "outputs": [
        {
          "output_type": "execute_result",
          "data": {
            "text/plain": [
              "array(['female', nan, 'male', 'non_binary', 'transgender',\n",
              "       'prefer_not_to_say', 'not_listed', 'Non-Binary', 'unknown',\n",
              "       'not_specified', \"My gender isn't listed\", 'Prefer not to say'],\n",
              "      dtype=object)"
            ]
          },
          "metadata": {},
          "execution_count": 73
        }
      ]
    },
    {
      "cell_type": "markdown",
      "source": [
        "# **Standardizing Gender Column Values**"
      ],
      "metadata": {
        "id": "eDwXThCgLkjd"
      }
    },
    {
      "cell_type": "code",
      "source": [
        "# Standardizing gender values\n",
        "df_user['GENDER'] = df_user['GENDER'].replace({\n",
        "    'Non-Binary': 'non_binary',\n",
        "    'Prefer not to say': 'prefer_not_to_say',\n",
        "    'My gender isn\\'t listed': 'not_specified',\n",
        "    'not_listed': 'not_specified',\n",
        "})\n",
        "# Replace NaN values with 'unknown'\n",
        "df_user['GENDER'] = df_user['GENDER'].fillna('unknown')\n",
        "\n",
        "# Updated DataFrame\n",
        "df_user['GENDER'].unique()"
      ],
      "metadata": {
        "colab": {
          "base_uri": "https://localhost:8080/"
        },
        "id": "dnqNNSVye_Ur",
        "outputId": "eae141d9-77b0-4c54-b495-34d4427d9484"
      },
      "execution_count": 74,
      "outputs": [
        {
          "output_type": "execute_result",
          "data": {
            "text/plain": [
              "array(['female', 'unknown', 'male', 'non_binary', 'transgender',\n",
              "       'prefer_not_to_say', 'not_specified'], dtype=object)"
            ]
          },
          "metadata": {},
          "execution_count": 74
        }
      ]
    },
    {
      "cell_type": "code",
      "source": [
        "df_user['STATE'].nunique()"
      ],
      "metadata": {
        "colab": {
          "base_uri": "https://localhost:8080/"
        },
        "id": "SrVA3xkqow7j",
        "outputId": "1abd5b57-c6e5-414c-9b41-90b1b5984a80"
      },
      "execution_count": 75,
      "outputs": [
        {
          "output_type": "execute_result",
          "data": {
            "text/plain": [
              "52"
            ]
          },
          "metadata": {},
          "execution_count": 75
        }
      ]
    },
    {
      "cell_type": "code",
      "source": [
        "df_user['STATE'].unique()"
      ],
      "metadata": {
        "colab": {
          "base_uri": "https://localhost:8080/"
        },
        "id": "nyQXX1nCo7TV",
        "outputId": "c8ba7a17-5d6d-4933-8bb8-3a169a538155"
      },
      "execution_count": 76,
      "outputs": [
        {
          "output_type": "execute_result",
          "data": {
            "text/plain": [
              "array(['CA', 'PA', 'FL', 'NC', 'NY', 'IN', nan, 'OH', 'TX', 'NM', 'PR',\n",
              "       'CO', 'AZ', 'RI', 'MO', 'NJ', 'MA', 'TN', 'LA', 'NH', 'WI', 'IA',\n",
              "       'GA', 'VA', 'DC', 'KY', 'SC', 'MN', 'WV', 'DE', 'MI', 'IL', 'MS',\n",
              "       'WA', 'KS', 'CT', 'OR', 'UT', 'MD', 'OK', 'NE', 'NV', 'AL', 'AK',\n",
              "       'AR', 'HI', 'ME', 'ND', 'ID', 'WY', 'MT', 'SD', 'VT'], dtype=object)"
            ]
          },
          "metadata": {},
          "execution_count": 76
        }
      ]
    },
    {
      "cell_type": "code",
      "source": [
        "# Replace NaN values with 'unknown'\n",
        "df_user['STATE'] = df_user['STATE'].fillna('not available')\n",
        "\n",
        "# Display the updated DataFrame\n",
        "df_user['STATE'].unique()"
      ],
      "metadata": {
        "colab": {
          "base_uri": "https://localhost:8080/"
        },
        "id": "s_SrSvV6M4td",
        "outputId": "8ac9abf2-211e-44db-dfd0-371c9b6ab5b3"
      },
      "execution_count": 77,
      "outputs": [
        {
          "output_type": "execute_result",
          "data": {
            "text/plain": [
              "array(['CA', 'PA', 'FL', 'NC', 'NY', 'IN', 'not available', 'OH', 'TX',\n",
              "       'NM', 'PR', 'CO', 'AZ', 'RI', 'MO', 'NJ', 'MA', 'TN', 'LA', 'NH',\n",
              "       'WI', 'IA', 'GA', 'VA', 'DC', 'KY', 'SC', 'MN', 'WV', 'DE', 'MI',\n",
              "       'IL', 'MS', 'WA', 'KS', 'CT', 'OR', 'UT', 'MD', 'OK', 'NE', 'NV',\n",
              "       'AL', 'AK', 'AR', 'HI', 'ME', 'ND', 'ID', 'WY', 'MT', 'SD', 'VT'],\n",
              "      dtype=object)"
            ]
          },
          "metadata": {},
          "execution_count": 77
        }
      ]
    },
    {
      "cell_type": "markdown",
      "source": [
        "# **Checking Age Distribution**"
      ],
      "metadata": {
        "id": "a1kbgjt3pYzW"
      }
    },
    {
      "cell_type": "code",
      "source": [
        "bins = [0, 18, 35, 45, 55, 65, 75, 85, 95, 105, 120]  # Bin edges\n",
        "labels = ['0-18', '19-35', '36-45', '46-55', '56-65', '66-75', '76-85', '86-95', '96-105', '106-120']  # Labels for bins\n",
        "\n",
        "# Creating a new column for age categories\n",
        "df_user['AGE_CATEGORY'] = pd.cut(df_user['AGE'], bins=bins, labels=labels, right=False)\n",
        "\n",
        "# Counting user IDs in each age category\n",
        "age_distribution = df_user['AGE_CATEGORY'].value_counts()\n",
        "\n",
        "# Display the distribution\n",
        "print(age_distribution)\n",
        "\n",
        "# Get the age category with the maximum count\n",
        "max_age_category = age_distribution.idxmax()\n",
        "max_count = age_distribution.max()\n",
        "\n",
        "print(f\"The age category with the maximum count of user IDs is '{max_age_category}' with {max_count} users.\")"
      ],
      "metadata": {
        "colab": {
          "base_uri": "https://localhost:8080/"
        },
        "id": "qfI6mAZppcQt",
        "outputId": "af93baa5-7689-450c-f54e-732bac14d437"
      },
      "execution_count": 78,
      "outputs": [
        {
          "output_type": "stream",
          "name": "stdout",
          "text": [
            "AGE_CATEGORY\n",
            "19-35      37918\n",
            "36-45      23265\n",
            "46-55      15668\n",
            "56-65      10466\n",
            "66-75       5128\n",
            "0-18        2423\n",
            "76-85       1253\n",
            "86-95        130\n",
            "106-120       30\n",
            "96-105        21\n",
            "Name: count, dtype: int64\n",
            "The age category with the maximum count of user IDs is '19-35' with 37918 users.\n"
          ]
        }
      ]
    },
    {
      "cell_type": "markdown",
      "source": [
        "# **Identify Outliers in BIRTH_DATE**"
      ],
      "metadata": {
        "id": "jkIdqeO57lHU"
      }
    },
    {
      "cell_type": "code",
      "source": [
        "import matplotlib.pyplot as plt\n",
        "\n",
        "plt.figure(figsize=(10, 6))\n",
        "df_user['BIRTH_DATE'].hist(bins=50)\n",
        "plt.title('Distribution of Birth Dates')\n",
        "plt.xlabel('Birth Year')\n",
        "plt.ylabel('Frequency')\n",
        "plt.show()"
      ],
      "metadata": {
        "colab": {
          "base_uri": "https://localhost:8080/",
          "height": 564
        },
        "id": "ipJE3oUF7ndE",
        "outputId": "374e0ca8-6286-426d-87af-c34a067d86fb"
      },
      "execution_count": 79,
      "outputs": [
        {
          "output_type": "display_data",
          "data": {
            "text/plain": [
              "<Figure size 1000x600 with 1 Axes>"
            ],
            "image/png": "[encoded data removed]"
          },
          "metadata": {}
        }
      ]
    },
    {
      "cell_type": "markdown",
      "source": [
        "Checking Distribution through Box Plot"
      ],
      "metadata": {
        "id": "PVN41mbb-cSt"
      }
    },
    {
      "cell_type": "code",
      "source": [
        "df_user['birth_year'] = df_user['BIRTH_DATE'].dt.year\n",
        "\n",
        "plt.figure(figsize=(10, 6))\n",
        "df_user['birth_year'].plot(kind='box')\n",
        "plt.title('Box Plot of Birth Years')\n",
        "plt.show()"
      ],
      "metadata": {
        "colab": {
          "base_uri": "https://localhost:8080/",
          "height": 545
        },
        "id": "uHgagmIe-Xl3",
        "outputId": "01790027-6c00-4246-b2f3-457b9afe68b2"
      },
      "execution_count": 80,
      "outputs": [
        {
          "output_type": "display_data",
          "data": {
            "text/plain": [
              "<Figure size 1000x600 with 1 Axes>"
            ],
            "image/png": "[encoded data removed]"
          },
          "metadata": {}
        }
      ]
    },
    {
      "cell_type": "code",
      "source": [
        "df_user['BIRTH_DATE'].describe()\n"
      ],
      "metadata": {
        "colab": {
          "base_uri": "https://localhost:8080/",
          "height": 304
        },
        "id": "v6Nxj7mE7yCo",
        "outputId": "a2c734d5-62fc-47f2-b52f-0476af390baa"
      },
      "execution_count": 81,
      "outputs": [
        {
          "output_type": "execute_result",
          "data": {
            "text/plain": [
              "count                            96325\n",
              "mean     1984-09-01 22:55:26.015053248\n",
              "min                1900-01-01 00:00:00\n",
              "25%                1974-03-04 00:00:00\n",
              "50%                1985-10-25 00:00:00\n",
              "75%                1998-02-02 00:00:00\n",
              "max                2022-04-03 00:00:00\n",
              "Name: BIRTH_DATE, dtype: object"
            ],
            "text/html": [
              "<div>\n",
              "<style scoped>\n",
              "    .dataframe tbody tr th:only-of-type {\n",
              "        vertical-align: middle;\n",
              "    }\n",
              "\n",
              "    .dataframe tbody tr th {\n",
              "        vertical-align: top;\n",
              "    }\n",
              "\n",
              "    .dataframe thead th {\n",
              "        text-align: right;\n",
              "    }\n",
              "</style>\n",
              "<table border=\"1\" class=\"dataframe\">\n",
              "  <thead>\n",
              "    <tr style=\"text-align: right;\">\n",
              "      <th></th>\n",
              "      <th>BIRTH_DATE</th>\n",
              "    </tr>\n",
              "  </thead>\n",
              "  <tbody>\n",
              "    <tr>\n",
              "      <th>count</th>\n",
              "      <td>96325</td>\n",
              "    </tr>\n",
              "    <tr>\n",
              "      <th>mean</th>\n",
              "      <td>1984-09-01 22:55:26.015053248</td>\n",
              "    </tr>\n",
              "    <tr>\n",
              "      <th>min</th>\n",
              "      <td>1900-01-01 00:00:00</td>\n",
              "    </tr>\n",
              "    <tr>\n",
              "      <th>25%</th>\n",
              "      <td>1974-03-04 00:00:00</td>\n",
              "    </tr>\n",
              "    <tr>\n",
              "      <th>50%</th>\n",
              "      <td>1985-10-25 00:00:00</td>\n",
              "    </tr>\n",
              "    <tr>\n",
              "      <th>75%</th>\n",
              "      <td>1998-02-02 00:00:00</td>\n",
              "    </tr>\n",
              "    <tr>\n",
              "      <th>max</th>\n",
              "      <td>2022-04-03 00:00:00</td>\n",
              "    </tr>\n",
              "  </tbody>\n",
              "</table>\n",
              "</div><br><label><b>dtype:</b> object</label>"
            ]
          },
          "metadata": {},
          "execution_count": 81
        }
      ]
    },
    {
      "cell_type": "code",
      "source": [
        "# Setting reasonable thresholds for birth years (e.g., 1920 to 2023)\n",
        "lower_threshold = pd.Timestamp('1940-01-01')\n",
        "upper_threshold = pd.Timestamp('2023-01-01')\n",
        "\n",
        "# Identifying outliers outside of these thresholds\n",
        "outliers = df_user[(df_user['BIRTH_DATE'] < lower_threshold) | (df_user['BIRTH_DATE'] > upper_threshold)]\n",
        "\n",
        "outliers[['USER_ID']].nunique()\n"
      ],
      "metadata": {
        "colab": {
          "base_uri": "https://localhost:8080/",
          "height": 115
        },
        "id": "YIkSh3OT8BIa",
        "outputId": "085a3846-005e-4829-b338-e39b8fce1c39"
      },
      "execution_count": 96,
      "outputs": [
        {
          "output_type": "execute_result",
          "data": {
            "text/plain": [
              "USER_ID    152\n",
              "dtype: int64"
            ],
            "text/html": [
              "<div>\n",
              "<style scoped>\n",
              "    .dataframe tbody tr th:only-of-type {\n",
              "        vertical-align: middle;\n",
              "    }\n",
              "\n",
              "    .dataframe tbody tr th {\n",
              "        vertical-align: top;\n",
              "    }\n",
              "\n",
              "    .dataframe thead th {\n",
              "        text-align: right;\n",
              "    }\n",
              "</style>\n",
              "<table border=\"1\" class=\"dataframe\">\n",
              "  <thead>\n",
              "    <tr style=\"text-align: right;\">\n",
              "      <th></th>\n",
              "      <th>0</th>\n",
              "    </tr>\n",
              "  </thead>\n",
              "  <tbody>\n",
              "    <tr>\n",
              "      <th>USER_ID</th>\n",
              "      <td>152</td>\n",
              "    </tr>\n",
              "  </tbody>\n",
              "</table>\n",
              "</div><br><label><b>dtype:</b> int64</label>"
            ]
          },
          "metadata": {},
          "execution_count": 96
        }
      ]
    },
    {
      "cell_type": "markdown",
      "source": [
        "Dropping Outliers"
      ],
      "metadata": {
        "id": "tf7JXyKc_Jhj"
      }
    },
    {
      "cell_type": "code",
      "source": [
        "# Dropping outliers (birthdate year >1940)\n",
        "df_user = df_user[(df_user['BIRTH_DATE'] >= lower_threshold) & (df_user['BIRTH_DATE'] <= upper_threshold)]\n",
        "df_user.reset_index(drop=True, inplace=True)"
      ],
      "metadata": {
        "id": "-lPSf3IN8ZqB"
      },
      "execution_count": 83,
      "outputs": []
    },
    {
      "cell_type": "markdown",
      "source": [
        "# **Importing Transaction Table**"
      ],
      "metadata": {
        "id": "C6IPepvPs-aN"
      }
    },
    {
      "cell_type": "code",
      "source": [
        "# Reading the CSV file into a pandas DataFrame\n",
        "df_transaction = pd.read_csv('TRANSACTION_TAKEHOME.csv', na_values=['', ' ', 'NA', 'NULL','nan'])\n",
        "df_transaction.info()"
      ],
      "metadata": {
        "colab": {
          "base_uri": "https://localhost:8080/"
        },
        "id": "lOVlUrTadEbN",
        "outputId": "d4fbd825-49b1-40b4-f3b3-1a4458689b29"
      },
      "execution_count": 84,
      "outputs": [
        {
          "output_type": "stream",
          "name": "stdout",
          "text": [
            "<class 'pandas.core.frame.DataFrame'>\n",
            "RangeIndex: 50000 entries, 0 to 49999\n",
            "Data columns (total 8 columns):\n",
            " #   Column          Non-Null Count  Dtype  \n",
            "---  ------          --------------  -----  \n",
            " 0   RECEIPT_ID      50000 non-null  object \n",
            " 1   PURCHASE_DATE   50000 non-null  object \n",
            " 2   SCAN_DATE       50000 non-null  object \n",
            " 3   STORE_NAME      50000 non-null  object \n",
            " 4   USER_ID         50000 non-null  object \n",
            " 5   BARCODE         44238 non-null  float64\n",
            " 6   FINAL_QUANTITY  50000 non-null  object \n",
            " 7   FINAL_SALE      37500 non-null  float64\n",
            "dtypes: float64(2), object(6)\n",
            "memory usage: 3.1+ MB\n"
          ]
        }
      ]
    },
    {
      "cell_type": "markdown",
      "source": [
        "# **Updating data type for FINAL_QUANTITY, FINAL_SALE, PURCHASE_DATE, SCAN_DATE and BARCODE columns**"
      ],
      "metadata": {
        "id": "IcAy6387tRIK"
      }
    },
    {
      "cell_type": "code",
      "source": [
        "df_transaction['FINAL_QUANTITY'].replace(['zero', ''], 'NaN')\n",
        "df_transaction['FINAL_QUANTITY'] = pd.to_numeric(df_transaction['FINAL_QUANTITY'], errors='coerce')\n",
        "\n",
        "df_transaction['FINAL_SALE'].replace([''], '0')\n",
        "df_transaction['FINAL_SALE'] = pd.to_numeric(df_transaction['FINAL_SALE'], errors='coerce')\n",
        "\n",
        "df_transaction['PURCHASE_DATE'] = pd.to_datetime(df_transaction['PURCHASE_DATE'])\n",
        "\n",
        "df_transaction['SCAN_DATE'] = pd.to_datetime(df_transaction['SCAN_DATE'])\n",
        "\n",
        "# Convert BARCODE column to numeric (with NaNs)\n",
        "df_transaction['BARCODE'] = pd.to_numeric(df_transaction['BARCODE'], errors='coerce')\n",
        "\n",
        "# Convert to string while preserving NaNs\n",
        "df_transaction['BARCODE'] = df_transaction['BARCODE'].astype(str).replace('nan', pd.NA)\n",
        "\n",
        "df_transaction.info()"
      ],
      "metadata": {
        "colab": {
          "base_uri": "https://localhost:8080/"
        },
        "id": "GTglXbZLtYJ_",
        "outputId": "5c2715ab-f45c-47cc-bdc0-3076569cb968"
      },
      "execution_count": 85,
      "outputs": [
        {
          "output_type": "stream",
          "name": "stdout",
          "text": [
            "<class 'pandas.core.frame.DataFrame'>\n",
            "RangeIndex: 50000 entries, 0 to 49999\n",
            "Data columns (total 8 columns):\n",
            " #   Column          Non-Null Count  Dtype              \n",
            "---  ------          --------------  -----              \n",
            " 0   RECEIPT_ID      50000 non-null  object             \n",
            " 1   PURCHASE_DATE   50000 non-null  datetime64[ns]     \n",
            " 2   SCAN_DATE       50000 non-null  datetime64[ns, UTC]\n",
            " 3   STORE_NAME      50000 non-null  object             \n",
            " 4   USER_ID         50000 non-null  object             \n",
            " 5   BARCODE         44238 non-null  object             \n",
            " 6   FINAL_QUANTITY  37500 non-null  float64            \n",
            " 7   FINAL_SALE      37500 non-null  float64            \n",
            "dtypes: datetime64[ns, UTC](1), datetime64[ns](1), float64(2), object(4)\n",
            "memory usage: 3.1+ MB\n"
          ]
        }
      ]
    },
    {
      "cell_type": "markdown",
      "source": [
        "# **Checking for Null Values in Columns**"
      ],
      "metadata": {
        "id": "VRut-HYhTEkZ"
      }
    },
    {
      "cell_type": "code",
      "source": [
        "# Total number of rows\n",
        "total_rows_trans = len(df_transaction)\n",
        "\n",
        "# Count of null values in each column\n",
        "null_counts_trans = df_transaction.isnull().sum()\n",
        "\n",
        "# Percentage of null values\n",
        "null_percentage_trans = (null_counts_trans/ total_rows_trans) * 100\n",
        "formatted_percentage_trans = null_percentage_trans.map('{:.2f}%'.format)\n",
        "\n",
        "# DataFrame to display results\n",
        "null_summary_trans = pd.DataFrame({\n",
        "    'Null Count': null_counts_trans,\n",
        "    'Null Percentage': formatted_percentage_trans\n",
        "})\n",
        "\n",
        "# Summary for the Null records\n",
        "print(null_summary_trans)"
      ],
      "metadata": {
        "colab": {
          "base_uri": "https://localhost:8080/"
        },
        "id": "ANN4ymfzTKjW",
        "outputId": "fdc3350e-cc73-4e43-e4e8-fded1bd984d4"
      },
      "execution_count": 86,
      "outputs": [
        {
          "output_type": "stream",
          "name": "stdout",
          "text": [
            "                Null Count Null Percentage\n",
            "RECEIPT_ID               0           0.00%\n",
            "PURCHASE_DATE            0           0.00%\n",
            "SCAN_DATE                0           0.00%\n",
            "STORE_NAME               0           0.00%\n",
            "USER_ID                  0           0.00%\n",
            "BARCODE               5762          11.52%\n",
            "FINAL_QUANTITY       12500          25.00%\n",
            "FINAL_SALE           12500          25.00%\n"
          ]
        }
      ]
    },
    {
      "cell_type": "markdown",
      "source": [
        "Dropping rows where both FINAL_SALE and FINAL_QUANTITY are missing permanently, if any\n",
        "\n"
      ],
      "metadata": {
        "id": "-a0qFEzlQx8S"
      }
    },
    {
      "cell_type": "code",
      "source": [
        "df_transaction.dropna(subset=['FINAL_SALE', 'FINAL_QUANTITY'], how='all', inplace=True)"
      ],
      "metadata": {
        "id": "aZRABYEGQv7c"
      },
      "execution_count": 87,
      "outputs": []
    },
    {
      "cell_type": "code",
      "source": [
        "df_transaction.shape"
      ],
      "metadata": {
        "colab": {
          "base_uri": "https://localhost:8080/"
        },
        "id": "qY3wcGveQ8mf",
        "outputId": "b68b3902-0e0d-444b-d46b-c1aed55f1238"
      },
      "execution_count": 88,
      "outputs": [
        {
          "output_type": "execute_result",
          "data": {
            "text/plain": [
              "(50000, 8)"
            ]
          },
          "metadata": {},
          "execution_count": 88
        }
      ]
    },
    {
      "cell_type": "markdown",
      "source": [
        "# **Fill missing Final Quantity and Sales based on the average price per unity by Reciept ID and Barcode**"
      ],
      "metadata": {
        "id": "kDIKYK8yRuNu"
      }
    },
    {
      "cell_type": "code",
      "source": [
        "# Dropping records with NaN in sales and quantity\n",
        "price_per_unit_df = df_transaction.dropna(subset=['FINAL_QUANTITY', 'FINAL_SALE']).copy()\n",
        "\n",
        "# Calculating the average price per unit for each barcode and receipt_id\n",
        "avg_price_per_barcode = (\n",
        "    price_per_unit_df\n",
        "    .groupby(['BARCODE', 'RECEIPT_ID'], as_index=False)\n",
        "    .agg(avg_price=('FINAL_SALE', lambda x: x.sum() / price_per_unit_df.loc[x.index, 'FINAL_QUANTITY'].sum()))\n",
        ")\n",
        "\n",
        "# Merge average price back to the original DataFrame\n",
        "df_transaction = df_transaction.merge(avg_price_per_barcode, on=['BARCODE', 'RECEIPT_ID'], how='left')\n",
        "\n",
        "# Checking if avg_price column exists\n",
        "if 'avg_price' in df_transaction.columns:\n",
        "    # Fill missing FINAL_QUANTITY\n",
        "    mask_quantity = df_transaction['FINAL_QUANTITY'].isna() & df_transaction['FINAL_SALE'].notna()\n",
        "    df_transaction.loc[mask_quantity, 'FINAL_QUANTITY'] = df_transaction['FINAL_SALE'] / df_transaction['avg_price']\n",
        "\n",
        "    # Fill missing FINAL_SALE\n",
        "    mask_sale = df_transaction['FINAL_SALE'].isna() & df_transaction['FINAL_QUANTITY'].notna()\n",
        "    df_transaction.loc[mask_sale, 'FINAL_SALE'] = df_transaction['FINAL_QUANTITY'] * df_transaction['avg_price']\n",
        "else:\n",
        "    print(\"avg_price column not found after merging.\")\n",
        "\n",
        "# dropping the average price column\n",
        "df_transaction.drop(columns=['avg_price'], inplace=True, errors='ignore')\n"
      ],
      "metadata": {
        "id": "CWE1u-gRJ7xG"
      },
      "execution_count": 89,
      "outputs": []
    },
    {
      "cell_type": "markdown",
      "source": [
        "# **SQL Queries**"
      ],
      "metadata": {
        "id": "3tmrN3NH49Us"
      }
    },
    {
      "cell_type": "markdown",
      "source": [
        "Closed-ended questions:"
      ],
      "metadata": {
        "id": "qiPPwmj15Kdc"
      }
    },
    {
      "cell_type": "markdown",
      "source": [
        "**1). What are the top 5 brands by receipts scanned among users 21 and over?**\n",
        "\n",
        "Query Explanation:\n",
        "\n",
        "This SQL query retrieves the top 5 brands based on the number of receipts scanned by users aged 21 and older. It joins the user, transaction, and product tables to count the scanned receipts (RECEIPT_ID) for each brand, filtering out users under 21 and brands with empty names. The results are grouped by brand name and ordered in descending order by the count of receipts,\n",
        "\n",
        "Query Result:\n",
        "\n",
        "NERDS CANDY, DOVE, TRIDENT, SOUR PATCH KIDS and MEIJER are the top 5 brands amoung user above the age of 21."
      ],
      "metadata": {
        "id": "56O0R0O0rv2S"
      }
    },
    {
      "cell_type": "code",
      "source": [
        "sql_query_top_5_brands= \"Select p.BRAND, COUNT(t.RECEIPT_ID) as RECEIPT_SCANNED FROM df_user u JOIN df_transaction t on u.USER_ID = t.USER_ID JOIN df_products p on t.BARCODE=p.BARCODE where u.AGE>=21 and p.BRAND != '' GROUP BY 1 ORDER BY RECEIPT_SCANNED DESC LIMIT 5\"\n",
        "\n",
        "filtered_df = sqldf(sql_query_top_5_brands, locals())\n",
        "print(filtered_df)"
      ],
      "metadata": {
        "colab": {
          "base_uri": "https://localhost:8080/"
        },
        "id": "KtJDGPzVrsBv",
        "outputId": "996f4ee8-12cd-4156-9604-c536eaf85339"
      },
      "execution_count": 90,
      "outputs": [
        {
          "output_type": "stream",
          "name": "stdout",
          "text": [
            "             BRAND  RECEIPT_SCANNED\n",
            "0      NERDS CANDY                6\n",
            "1             DOVE                6\n",
            "2          TRIDENT                4\n",
            "3  SOUR PATCH KIDS                4\n",
            "4           MEIJER                4\n"
          ]
        }
      ]
    },
    {
      "cell_type": "markdown",
      "source": [
        "**2). What are the top 5 brands by sales among users that have had their account for at least six months?**\n",
        "\n",
        "Query Explanation:\n",
        "\n",
        "This SQL query identifies the top 5 brands by total sales for users who have had their accounts for at least six months. It first joins the product, transaction, and user tables to gather data on brands, sales, and user account creation dates. The query filters for users whose account creation date is older than six months and excludes any brands with empty names.Finally, it sums the final sales for each brand, grouping the results by brand name, and orders them in descending order by total sales'\n",
        "\n",
        "Query Result:\n",
        "\n",
        "CVS,TRIDENT,DOVE,COORS LIGHT and TRESEMMÉ drives highest sales respectively"
      ],
      "metadata": {
        "id": "TP9lRlTZzr6O"
      }
    },
    {
      "cell_type": "code",
      "source": [
        "sql_query_top_brands_six_month_old = \"select BRAND, sum(final_sale) as Final_Sale from (select p.BRAND,t.BARCODE, t.USER_ID, t.FINAL_SALE,u.CREATED_DATE from df_products p join df_transaction t on p.BARCODE = t.BARCODE join df_user u on t.USER_ID = u.USER_ID where u.CREATED_DATE <= DATE('now', '-6 months') ) t1 where BRAND != '' group by 1 order by final_sale desc limit 5\"\n",
        "\n",
        "# Execute the query\n",
        "\n",
        "filtered_df = sqldf(sql_query_top_brands_six_month_old , locals())\n",
        "print(filtered_df)"
      ],
      "metadata": {
        "colab": {
          "base_uri": "https://localhost:8080/"
        },
        "id": "SsIWXHDmzs9Z",
        "outputId": "768f55e9-3e41-4a37-a833-6f95738ddbcf"
      },
      "execution_count": 91,
      "outputs": [
        {
          "output_type": "stream",
          "name": "stdout",
          "text": [
            "         BRAND  Final_Sale\n",
            "0          CVS      144.00\n",
            "1         DOVE       61.82\n",
            "2      TRIDENT       46.72\n",
            "3  COORS LIGHT       34.96\n",
            "4     TRESEMMÉ       29.16\n"
          ]
        }
      ]
    },
    {
      "cell_type": "markdown",
      "source": [
        "**What is the percentage of sales in the Health & Wellness category by generation?**\n",
        "\n",
        "Query Explanation:\n",
        "\n",
        "This SQL query calculates the percentage of total sales in the Health & Wellness category by generation. It first creates a Common Table Expression (CTE) named total_HW_sales, which sums the final sales for all products in the Health & Wellness category. Then, it generates another CTE called sales_by_gen,which categorizes users into generations based on their age and sums their final sales for Health & Wellness products.Finally, the query calculates the percentage of sales for each generation by dividing the sales of each generation by the total Health & Wellness sales and formatting the result as a percentage.\n",
        "\n",
        "Query Result:\n",
        "\n",
        "Baby Boomers bring highest pecent of sales in Health and Wellness category."
      ],
      "metadata": {
        "id": "z5sCgr5Y2StT"
      }
    },
    {
      "cell_type": "code",
      "source": [
        "percentage_of_sales = \"with total_HW_sales as (select category_1, sum(final_sale) total_sales from df_products join df_transaction using(BARCODE) where category_1 = 'Health & Wellness' group by 1 ),sales_by_gen AS (SELECT CASE WHEN u.AGE BETWEEN 18 AND 25 THEN 'Gen Z' WHEN u.AGE BETWEEN 26 AND 40 THEN 'Millennials' WHEN u.AGE BETWEEN 41 AND 56 THEN 'Gen X' WHEN u.AGE BETWEEN 57 AND 75 THEN 'Baby Boomers'ELSE 'Silent Generation' END AS generation, SUM(t.FINAL_SALE) AS FINAL_SALE FROM df_products p JOIN df_transaction t ON p.BARCODE = t.BARCODE JOIN df_user u ON t.USER_ID = u.USER_ID WHERE p.CATEGORY_1 = 'Health & Wellness' GROUP BY generation)SELECT generation as GENERATION, ROUND((FINAL_SALE / total_HW_sales.total_sales) * 100, 2) || '%' AS PERCENTAGE_OF_SALES FROM sales_by_gen, total_HW_sales \"\n",
        "filtered_df = sqldf(percentage_of_sales, locals())\n",
        "print(filtered_df)"
      ],
      "metadata": {
        "colab": {
          "base_uri": "https://localhost:8080/"
        },
        "id": "JoaMnqRo3OJQ",
        "outputId": "884be57e-6c15-4577-dcc2-17adbbb45415"
      },
      "execution_count": 92,
      "outputs": [
        {
          "output_type": "stream",
          "name": "stdout",
          "text": [
            "          GENERATION PERCENTAGE_OF_SALES\n",
            "0       Baby Boomers               0.32%\n",
            "1              Gen X               0.18%\n",
            "2        Millennials               0.07%\n",
            "3  Silent Generation               0.01%\n"
          ]
        }
      ]
    },
    {
      "cell_type": "markdown",
      "source": [
        "**Open-ended questions:**"
      ],
      "metadata": {
        "id": "8Q-SzMQx5rQ6"
      }
    },
    {
      "cell_type": "markdown",
      "source": [
        "**Which is the leading brand in the Dips & Salsa category?**\n",
        "\n",
        "Query Explanation:\n",
        "\n",
        "This SQL query identifies the leading brand in the Dips & Salsa category by summing the final sales associated with each brand. It selects the category_2 and brand from the product table, joining it with the transaction table using the common BARCODE field. The query filters for entries where the category is Dips & Salsa and the brand is not null or empty. It groups the results by category and brand, orders them by the total final sales in descending order, and limits the output to the top result.\n",
        "\n",
        "Query Result:\n",
        "\n",
        "TOSTITOS is the leading brand in Dips & Salsa category."
      ],
      "metadata": {
        "id": "s9OGxYGB5vyq"
      }
    },
    {
      "cell_type": "code",
      "source": [
        "leading_dips_salsa = \"SELECT p.CATEGORY_2 as CATEGORY, p.BRAND, sum(t.FINAL_SALE) FINAL_SALE FROM df_transaction t join df_products p using(BARCODE) where p.CATEGORY_2 = 'Dips & Salsa' and (BRAND is not null and BRAND != '') group by 1,2 Order by FINAL_SALE DESC limit 1\"\n",
        "filtered_df = sqldf(leading_dips_salsa, locals())\n",
        "print(filtered_df)"
      ],
      "metadata": {
        "colab": {
          "base_uri": "https://localhost:8080/"
        },
        "id": "8CyJGJK85u0P",
        "outputId": "9ebcfbec-0056-47b6-8d93-98e835090368"
      },
      "execution_count": 93,
      "outputs": [
        {
          "output_type": "stream",
          "name": "stdout",
          "text": [
            "       CATEGORY     BRAND  FINAL_SALE\n",
            "0  Dips & Salsa  TOSTITOS       362.6\n"
          ]
        }
      ]
    },
    {
      "cell_type": "markdown",
      "source": [
        "**At what percent has Fetch grown year over year?**\n",
        "\n",
        "Query Explanation:\n",
        "\n",
        "This SQL query calculates the year-over-year (YoY) growth in account creation by first aggregating the total number of accounts created each year from the user table. It uses the STRFTIME function to extract the year from the CREATED_DATE column and groups the results by year. The outer query then\n",
        "computes the difference in the number of accounts created compared to the previous year using the LAG function. It also calculates the YoY growth percentage by comparing the current year's accounts created to the previous year's total\n",
        "\n",
        "Query Result:\n",
        "\n",
        "From the data provided, in the year 2023 and till September 2024, Fetch has seen decline in accounts created by users."
      ],
      "metadata": {
        "id": "VWPCynKT6-z1"
      }
    },
    {
      "cell_type": "code",
      "source": [
        "yoy_growth = \"WITH yearly_accounts AS (SELECT STRFTIME('%Y', CREATED_DATE) AS year, COUNT(USER_ID) AS accounts_created FROM df_user WHERE CREATED_DATE IS NOT NULL GROUP BY year ORDER BY year ASC) SELECT year, accounts_created, (accounts_created - LAG(accounts_created) OVER (ORDER BY year)) AS difference, (100.0 * (accounts_created - LAG(accounts_created) OVER (ORDER BY year)) / LAG(accounts_created) OVER (ORDER BY year)) AS yoy_growth FROM yearly_accounts\"\n",
        "filtered_df = sqldf(yoy_growth, locals())\n",
        "print(filtered_df)"
      ],
      "metadata": {
        "colab": {
          "base_uri": "https://localhost:8080/"
        },
        "id": "kByognyt6aGf",
        "outputId": "162c0c34-2f1f-488e-f678-22f18a13e22b"
      },
      "execution_count": 94,
      "outputs": [
        {
          "output_type": "stream",
          "name": "stdout",
          "text": [
            "    year  accounts_created  difference  yoy_growth\n",
            "0   2014                30         NaN         NaN\n",
            "1   2015                50        20.0   66.666667\n",
            "2   2016                69        19.0   38.000000\n",
            "3   2017               642       573.0  830.434783\n",
            "4   2018              2165      1523.0  237.227414\n",
            "5   2019              7089      4924.0  227.436490\n",
            "6   2020             16874      9785.0  138.030752\n",
            "7   2021             19138      2264.0   13.417091\n",
            "8   2022             26797      7659.0   40.019856\n",
            "9   2023             13342    -13455.0  -50.210844\n",
            "10  2024             10074     -3268.0  -24.494079\n"
          ]
        }
      ]
    },
    {
      "cell_type": "markdown",
      "source": [
        "**Who are Fetch’s power users?**\n",
        "\n",
        "Query Explanation:\n",
        "\n",
        "This SQL query identifies power users by categorizing them into age groups based on their age and counting the number of receipts scanned by each group. It uses a CASE statement to define age ranges (e.g., 'Under 20', '20-29', '30-39', etc.) and joins the transaction table with he user and products tables to gather relevant data. The results are grouped by age group and ordered by the receipt count in descending order.\n",
        "\n",
        "Query Result:\n",
        "\n",
        "From the data User above the age 60 are the power users i.e. those are the people who scanned more receipts compared to other age groups in the data"
      ],
      "metadata": {
        "id": "rOZipleSJXGg"
      }
    },
    {
      "cell_type": "code",
      "source": [
        "power_users = \"SELECT CASE WHEN u.AGE < 20 THEN 'Under 20' WHEN u.AGE BETWEEN 20 AND 29 THEN '20-29' WHEN u.AGE BETWEEN 30 AND 39 THEN '30-39' WHEN u.AGE BETWEEN 40 AND 49 THEN '40-49' WHEN u.AGE BETWEEN 50 AND 59 THEN '50-59' ELSE '60+' END AS age_group, COUNT(t.RECEIPT_ID) AS receipt_count FROM df_transaction t JOIN df_user u ON t.USER_ID = u.USER_ID JOIN df_products p ON t.BARCODE = p.BARCODE GROUP BY age_group ORDER BY receipt_count DESC\"\n",
        "filtered_df = sqldf(power_users, locals())\n",
        "print(filtered_df)"
      ],
      "metadata": {
        "colab": {
          "base_uri": "https://localhost:8080/"
        },
        "id": "XG1DrbvJZcqE",
        "outputId": "d79f448a-4de5-4399-fec5-a2d4b7ca5fb7"
      },
      "execution_count": 95,
      "outputs": [
        {
          "output_type": "stream",
          "name": "stdout",
          "text": [
            "  age_group  receipt_count\n",
            "0       60+             40\n",
            "1     40-49             38\n",
            "2     50-59             34\n",
            "3     30-39             30\n",
            "4     20-29              2\n"
          ]
        }
      ]
    }
  ]
}